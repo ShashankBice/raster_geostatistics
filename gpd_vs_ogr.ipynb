{
 "cells": [
  {
   "cell_type": "markdown",
   "metadata": {},
   "source": [
    "### This notebook is the first step to check whether geopandas can be used entirely for vector related raster clipping using pygeotools or not"
   ]
  },
  {
   "cell_type": "code",
   "execution_count": 1,
   "metadata": {},
   "outputs": [],
   "source": [
    "from pygeotools.lib import  geolib, malib, iolib, warplib\n",
    "import geopandas as gpd\n",
    "import matplotlib.pyplot as plt\n",
    "%matplotlib inline\n",
    "import ogr, gdal\n",
    "import shapely"
   ]
  },
  {
   "cell_type": "code",
   "execution_count": 2,
   "metadata": {},
   "outputs": [],
   "source": [
    "import rasterio, affine"
   ]
  },
  {
   "cell_type": "code",
   "execution_count": 50,
   "metadata": {},
   "outputs": [],
   "source": [
    "import numpy as np"
   ]
  },
  {
   "cell_type": "code",
   "execution_count": 3,
   "metadata": {},
   "outputs": [
    {
     "data": {
      "text/plain": [
       "20"
      ]
     },
     "execution_count": 3,
     "metadata": {},
     "output_type": "execute_result"
    }
   ],
   "source": [
    "iolib.cpu_count()"
   ]
  },
  {
   "cell_type": "code",
   "execution_count": 4,
   "metadata": {},
   "outputs": [],
   "source": [
    "shp_fn='data/Sikkim_kanchenjunga.shp'\n",
    "raster_fn='data/Rate_maps_Coregister-tile-0-last_inverted_ref.tif'\n",
    "shp_gdf=gpd.read_file(shp_fn)\n",
    "dh_ref_ma=iolib.fn_getma(raster_fn)"
   ]
  },
  {
   "cell_type": "code",
   "execution_count": 5,
   "metadata": {},
   "outputs": [
    {
     "data": {
      "text/plain": [
       "<matplotlib.axes._subplots.AxesSubplot at 0x7fbd1e651b38>"
      ]
     },
     "execution_count": 5,
     "metadata": {},
     "output_type": "execute_result"
    },
    {
     "data": {
      "image/png": "[encoded data removed]",
      "text/plain": [
       "<Figure size 432x288 with 1 Axes>"
      ]
     },
     "metadata": {
      "needs_background": "light"
     },
     "output_type": "display_data"
    }
   ],
   "source": [
    "shp_gdf.plot()"
   ]
  },
  {
   "cell_type": "code",
   "execution_count": 17,
   "metadata": {},
   "outputs": [
    {
     "data": {
      "text/html": [
       "<div>\n",
       "<style scoped>\n",
       "    .dataframe tbody tr th:only-of-type {\n",
       "        vertical-align: middle;\n",
       "    }\n",
       "\n",
       "    .dataframe tbody tr th {\n",
       "        vertical-align: top;\n",
       "    }\n",
       "\n",
       "    .dataframe thead th {\n",
       "        text-align: right;\n",
       "    }\n",
       "</style>\n",
       "<table border=\"1\" class=\"dataframe\">\n",
       "  <thead>\n",
       "    <tr style=\"text-align: right;\">\n",
       "      <th></th>\n",
       "      <th>RGIId</th>\n",
       "      <th>GLIMSId</th>\n",
       "      <th>BgnDate</th>\n",
       "      <th>EndDate</th>\n",
       "      <th>CenLon</th>\n",
       "      <th>CenLat</th>\n",
       "      <th>O1Region</th>\n",
       "      <th>O2Region</th>\n",
       "      <th>Area</th>\n",
       "      <th>Zmin</th>\n",
       "      <th>...</th>\n",
       "      <th>Lmax</th>\n",
       "      <th>Status</th>\n",
       "      <th>Connect</th>\n",
       "      <th>Form</th>\n",
       "      <th>TermType</th>\n",
       "      <th>Surging</th>\n",
       "      <th>Linkages</th>\n",
       "      <th>Name</th>\n",
       "      <th>orig_ogc_f</th>\n",
       "      <th>geometry</th>\n",
       "    </tr>\n",
       "  </thead>\n",
       "  <tbody>\n",
       "    <tr>\n",
       "      <th>0</th>\n",
       "      <td>RGI60-15.02846</td>\n",
       "      <td>G088140E27800N</td>\n",
       "      <td>20001108</td>\n",
       "      <td>-9999999</td>\n",
       "      <td>88.139674</td>\n",
       "      <td>27.799822</td>\n",
       "      <td>15</td>\n",
       "      <td>2</td>\n",
       "      <td>58.261</td>\n",
       "      <td>4601</td>\n",
       "      <td>...</td>\n",
       "      <td>21413</td>\n",
       "      <td>0</td>\n",
       "      <td>0</td>\n",
       "      <td>0</td>\n",
       "      <td>0</td>\n",
       "      <td>9</td>\n",
       "      <td>9</td>\n",
       "      <td>None</td>\n",
       "      <td>85334</td>\n",
       "      <td>POLYGON ((88.16059143000007 27.86790288700007,...</td>\n",
       "    </tr>\n",
       "  </tbody>\n",
       "</table>\n",
       "<p>1 rows × 24 columns</p>\n",
       "</div>"
      ],
      "text/plain": [
       "            RGIId         GLIMSId   BgnDate   EndDate     CenLon     CenLat  \\\n",
       "0  RGI60-15.02846  G088140E27800N  20001108  -9999999  88.139674  27.799822   \n",
       "\n",
       "  O1Region O2Region    Area  Zmin  \\\n",
       "0       15        2  58.261  4601   \n",
       "\n",
       "                         ...                           Lmax  Status  Connect  \\\n",
       "0                        ...                          21413       0        0   \n",
       "\n",
       "   Form  TermType  Surging  Linkages  Name  orig_ogc_f  \\\n",
       "0     0         0        9         9  None       85334   \n",
       "\n",
       "                                            geometry  \n",
       "0  POLYGON ((88.16059143000007 27.86790288700007,...  \n",
       "\n",
       "[1 rows x 24 columns]"
      ]
     },
     "execution_count": 17,
     "metadata": {},
     "output_type": "execute_result"
    }
   ],
   "source": [
    "shp_gdf"
   ]
  },
  {
   "cell_type": "code",
   "execution_count": 22,
   "metadata": {},
   "outputs": [],
   "source": [
    "geom_gdf=shp_gdf.geometry"
   ]
  },
  {
   "cell_type": "code",
   "execution_count": 20,
   "metadata": {},
   "outputs": [
    {
     "ename": "AttributeError",
     "evalue": "'GeoSeries' object has no attribute 'wkt'",
     "output_type": "error",
     "traceback": [
      "\u001b[0;31m---------------------------------------------------------------------------\u001b[0m",
      "\u001b[0;31mAttributeError\u001b[0m                            Traceback (most recent call last)",
      "\u001b[0;32m<ipython-input-20-dab8641809be>\u001b[0m in \u001b[0;36m<module>\u001b[0;34m()\u001b[0m\n\u001b[0;32m----> 1\u001b[0;31m \u001b[0mlinelyr\u001b[0m \u001b[0;34m=\u001b[0m \u001b[0mogr\u001b[0m\u001b[0;34m.\u001b[0m\u001b[0mCreateGeometryFromWkt\u001b[0m\u001b[0;34m(\u001b[0m\u001b[0mgeom_gdf\u001b[0m\u001b[0;34m.\u001b[0m\u001b[0mwkt\u001b[0m\u001b[0;34m)\u001b[0m\u001b[0;34m\u001b[0m\u001b[0m\n\u001b[0m",
      "\u001b[0;32m~/anaconda3/envs/himat_env/lib/python3.6/site-packages/pandas/core/generic.py\u001b[0m in \u001b[0;36m__getattr__\u001b[0;34m(self, name)\u001b[0m\n\u001b[1;32m   4374\u001b[0m             \u001b[0;32mif\u001b[0m \u001b[0mself\u001b[0m\u001b[0;34m.\u001b[0m\u001b[0m_info_axis\u001b[0m\u001b[0;34m.\u001b[0m\u001b[0m_can_hold_identifiers_and_holds_name\u001b[0m\u001b[0;34m(\u001b[0m\u001b[0mname\u001b[0m\u001b[0;34m)\u001b[0m\u001b[0;34m:\u001b[0m\u001b[0;34m\u001b[0m\u001b[0m\n\u001b[1;32m   4375\u001b[0m                 \u001b[0;32mreturn\u001b[0m \u001b[0mself\u001b[0m\u001b[0;34m[\u001b[0m\u001b[0mname\u001b[0m\u001b[0;34m]\u001b[0m\u001b[0;34m\u001b[0m\u001b[0m\n\u001b[0;32m-> 4376\u001b[0;31m             \u001b[0;32mreturn\u001b[0m \u001b[0mobject\u001b[0m\u001b[0;34m.\u001b[0m\u001b[0m__getattribute__\u001b[0m\u001b[0;34m(\u001b[0m\u001b[0mself\u001b[0m\u001b[0;34m,\u001b[0m \u001b[0mname\u001b[0m\u001b[0;34m)\u001b[0m\u001b[0;34m\u001b[0m\u001b[0m\n\u001b[0m\u001b[1;32m   4377\u001b[0m \u001b[0;34m\u001b[0m\u001b[0m\n\u001b[1;32m   4378\u001b[0m     \u001b[0;32mdef\u001b[0m \u001b[0m__setattr__\u001b[0m\u001b[0;34m(\u001b[0m\u001b[0mself\u001b[0m\u001b[0;34m,\u001b[0m \u001b[0mname\u001b[0m\u001b[0;34m,\u001b[0m \u001b[0mvalue\u001b[0m\u001b[0;34m)\u001b[0m\u001b[0;34m:\u001b[0m\u001b[0;34m\u001b[0m\u001b[0m\n",
      "\u001b[0;31mAttributeError\u001b[0m: 'GeoSeries' object has no attribute 'wkt'"
     ]
    }
   ],
   "source": [
    "linelyr = ogr.CreateGeometryFromWkt(geom_gdf.wkt)"
   ]
  },
  {
   "cell_type": "code",
   "execution_count": 9,
   "metadata": {},
   "outputs": [],
   "source": [
    "a=geolib.shp2geom(shp_fn)"
   ]
  },
  {
   "cell_type": "code",
   "execution_count": 23,
   "metadata": {},
   "outputs": [
    {
     "data": {
      "text/plain": [
       "<osgeo.ogr.Geometry; proxy of <Swig Object of type 'OGRGeometryShadow *' at 0x7fa7789ca300> >"
      ]
     },
     "execution_count": 23,
     "metadata": {},
     "output_type": "execute_result"
    }
   ],
   "source": [
    "a[0].Buffer(10)"
   ]
  },
  {
   "cell_type": "code",
   "execution_count": null,
   "metadata": {},
   "outputs": [],
   "source": []
  },
  {
   "cell_type": "markdown",
   "metadata": {},
   "source": [
    "##### The geopandas geometry is an object, while the one expected in pygeotools is an ogr geometry"
   ]
  },
  {
   "cell_type": "code",
   "execution_count": 21,
   "metadata": {},
   "outputs": [
    {
     "ename": "AttributeError",
     "evalue": "'list' object has no attribute 'Buffer'",
     "output_type": "error",
     "traceback": [
      "\u001b[0;31m---------------------------------------------------------------------------\u001b[0m",
      "\u001b[0;31mAttributeError\u001b[0m                            Traceback (most recent call last)",
      "\u001b[0;32m<ipython-input-21-69c6f106b5db>\u001b[0m in \u001b[0;36m<module>\u001b[0;34m()\u001b[0m\n\u001b[0;32m----> 1\u001b[0;31m \u001b[0ma\u001b[0m\u001b[0;34m.\u001b[0m\u001b[0mBuffer\u001b[0m\u001b[0;34m(\u001b[0m\u001b[0;36m10\u001b[0m\u001b[0;34m)\u001b[0m\u001b[0;34m\u001b[0m\u001b[0m\n\u001b[0m",
      "\u001b[0;31mAttributeError\u001b[0m: 'list' object has no attribute 'Buffer'"
     ]
    }
   ],
   "source": [
    "a.Buffer(10)"
   ]
  },
  {
   "cell_type": "code",
   "execution_count": 14,
   "metadata": {},
   "outputs": [],
   "source": [
    "ring = ogr.Geometry(ogr.wkbLinearRing)\n",
    "ring.AddPoint(1179091.1646903288, 712782.8838459781)\n",
    "ring.AddPoint(1161053.0218226474, 667456.2684348812)\n",
    "ring.AddPoint(1214704.933941905, 641092.8288590391)\n",
    "ring.AddPoint(1228580.428455506, 682719.3123998424)\n",
    "ring.AddPoint(1218405.0658121984, 721108.1805541387)\n",
    "ring.AddPoint(1179091.1646903288, 712782.8838459781)"
   ]
  },
  {
   "cell_type": "code",
   "execution_count": 15,
   "metadata": {},
   "outputs": [
    {
     "data": {
      "text/plain": [
       "<osgeo.ogr.Geometry; proxy of <Swig Object of type 'OGRGeometryShadow *' at 0x7fa7788ee060> >"
      ]
     },
     "execution_count": 15,
     "metadata": {},
     "output_type": "execute_result"
    }
   ],
   "source": [
    "ring"
   ]
  },
  {
   "cell_type": "code",
   "execution_count": 16,
   "metadata": {},
   "outputs": [],
   "source": [
    "hurri=ogr.Geometry(ogr.wkbPolygon)"
   ]
  },
  {
   "cell_type": "code",
   "execution_count": 17,
   "metadata": {},
   "outputs": [
    {
     "ename": "TypeError",
     "evalue": "in method 'Geometry_AddGeometry', argument 2 of type 'OGRGeometryShadow *'",
     "output_type": "error",
     "traceback": [
      "\u001b[0;31m---------------------------------------------------------------------------\u001b[0m",
      "\u001b[0;31mTypeError\u001b[0m                                 Traceback (most recent call last)",
      "\u001b[0;32m<ipython-input-17-496915d4dee0>\u001b[0m in \u001b[0;36m<module>\u001b[0;34m()\u001b[0m\n\u001b[0;32m----> 1\u001b[0;31m \u001b[0mhurri\u001b[0m\u001b[0;34m.\u001b[0m\u001b[0mAddGeometry\u001b[0m\u001b[0;34m(\u001b[0m\u001b[0mshp_gdf\u001b[0m\u001b[0;34m.\u001b[0m\u001b[0mgeometry\u001b[0m\u001b[0;34m)\u001b[0m\u001b[0;34m\u001b[0m\u001b[0m\n\u001b[0m",
      "\u001b[0;32m~/anaconda3/envs/himat_env/lib/python3.6/site-packages/osgeo/ogr.py\u001b[0m in \u001b[0;36mAddGeometry\u001b[0;34m(self, *args)\u001b[0m\n\u001b[1;32m   6271\u001b[0m     \u001b[0;32mdef\u001b[0m \u001b[0mAddGeometry\u001b[0m\u001b[0;34m(\u001b[0m\u001b[0mself\u001b[0m\u001b[0;34m,\u001b[0m \u001b[0;34m*\u001b[0m\u001b[0margs\u001b[0m\u001b[0;34m)\u001b[0m\u001b[0;34m:\u001b[0m\u001b[0;34m\u001b[0m\u001b[0m\n\u001b[1;32m   6272\u001b[0m         \u001b[0;34m\"\"\"AddGeometry(Geometry self, Geometry other) -> OGRErr\"\"\"\u001b[0m\u001b[0;34m\u001b[0m\u001b[0m\n\u001b[0;32m-> 6273\u001b[0;31m         \u001b[0;32mreturn\u001b[0m \u001b[0m_ogr\u001b[0m\u001b[0;34m.\u001b[0m\u001b[0mGeometry_AddGeometry\u001b[0m\u001b[0;34m(\u001b[0m\u001b[0mself\u001b[0m\u001b[0;34m,\u001b[0m \u001b[0;34m*\u001b[0m\u001b[0margs\u001b[0m\u001b[0;34m)\u001b[0m\u001b[0;34m\u001b[0m\u001b[0m\n\u001b[0m\u001b[1;32m   6274\u001b[0m \u001b[0;34m\u001b[0m\u001b[0m\n\u001b[1;32m   6275\u001b[0m \u001b[0;34m\u001b[0m\u001b[0m\n",
      "\u001b[0;31mTypeError\u001b[0m: in method 'Geometry_AddGeometry', argument 2 of type 'OGRGeometryShadow *'"
     ]
    }
   ],
   "source": [
    "hurri.AddGeometry(shp_gdf.geometry)"
   ]
  },
  {
   "cell_type": "markdown",
   "metadata": {},
   "source": [
    "### After three hours of skimming, it looks like staying in ogr mode is better for such operations....\n",
    "Proposed strategy\n",
    "Read the shapefile\n",
    "input only the dh on stable surfaces\n",
    "create a buffer geometry of given units\n",
    "geom2mask and extract the dh as masked array\n",
    "normal transform the masked array\n",
    "compute variogram\n",
    "do sequential gaussian simulations\n",
    "get per pixel mean and std as errors\n"
   ]
  },
  {
   "cell_type": "markdown",
   "metadata": {},
   "source": [
    "### Create a git repo tomorrow ----- Important"
   ]
  },
  {
   "cell_type": "markdown",
   "metadata": {},
   "source": [
    "##### We will create a new projected shapefile, so that we are able to do the manipulations in metre units"
   ]
  },
  {
   "cell_type": "code",
   "execution_count": 11,
   "metadata": {},
   "outputs": [],
   "source": [
    "shp_ds=ogr.Open(shp_fn,0)\n",
    "shp_lyr=shp_ds.GetLayer()\n",
    "reproj_ds=geolib.lyr_proj(shp_lyr,t_srs=geolib.hma_aea_srs)"
   ]
  },
  {
   "cell_type": "code",
   "execution_count": 12,
   "metadata": {},
   "outputs": [
    {
     "data": {
      "text/plain": [
       "<osgeo.ogr.DataSource; proxy of <Swig Object of type 'OGRDataSourceShadow *' at 0x7f4532c79e10> >"
      ]
     },
     "execution_count": 12,
     "metadata": {},
     "output_type": "execute_result"
    }
   ],
   "source": [
    "reproj_ds"
   ]
  },
  {
   "cell_type": "code",
   "execution_count": 13,
   "metadata": {},
   "outputs": [],
   "source": [
    "reproj_lyr=reproj_ds.GetLayer()\n",
    "reproj_feat=reproj_lyr.GetNextFeature()\n",
    "reproj_geom=geom = reproj_feat.GetGeometryRef()"
   ]
  },
  {
   "cell_type": "code",
   "execution_count": 14,
   "metadata": {},
   "outputs": [
    {
     "data": {
      "text/plain": [
       "<osgeo.ogr.Geometry; proxy of <Swig Object of type 'OGRGeometryShadow *' at 0x7f4532c799f0> >"
      ]
     },
     "execution_count": 14,
     "metadata": {},
     "output_type": "execute_result"
    }
   ],
   "source": [
    "reproj_geom"
   ]
  },
  {
   "cell_type": "code",
   "execution_count": null,
   "metadata": {},
   "outputs": [],
   "source": [
    "reproj_geom.Buffer()"
   ]
  },
  {
   "cell_type": "code",
   "execution_count": 23,
   "metadata": {},
   "outputs": [],
   "source": [
    "from pygeostatistics import normal_score_transform\n"
   ]
  },
  {
   "cell_type": "markdown",
   "metadata": {},
   "source": [
    "### compare rasterio outputs with pygeotools to check the degree of reverse engineetin required\n",
    "##### In particular, check the submodules :- \n",
    "###### filtlib should work except for the slope filter\n",
    "###### iolib is obviously different\n",
    "###### timelib should work\n",
    "###### warplib will need modifications\n",
    "###### geolib will neeed major modifications\n",
    "### As on 26th September, 2018"
   ]
  },
  {
   "cell_type": "code",
   "execution_count": 6,
   "metadata": {},
   "outputs": [],
   "source": [
    "rasterio_dataset= rasterio.open(raster_fn)\n",
    "pygeotools_dataset=iolib.fn_getds(raster_fn)"
   ]
  },
  {
   "cell_type": "code",
   "execution_count": 7,
   "metadata": {},
   "outputs": [],
   "source": [
    "gt_p=pygeotools_dataset.GetGeoTransform()\n",
    "gt_r=rasterio_dataset.transform"
   ]
  },
  {
   "cell_type": "code",
   "execution_count": 8,
   "metadata": {},
   "outputs": [
    {
     "data": {
      "text/plain": [
       "Affine(10.0, 0.0, 551333.3925950001,\n",
       "       0.0, -10.0, 3115850.7827000003)"
      ]
     },
     "execution_count": 8,
     "metadata": {},
     "output_type": "execute_result"
    }
   ],
   "source": [
    "rasterio_dataset.transform"
   ]
  },
  {
   "cell_type": "code",
   "execution_count": 9,
   "metadata": {},
   "outputs": [
    {
     "data": {
      "text/plain": [
       "(551333.3925950001, 10.0, 0.0, 3115850.7827000003, 0.0, -10.0)"
      ]
     },
     "execution_count": 9,
     "metadata": {},
     "output_type": "execute_result"
    }
   ],
   "source": [
    "gt_p"
   ]
  },
  {
   "cell_type": "code",
   "execution_count": 10,
   "metadata": {},
   "outputs": [
    {
     "data": {
      "text/plain": [
       "Affine(10.0, 0.0, 551333.3925950001,\n",
       "       0.0, -10.0, 3115850.7827000003)"
      ]
     },
     "execution_count": 10,
     "metadata": {},
     "output_type": "execute_result"
    }
   ],
   "source": [
    "gt_r"
   ]
  },
  {
   "cell_type": "markdown",
   "metadata": {},
   "source": [
    "##### To convert back and forth from the gdal tuple to affine transform\n",
    "https://www.perrygeo.com/python-affine-transforms.html"
   ]
  },
  {
   "cell_type": "code",
   "execution_count": 11,
   "metadata": {},
   "outputs": [],
   "source": [
    "gt_rp = gt_r.to_gdal()"
   ]
  },
  {
   "cell_type": "code",
   "execution_count": 12,
   "metadata": {},
   "outputs": [
    {
     "data": {
      "text/plain": [
       "(551333.3925950001, 10.0, 0.0, 3115850.7827000003, 0.0, -10.0)"
      ]
     },
     "execution_count": 12,
     "metadata": {},
     "output_type": "execute_result"
    }
   ],
   "source": [
    "gt_rp"
   ]
  },
  {
   "cell_type": "code",
   "execution_count": 13,
   "metadata": {},
   "outputs": [],
   "source": [
    "gt_pr=affine.Affine.from_gdal(*gt_p)"
   ]
  },
  {
   "cell_type": "code",
   "execution_count": 14,
   "metadata": {},
   "outputs": [
    {
     "data": {
      "text/plain": [
       "Affine(10.0, 0.0, 551333.3925950001,\n",
       "       0.0, -10.0, 3115850.7827000003)"
      ]
     },
     "execution_count": 14,
     "metadata": {},
     "output_type": "execute_result"
    }
   ],
   "source": [
    "gt_pr"
   ]
  },
  {
   "cell_type": "markdown",
   "metadata": {},
   "source": [
    "#### Reading data from rasterio as arrays or masked arrays"
   ]
  },
  {
   "cell_type": "raw",
   "metadata": {},
   "source": [
    "arraY"
   ]
  },
  {
   "cell_type": "code",
   "execution_count": 15,
   "metadata": {},
   "outputs": [],
   "source": [
    "array_rasterio=rasterio_dataset.read(1)"
   ]
  },
  {
   "cell_type": "code",
   "execution_count": 16,
   "metadata": {},
   "outputs": [
    {
     "data": {
      "text/plain": [
       "array([[3.4028235e+38, 3.4028235e+38, 3.4028235e+38, ..., 3.4028235e+38,\n",
       "        3.4028235e+38, 3.4028235e+38],\n",
       "       [3.4028235e+38, 3.4028235e+38, 3.4028235e+38, ..., 3.4028235e+38,\n",
       "        3.4028235e+38, 3.4028235e+38],\n",
       "       [3.4028235e+38, 3.4028235e+38, 3.4028235e+38, ..., 3.4028235e+38,\n",
       "        3.4028235e+38, 3.4028235e+38],\n",
       "       ...,\n",
       "       [3.4028235e+38, 3.4028235e+38, 3.4028235e+38, ..., 3.4028235e+38,\n",
       "        3.4028235e+38, 3.4028235e+38],\n",
       "       [3.4028235e+38, 3.4028235e+38, 3.4028235e+38, ..., 3.4028235e+38,\n",
       "        3.4028235e+38, 3.4028235e+38],\n",
       "       [3.4028235e+38, 3.4028235e+38, 3.4028235e+38, ..., 3.4028235e+38,\n",
       "        3.4028235e+38, 3.4028235e+38]], dtype=float32)"
      ]
     },
     "execution_count": 16,
     "metadata": {},
     "output_type": "execute_result"
    }
   ],
   "source": [
    "array_rasterio"
   ]
  },
  {
   "cell_type": "code",
   "execution_count": 17,
   "metadata": {},
   "outputs": [],
   "source": [
    "array_rasterio_masked=rasterio_dataset.read(1, masked=True)"
   ]
  },
  {
   "cell_type": "code",
   "execution_count": 18,
   "metadata": {},
   "outputs": [],
   "source": [
    "pygeotools_raster_masked=iolib.ds_getma(pygeotools_dataset)"
   ]
  },
  {
   "cell_type": "code",
   "execution_count": 19,
   "metadata": {},
   "outputs": [
    {
     "data": {
      "text/plain": [
       "(8653, 16353)"
      ]
     },
     "execution_count": 19,
     "metadata": {},
     "output_type": "execute_result"
    }
   ],
   "source": [
    "pygeotools_raster_masked.shape"
   ]
  },
  {
   "cell_type": "code",
   "execution_count": 20,
   "metadata": {},
   "outputs": [
    {
     "data": {
      "text/plain": [
       "(8653, 16353)"
      ]
     },
     "execution_count": 20,
     "metadata": {},
     "output_type": "execute_result"
    }
   ],
   "source": [
    "array_rasterio_masked.shape"
   ]
  },
  {
   "cell_type": "code",
   "execution_count": 21,
   "metadata": {},
   "outputs": [
    {
     "data": {
      "text/plain": [
       "-0.07533278900058527"
      ]
     },
     "execution_count": 21,
     "metadata": {},
     "output_type": "execute_result"
    }
   ],
   "source": [
    "array_rasterio_masked.mean()"
   ]
  },
  {
   "cell_type": "code",
   "execution_count": 22,
   "metadata": {},
   "outputs": [
    {
     "data": {
      "text/plain": [
       "-0.07533278900058527"
      ]
     },
     "execution_count": 22,
     "metadata": {},
     "output_type": "execute_result"
    }
   ],
   "source": [
    "pygeotools_raster_masked.mean()"
   ]
  },
  {
   "cell_type": "code",
   "execution_count": 23,
   "metadata": {},
   "outputs": [
    {
     "data": {
      "text/plain": [
       "-195.45059"
      ]
     },
     "execution_count": 23,
     "metadata": {},
     "output_type": "execute_result"
    }
   ],
   "source": [
    "pygeotools_raster_masked.min()"
   ]
  },
  {
   "cell_type": "code",
   "execution_count": 24,
   "metadata": {},
   "outputs": [
    {
     "data": {
      "text/plain": [
       "-195.45059"
      ]
     },
     "execution_count": 24,
     "metadata": {},
     "output_type": "execute_result"
    }
   ],
   "source": [
    "array_rasterio_masked.min()"
   ]
  },
  {
   "cell_type": "markdown",
   "metadata": {},
   "source": [
    "###### Clipping Possibility with Fiona"
   ]
  },
  {
   "cell_type": "code",
   "execution_count": 37,
   "metadata": {},
   "outputs": [],
   "source": [
    "import fiona"
   ]
  },
  {
   "cell_type": "code",
   "execution_count": 38,
   "metadata": {},
   "outputs": [],
   "source": [
    "with fiona.open(shp_fn, \"r\") as shapefile:\n",
    "    geoms = [feature[\"geometry\"] for feature in shapefile]\n"
   ]
  },
  {
   "cell_type": "code",
   "execution_count": 39,
   "metadata": {},
   "outputs": [
    {
     "data": {
      "text/plain": [
       "[{'type': 'Polygon',\n",
       "  'coordinates': [[(88.16059143000007, 27.86790288700007),\n",
       "    (88.16112835200005, 27.86785060300008),\n",
       "    (88.16166578300005, 27.867846077000024),\n",
       "    (88.16225695600008, 27.867841096000063),\n",
       "    (88.16279438700008, 27.86783656600005),\n",
       "    (88.16338505000004, 27.867783819000067),\n",
       "    (88.16366583600006, 27.867698002000054),\n",
       "    (88.16386425400003, 27.867774375000067),\n",
       "    (88.16439027800004, 27.867821826000068),\n",
       "    (88.16491574700007, 27.86781738800005),\n",
       "    (88.16543955000003, 27.867657290000068),\n",
       "    (88.16596279700008, 27.867445303000068),\n",
       "    (88.16630866300005, 27.867027251000025),\n",
       "    (88.16665508300008, 27.866661085000032),\n",
       "    (88.16665008100006, 27.86619410900005),\n",
       "    (88.16641209800008, 27.865780994000033),\n",
       "    (88.16588497300006, 27.865629779000074),\n",
       "    (88.16584990100006, 27.865619717000072),\n",
       "    (88.16599135700005, 27.86523027100003),\n",
       "    (88.16630971600006, 27.864845460000026),\n",
       "    (88.16662807300008, 27.864460648000033),\n",
       "    (88.16662756100004, 27.86441288800006),\n",
       "    (88.16769009900008, 27.863257539000074),\n",
       "    (88.16795419400006, 27.862825420000036),\n",
       "    (88.16837950800004, 27.862391934000073),\n",
       "    (88.16883217000003, 27.862347827000065),\n",
       "    (88.16888754700005, 27.86249090800004),\n",
       "    (88.16906770500003, 27.86295640000003),\n",
       "    (88.16907271700006, 27.863423375000025),\n",
       "    (88.16931126100008, 27.863888372000076),\n",
       "    (88.16960763500003, 27.864300986000046),\n",
       "    (88.17013364300004, 27.86434841500005),\n",
       "    (88.17077418800005, 27.864187306000076),\n",
       "    (88.17135690600009, 27.864078577000043),\n",
       "    (88.17188012300005, 27.863866569000038),\n",
       "    (88.17234439700007, 27.863603169000044),\n",
       "    (88.17228098900006, 27.863136690000033),\n",
       "    (88.17198405100004, 27.862672195000073),\n",
       "    (88.17162984900006, 27.86231196800003),\n",
       "    (88.17144968100007, 27.861846480000054),\n",
       "    (88.17144466000008, 27.86137950500006),\n",
       "    (88.17155640200008, 27.86091153700005),\n",
       "    (88.17160976100007, 27.86044406600007),\n",
       "    (88.17183826400003, 27.859975106000036),\n",
       "    (88.17236313600006, 27.859918755000024),\n",
       "    (88.17289024100006, 27.860069947000056),\n",
       "    (88.17341567100004, 27.860065478000024),\n",
       "    (88.17394110100008, 27.86006100700007),\n",
       "    (88.17452267500005, 27.859848493000072),\n",
       "    (88.17498692500004, 27.85958508500005),\n",
       "    (88.17504027000007, 27.859117612000034),\n",
       "    (88.17474389100005, 27.85870500900006),\n",
       "    (88.17421679100005, 27.858553825000058),\n",
       "    (88.17374751200003, 27.85835025500006),\n",
       "    (88.17321929700006, 27.858095294000066),\n",
       "    (88.17269108400006, 27.857840331000034),\n",
       "    (88.17250911100007, 27.85778813400003),\n",
       "    (88.17251482800003, 27.857738047000055),\n",
       "    (88.17303913000006, 27.85762980800007),\n",
       "    (88.17373968700008, 27.85762384900005),\n",
       "    (88.17426510600006, 27.85761937700005),\n",
       "    (88.17490896200007, 27.857769567000048),\n",
       "    (88.17543550000005, 27.85786886300008),\n",
       "    (88.17596147900008, 27.85791627100008),\n",
       "    (88.17648689800006, 27.85791179100005),\n",
       "    (88.17706957600006, 27.857803038000043),\n",
       "    (88.17753437200008, 27.85759150800004),\n",
       "    (88.17799916600006, 27.85737997600006),\n",
       "    (88.17834551600004, 27.857013782000024),\n",
       "    (88.17822370700009, 27.85654780400006),\n",
       "    (88.17804352200005, 27.856082325000045),\n",
       "    (88.17763150500008, 27.855774498000073),\n",
       "    (88.17710553600006, 27.855727096000066),\n",
       "    (88.17658068700007, 27.85578346500006),\n",
       "    (88.17605751800005, 27.855995489000065),\n",
       "    (88.17535865100007, 27.856157118000056),\n",
       "    (88.17483435800006, 27.85626536600006),\n",
       "    (88.17430950600004, 27.856321726000033),\n",
       "    (88.17372571500005, 27.856326695000064),\n",
       "    (88.17320030300004, 27.85633116400004),\n",
       "    (88.17290393900004, 27.855918557000052),\n",
       "    (88.17284053400004, 27.855452077000052),\n",
       "    (88.17266037300004, 27.854986591000056),\n",
       "    (88.17236401600007, 27.854573982000034),\n",
       "    (88.17200984000004, 27.854213755000046),\n",
       "    (88.17154058500006, 27.854010177000077),\n",
       "    (88.17095457600004, 27.853807588000052),\n",
       "    (88.17042806100005, 27.85370827400004),\n",
       "    (88.17006192900004, 27.85363921100003),\n",
       "    (88.17000482700007, 27.85358941800007),\n",
       "    (88.16995109100003, 27.85358987400008),\n",
       "    (88.16929806200005, 27.852831172000037),\n",
       "    (88.16956212700006, 27.85239904900004),\n",
       "    (88.16977245400005, 27.851967381000065),\n",
       "    (88.17009076200009, 27.85158256300008),\n",
       "    (88.17040906900007, 27.851197743000057),\n",
       "    (88.17056565600006, 27.850766531000033),\n",
       "    (88.17056052700008, 27.85028892500003),\n",
       "    (88.17034097500004, 27.849860903000035),\n",
       "    (88.17021847400008, 27.849754079000036),\n",
       "    (88.17026450600008, 27.84935081800006),\n",
       "    (88.17020111700003, 27.848884336000026),\n",
       "    (88.17019610400007, 27.84841736000004),\n",
       "    (88.17036621500006, 27.847948897000038),\n",
       "    (88.17071200500004, 27.847530836000033),\n",
       "    (88.17076536500008, 27.847063364000064),\n",
       "    (88.17076034900003, 27.846596387000034),\n",
       "    (88.17052239700007, 27.84618327800007),\n",
       "    (88.17028444600004, 27.845770168000058),\n",
       "    (88.16998812300005, 27.845357552000053),\n",
       "    (88.16980799200007, 27.844892060000063),\n",
       "    (88.16980298200008, 27.844425083000033),\n",
       "    (88.16979797100004, 27.84395810600006),\n",
       "    (88.16979296100004, 27.84349112900003),\n",
       "    (88.16972957800004, 27.84302464700005),\n",
       "    (88.16943326600006, 27.842612030000055),\n",
       "    (88.16907858400003, 27.842199907000065),\n",
       "    (88.16860883000004, 27.84194443000007),\n",
       "    (88.16819689400006, 27.841636571000038),\n",
       "    (88.16778496000006, 27.841328711000074),\n",
       "    (88.16737969500008, 27.841643487000056),\n",
       "    (88.16767599700006, 27.842056109000055),\n",
       "    (88.16785611300008, 27.84252160400007),\n",
       "    (88.16786111500005, 27.842988582000032),\n",
       "    (88.16739636100004, 27.84320007900004),\n",
       "    (88.16728461600007, 27.843668044000026),\n",
       "    (88.16728961600006, 27.844135021000056),\n",
       "    (88.16729461500006, 27.844601999000076),\n",
       "    (88.16706556700007, 27.84501906500003),\n",
       "    (88.16671921500006, 27.845385231000023),\n",
       "    (88.16637286000008, 27.845751397000072),\n",
       "    (88.16602650300007, 27.846117562000074),\n",
       "    (88.16603149800005, 27.846584540000038),\n",
       "    (88.16615379700005, 27.84710241700003),\n",
       "    (88.16633391600004, 27.847567914000024),\n",
       "    (88.16645566200003, 27.848033904000033),\n",
       "    (88.16649323500008, 27.848310479000077),\n",
       "    (88.16645525600006, 27.84831756600005),\n",
       "    (88.16602845400007, 27.848607763000075),\n",
       "    (88.16560216100004, 27.848945720000074),\n",
       "    (88.16512111100008, 27.849188608000077),\n",
       "    (88.16458377300006, 27.849193145000072),\n",
       "    (88.16409863900003, 27.849053944000048),\n",
       "    (88.16404490500008, 27.84905439700003),\n",
       "    (88.16392825800006, 27.84819561100005),\n",
       "    (88.16392315800005, 27.847718004000058),\n",
       "    (88.16397179100005, 27.847239944000023),\n",
       "    (88.16402042400006, 27.846761883000056),\n",
       "    (88.16401532500004, 27.846284276000063),\n",
       "    (88.16400971500008, 27.84575890800005),\n",
       "    (88.16395088400003, 27.84528175500003),\n",
       "    (88.16383832100007, 27.844805054000062),\n",
       "    (88.16356456600005, 27.844329712000047),\n",
       "    (88.16334505300006, 27.843901678000066),\n",
       "    (88.16323249500005, 27.84342497600005),\n",
       "    (88.16306671700005, 27.84299648800004),\n",
       "    (88.16284720900006, 27.84256845300007),\n",
       "    (88.16262770300006, 27.842140417000053),\n",
       "    (88.16230124800006, 27.841761046000045),\n",
       "    (88.16197428600003, 27.841333914000074),\n",
       "    (88.16170054800006, 27.840858568000044),\n",
       "    (88.16137410000005, 27.840479195000057),\n",
       "    (88.16099392500007, 27.840100274000065),\n",
       "    (88.16066748200006, 27.839720899000042),\n",
       "    (88.16039426100008, 27.839293311000063),\n",
       "    (88.16001409400008, 27.838914386000056),\n",
       "    (88.15979460700004, 27.838486345000035),\n",
       "    (88.15957512200004, 27.838058303000025),\n",
       "    (88.15946258700006, 27.837581598000043),\n",
       "    (88.15961920100005, 27.837150396000027),\n",
       "    (88.16015597200004, 27.837098119000075),\n",
       "    (88.16069325200004, 27.83709360200004),\n",
       "    (88.16123053100006, 27.837089082000034),\n",
       "    (88.16182153700004, 27.837084108000056),\n",
       "    (88.16235779800007, 27.836984062000056),\n",
       "    (88.16289456700008, 27.83693177500004),\n",
       "    (88.16343082600008, 27.83683172600007),\n",
       "    (88.16391611700004, 27.83664914900004),\n",
       "    (88.16535992000007, 27.836337799000034),\n",
       "    (88.16589617300008, 27.83623774000006),\n",
       "    (88.16643344700003, 27.836233200000038),\n",
       "    (88.16697021000004, 27.836180898000066),\n",
       "    (88.16750697200007, 27.83612859300007),\n",
       "    (88.16804424500003, 27.836124047000055),\n",
       "    (88.16858151800005, 27.836119499000063),\n",
       "    (88.16911981400006, 27.836210470000026),\n",
       "    (88.16955270600005, 27.836493392000023),\n",
       "    (88.17003881500005, 27.836728097000048),\n",
       "    (88.17041849600008, 27.837059233000048),\n",
       "    (88.17085139400007, 27.83734215100003),\n",
       "    (88.17123159200008, 27.837721045000023),\n",
       "    (88.17155857800003, 27.838148154000066),\n",
       "    (88.17183183800006, 27.838575719000062),\n",
       "    (88.17205137200006, 27.839003740000067),\n",
       "    (88.17237785100008, 27.839383087000044),\n",
       "    (88.17270433300007, 27.839762433000033),\n",
       "    (88.17292387300006, 27.84019045200006),\n",
       "    (88.17292901000008, 27.840668058000063),\n",
       "    (88.17293466200005, 27.84119342400004),\n",
       "    (88.17299352900005, 27.841670573000044),\n",
       "    (88.17315934400006, 27.842099048000023),\n",
       "    (88.17332516000005, 27.842527523000058),\n",
       "    (88.17365165500007, 27.842906866000078),\n",
       "    (88.17387120500007, 27.843334883000068),\n",
       "    (88.17414448800008, 27.84376244300006),\n",
       "    (88.17436404200004, 27.84419045900006),\n",
       "    (88.17463732900006, 27.844618017000073),\n",
       "    (88.17485688600004, 27.845046032000027),\n",
       "    (88.17518390900005, 27.845473131000062),\n",
       "    (88.17551041900003, 27.84585246900008),\n",
       "    (88.17578371500008, 27.846280025000056),\n",
       "    (88.17594954800006, 27.846708496000076),\n",
       "    (88.17606216600007, 27.847185185000058),\n",
       "    (88.17606731800004, 27.847662790000072),\n",
       "    (88.17612620400007, 27.84813993700004),\n",
       "    (88.17634577500007, 27.848567949000028),\n",
       "    (88.17656534800005, 27.848995960000025),\n",
       "    (88.17683865600009, 27.849423513000033),\n",
       "    (88.17705823300008, 27.84985152400003),\n",
       "    (88.17738476300008, 27.850230857000042),\n",
       "    (88.17776451400005, 27.850561970000058),\n",
       "    (88.17809104900005, 27.850941300000045),\n",
       "    (88.17825793200007, 27.851465289000032),\n",
       "    (88.17842378400007, 27.851893756000038),\n",
       "    (88.17853641800008, 27.85237044200005),\n",
       "    (88.17880974300004, 27.852797990000056),\n",
       "    (88.17924272600004, 27.85308087900006),\n",
       "    (88.17972893000007, 27.853315546000033),\n",
       "    (88.18016191700008, 27.853598431000023),\n",
       "    (88.18064760800007, 27.853785335000055),\n",
       "    (88.18103970500005, 27.85404150100004),\n",
       "    (88.18120477200006, 27.854398272000026),\n",
       "    (88.18136986300004, 27.85475509400004),\n",
       "    (88.18153495500007, 27.855111916000055),\n",
       "    (88.18170004900009, 27.85546873800007),\n",
       "    (88.18194574900008, 27.85582486900006),\n",
       "    (88.18219145000006, 27.85618099900006),\n",
       "    (88.18259758700003, 27.85646410700008),\n",
       "    (88.18292312000005, 27.85674790400003),\n",
       "    (88.18332692600006, 27.856816088000073),\n",
       "    (88.18381056100003, 27.856811938000078),\n",
       "    (88.18429419600005, 27.856807787000037),\n",
       "    (88.18477783000003, 27.856803634000073),\n",
       "    (88.18491371900006, 27.856778263000024),\n",
       "    (88.18507737600004, 27.85700606000006),\n",
       "    (88.18514178800007, 27.85708087300003),\n",
       "    (88.18542564300003, 27.85695166900007),\n",
       "    (88.18588966500005, 27.856670929000074),\n",
       "    (88.18635368400004, 27.856390189000024),\n",
       "    (88.18681845500004, 27.856178628000066),\n",
       "    (88.18743890000007, 27.855965725000033),\n",
       "    (88.18790366600007, 27.85575416100005),\n",
       "    (88.18836767700003, 27.855473413000027),\n",
       "    (88.18883243900007, 27.855261846000076),\n",
       "    (88.18921785200007, 27.85491258500008),\n",
       "    (88.18968261100008, 27.854701015000046),\n",
       "    (88.19014736700007, 27.854489443000034),\n",
       "    (88.19069222700006, 27.85448474100008),\n",
       "    (88.19123708600006, 27.854480038000077),\n",
       "    (88.19178194500006, 27.85447533200005),\n",
       "    (88.19232680400006, 27.854470623000054),\n",
       "    (88.19287317700008, 27.854604275000042),\n",
       "    (88.19341879400008, 27.854668744000037),\n",
       "    (88.19404300700006, 27.854801718000033),\n",
       "    (88.19466570400004, 27.85479632600004),\n",
       "    (88.19520904600006, 27.854653245000065),\n",
       "    (88.19567379100005, 27.854441655000073),\n",
       "    (88.19621789000007, 27.85436775000005),\n",
       "    (88.19676350700007, 27.854432205000023),\n",
       "    (88.19723280800008, 27.85463569600006),\n",
       "    (88.19765024000003, 27.85481669400008),\n",
       "    (88.19787514800004, 27.85435482200006),\n",
       "    (88.19787001500003, 27.853887850000035),\n",
       "    (88.19792325900005, 27.853420371000027),\n",
       "    (88.19791755600005, 27.852901514000052),\n",
       "    (88.19808755300005, 27.85243302200007),\n",
       "    (88.19819803100006, 27.851861264000036),\n",
       "    (88.19825127400009, 27.851393786000074),\n",
       "    (88.19836289100004, 27.850925800000027),\n",
       "    (88.19847450800006, 27.850457814000038),\n",
       "    (88.19846937300008, 27.849990842000068),\n",
       "    (88.19852261400007, 27.84952336300006),\n",
       "    (88.19869260300004, 27.84905487000003),\n",
       "    (88.19880421700003, 27.848586884000042),\n",
       "    (88.19879908100006, 27.848119912000072),\n",
       "    (88.19885174900008, 27.84760054700007),\n",
       "    (88.19884661300006, 27.847133575000043),\n",
       "    (88.19878310400009, 27.846667111000045),\n",
       "    (88.19854504700004, 27.846254053000052),\n",
       "    (88.19853991300005, 27.845787081000026),\n",
       "    (88.19865152400007, 27.845319095000036),\n",
       "    (88.19887930900006, 27.844798208000043),\n",
       "    (88.19907508600005, 27.844569897000042),\n",
       "    (88.19915281800007, 27.844499437000024),\n",
       "    (88.19955264600009, 27.84420937400006),\n",
       "    (88.19995247200006, 27.843919310000047),\n",
       "    (88.20035229600006, 27.843629244000056),\n",
       "    (88.20075211800008, 27.843339177000075),\n",
       "    (88.20107134200003, 27.84304981100007),\n",
       "    (88.20139056500005, 27.842760444000078),\n",
       "    (88.20162840200004, 27.842400138000073),\n",
       "    (88.20178564300005, 27.842040534000034),\n",
       "    (88.20194288300007, 27.841680929000063),\n",
       "    (88.20201952800005, 27.841322027000047),\n",
       "    (88.20217676700008, 27.840962422000075),\n",
       "    (88.20225341100007, 27.84060351900007),\n",
       "    (88.20224867100006, 27.840173678000042),\n",
       "    (88.20216412900004, 27.839816179000024),\n",
       "    (88.20199899600004, 27.839459383000076),\n",
       "    (88.20191445500006, 27.83910188400006),\n",
       "    (88.20174932300006, 27.838745087000063),\n",
       "    (88.20142300900005, 27.838389693000067),\n",
       "    (88.20117728900004, 27.83803359600006),\n",
       "    (88.20085176800006, 27.83774984100006),\n",
       "    (88.20044644600006, 27.837538426000037),\n",
       "    (88.20004191400005, 27.83739865000007),\n",
       "    (88.19963738300004, 27.837258873000053),\n",
       "    (88.19923285300007, 27.83711909400006),\n",
       "    (88.19882832400003, 27.836979315000065),\n",
       "    (88.19834478000007, 27.836983514000053),\n",
       "    (88.19826991500008, 27.836970879000035),\n",
       "    (88.19826785600009, 27.836968012000057),\n",
       "    (88.19785585900007, 27.83666024400003),\n",
       "    (88.19750109200004, 27.836248196000042),\n",
       "    (88.19708910000008, 27.835940426000036),\n",
       "    (88.19667711000005, 27.83563265300006),\n",
       "    (88.19620675500005, 27.83532538600008),\n",
       "    (88.19573697200008, 27.835070003000055),\n",
       "    (88.19520939200004, 27.83486700900005),\n",
       "    (88.19474018100004, 27.834663508000062),\n",
       "    (88.19427040400006, 27.834408120000035),\n",
       "    (88.19380119600004, 27.834204615000033),\n",
       "    (88.19338922200006, 27.83389683300004),\n",
       "    (88.19292001900004, 27.83369332600006),\n",
       "    (88.19233465100007, 27.833542711000064),\n",
       "    (88.19186545100007, 27.83333920000007),\n",
       "    (88.19168525000003, 27.832873738000046),\n",
       "    (88.19162178200008, 27.832407268000054),\n",
       "    (88.19149994900005, 27.83194130100003),\n",
       "    (88.19137811800005, 27.83147533500005),\n",
       "    (88.19125628700004, 27.831009368000025),\n",
       "    (88.19095936300005, 27.83054491200005),\n",
       "    (88.19072137200004, 27.830131837000067),\n",
       "    (88.19048338400006, 27.829718763000074),\n",
       "    (88.19024539700007, 27.829305688000034),\n",
       "    (88.18989124900008, 27.828945504000046),\n",
       "    (88.18953710400007, 27.82858532000006),\n",
       "    (88.18929855800008, 27.828120357000046),\n",
       "    (88.18911837700006, 27.827654890000076),\n",
       "    (88.18893819800007, 27.82718942300005),\n",
       "    (88.18858406200007, 27.826829236000037),\n",
       "    (88.18828772600006, 27.826416660000064),\n",
       "    (88.18793359500006, 27.826056470000026),\n",
       "    (88.18740550800004, 27.82580155900007),\n",
       "    (88.18687742300006, 27.82554664500003),\n",
       "    (88.18662594200003, 27.82552399000008),\n",
       "    (88.18634990500004, 27.825343615000065),\n",
       "    (88.18582295300007, 27.825192470000047),\n",
       "    (88.18535380100008, 27.82498893500008),\n",
       "    (88.18488408700006, 27.824733512000023),\n",
       "    (88.18441381200006, 27.82442620100005),\n",
       "    (88.18394410200005, 27.824170775000027),\n",
       "    (88.18353219400007, 27.82386296100003),\n",
       "    (88.18300806500008, 27.823971235000045),\n",
       "    (88.18277911800004, 27.824388326000076),\n",
       "    (88.18272581800005, 27.82485580200006),\n",
       "    (88.18273144200003, 27.825374664000037),\n",
       "    (88.18273650400005, 27.82584164000008),\n",
       "    (88.18274156600006, 27.826308616000063),\n",
       "    (88.18274719100003, 27.82682747900003),\n",
       "    (88.18275337800009, 27.82739822700006),\n",
       "    (88.18275652800008, 27.827688790000025),\n",
       "    (88.18252667300004, 27.82802286200007),\n",
       "    (88.18212318600007, 27.828493337000054),\n",
       "    (88.18171857200008, 27.828860039000062),\n",
       "    (88.18131339300004, 27.82917485300004),\n",
       "    (88.18090821200008, 27.82948966600003),\n",
       "    (88.18050302900008, 27.829804478000028),\n",
       "    (88.18041259700004, 27.829876200000058),\n",
       "    (88.18027902600005, 27.829667220000033),\n",
       "    (88.17984613500005, 27.82938433100003),\n",
       "    (88.17936107200006, 27.829245181000033),\n",
       "    (88.17882280300006, 27.829154249000055),\n",
       "    (88.17828401900005, 27.82901555500007),\n",
       "    (88.17779896000008, 27.828876399000023),\n",
       "    (88.17726172500005, 27.828880982000044),\n",
       "    (88.17672448900004, 27.82888556300003),\n",
       "    (88.17618725300008, 27.828890142000034),\n",
       "    (88.17565001700007, 27.828894718000072),\n",
       "    (88.17511278200004, 27.828899293000063),\n",
       "    (88.17452182200003, 27.828904323000074),\n",
       "    (88.17398407200005, 27.828861132000043),\n",
       "    (88.17355120000008, 27.82857822300008),\n",
       "    (88.17317154100004, 27.82824709500005),\n",
       "    (88.17273867400007, 27.827964182000073),\n",
       "    (88.17220144200007, 27.827968745000078),\n",
       "    (88.17166472300005, 27.828021067000066),\n",
       "    (88.17112749000006, 27.828025626000056),\n",
       "    (88.17059025800006, 27.828030183000067),\n",
       "    (88.17000032600004, 27.828130715000043),\n",
       "    (88.16946309300005, 27.82813526700005),\n",
       "    (88.16898111800003, 27.82828264500006),\n",
       "    (88.16850016500007, 27.828525542000023),\n",
       "    (88.16796344100004, 27.828577850000045),\n",
       "    (88.16742620500008, 27.828582394000023),\n",
       "    (88.16683626700006, 27.828682912000033),\n",
       "    (88.16629954100006, 27.828735214000062),\n",
       "    (88.16570909100005, 27.82878796600005),\n",
       "    (88.16522710800007, 27.828935331000025),\n",
       "    (88.16474563300005, 27.82913045500004),\n",
       "    (88.16420941300004, 27.82923050900007),\n",
       "    (88.16367268300007, 27.829282800000044),\n",
       "    (88.16313595200006, 27.82933508900004),\n",
       "    (88.16254498800004, 27.829340067000032),\n",
       "    (88.16200825600004, 27.829392351000024),\n",
       "    (88.16147152300005, 27.829444634000026),\n",
       "    (88.16088055800003, 27.829449605000036),\n",
       "    (88.16029060800008, 27.829550096000048),\n",
       "    (88.15964693300003, 27.82965103500004),\n",
       "    (88.15916544400005, 27.82984614000003),\n",
       "    (88.15868395400008, 27.83004124300004),\n",
       "    (88.15820296900006, 27.83028410600008),\n",
       "    (88.15772198200006, 27.830526967000026),\n",
       "    (88.15718574800007, 27.830626994000056),\n",
       "    (88.15664900600007, 27.830679258000032),\n",
       "    (88.15605803300008, 27.830684208000037),\n",
       "    (88.15552179600007, 27.830784229000074),\n",
       "    (88.15498454700008, 27.830788725000048),\n",
       "    (88.15444729800004, 27.830793220000032),\n",
       "    (88.15391004900005, 27.83079771200005),\n",
       "    (88.15331856900008, 27.830754890000037),\n",
       "    (88.15272759500004, 27.830759827000065),\n",
       "    (88.15219034600005, 27.83076431300003),\n",
       "    (88.15170530800003, 27.83062506500005),\n",
       "    (88.15121976800003, 27.83043805400007),\n",
       "    (88.15073473300004, 27.830298803000062),\n",
       "    (88.15019647800005, 27.830207759000075),\n",
       "    (88.15009588500004, 27.830333388000042),\n",
       "    (88.14967924900003, 27.829917085000034),\n",
       "    (88.14900698900004, 27.829501186000073),\n",
       "    (88.14852145800006, 27.829314166000074),\n",
       "    (88.14803643100004, 27.82917490500006),\n",
       "    (88.14755040100005, 27.828940120000027),\n",
       "    (88.14738486500005, 27.82887921300005),\n",
       "    (88.14608981400005, 27.827996948000077),\n",
       "    (88.14565701500004, 27.827713949000042),\n",
       "    (88.14522371700008, 27.827383187000066),\n",
       "    (88.14473770000006, 27.827148392000026),\n",
       "    (88.14430440700005, 27.826817627000025),\n",
       "    (88.14392484000007, 27.826486415000034),\n",
       "    (88.14354477400008, 27.826107442000023),\n",
       "    (88.14316521100005, 27.825776228000052),\n",
       "    (88.14278565100005, 27.825445013000035),\n",
       "    (88.14245931500005, 27.825065591000055),\n",
       "    (88.14207975900007, 27.82473437400006),\n",
       "    (88.14202553700005, 27.824687057000062),\n",
       "    (88.14120771700004, 27.823547451000024),\n",
       "    (88.14104205700005, 27.823118932000057),\n",
       "    (88.14087639900004, 27.822690412000043),\n",
       "    (88.14065702100004, 27.82226233700004),\n",
       "    (88.14054458700008, 27.821785611000053),\n",
       "    (88.14048587500008, 27.82130844200003),\n",
       "    (88.14042716300008, 27.820831273000067),\n",
       "    (88.14042217200006, 27.820353660000023),\n",
       "    (88.14036346200004, 27.81987649100006),\n",
       "    (88.14030425300007, 27.819351561000076),\n",
       "    (88.14029926300003, 27.818873948000032),\n",
       "    (88.14029876400008, 27.818826186000024),\n",
       "    (88.14050365900005, 27.817869186000053),\n",
       "    (88.14049866800008, 27.817391572000076),\n",
       "    (88.14054739600004, 27.816913516000056),\n",
       "    (88.14059612400007, 27.816435459000047),\n",
       "    (88.14069856900005, 27.815956958000072),\n",
       "    (88.14074729500004, 27.815478901000063),\n",
       "    (88.14090345600005, 27.814999957000055),\n",
       "    (88.14111383300008, 27.814568329000053),\n",
       "    (88.14137792400004, 27.814136258000076),\n",
       "    (88.14142664700006, 27.813658200000077),\n",
       "    (88.14142165300007, 27.813180587000033),\n",
       "    (88.14141666000006, 27.812702974000047),\n",
       "    (88.14146538200004, 27.812224917000037),\n",
       "    (88.14140667300006, 27.811747747000027),\n",
       "    (88.14134654000009, 27.81159972200004),\n",
       "    (88.14142410900007, 27.811405395000065),\n",
       "    (88.14141911600007, 27.810927781000032),\n",
       "    (88.14141412300006, 27.810450168000045),\n",
       "    (88.14140913000006, 27.80997255400007),\n",
       "    (88.14140413700005, 27.809494941000025),\n",
       "    (88.14139914400005, 27.80901732700005),\n",
       "    (88.14128672300006, 27.80854060200005),\n",
       "    (88.14128173100005, 27.808062988000074),\n",
       "    (88.14127673900003, 27.80758537500003),\n",
       "    (88.14127174700008, 27.807107761000054),\n",
       "    (88.14132046800006, 27.806629703000056),\n",
       "    (88.14142290300003, 27.806151202000024),\n",
       "    (88.14152533600009, 27.80567270000006),\n",
       "    (88.14162776900008, 27.805194199000027),\n",
       "    (88.14173020000004, 27.804715697000063),\n",
       "    (88.14183263100006, 27.80423719500004),\n",
       "    (88.14188135000006, 27.803759137000043),\n",
       "    (88.14193006800008, 27.803281079000044),\n",
       "    (88.14197878500005, 27.802803021000045),\n",
       "    (88.14218913500008, 27.802371393000044),\n",
       "    (88.14239948400007, 27.801939763000064),\n",
       "    (88.14244819900006, 27.801461705000065),\n",
       "    (88.14254662800005, 27.800601112000038),\n",
       "    (88.14254612800005, 27.80055335000003),\n",
       "    (88.14259484200005, 27.80007529200003),\n",
       "    (88.14258934600008, 27.799549917000036),\n",
       "    (88.14258435100004, 27.79907230300006),\n",
       "    (88.14247193600005, 27.79859557700007),\n",
       "    (88.14241323200008, 27.79811840700006),\n",
       "    (88.14240823700004, 27.797640793000028),\n",
       "    (88.14240274300005, 27.797115418000033),\n",
       "    (88.14245145700005, 27.796637359000044),\n",
       "    (88.14239225400007, 27.79611242800007),\n",
       "    (88.14233355200008, 27.79563525800006),\n",
       "    (88.14227485100008, 27.79515808700006),\n",
       "    (88.14221615000008, 27.79468091700005),\n",
       "    (88.14221115600003, 27.794203303000074),\n",
       "    (88.14209425600006, 27.793296723000026),\n",
       "    (88.14209325800005, 27.793201200000055),\n",
       "    (88.14208826500004, 27.79272358600008),\n",
       "    (88.14208327300008, 27.792245971000057),\n",
       "    (88.14213198700008, 27.791767913000058),\n",
       "    (88.14218070000004, 27.79128985400007),\n",
       "    (88.14217570800008, 27.790812240000037),\n",
       "    (88.14217071600007, 27.79033462500007),\n",
       "    (88.14216572400005, 27.78985701000005),\n",
       "    (88.14209904000006, 27.788615656000047),\n",
       "    (88.14209854100005, 27.78856789400004),\n",
       "    (88.14209305100007, 27.788042518000054),\n",
       "    (88.14203435500008, 27.787565347000054),\n",
       "    (88.14202936400005, 27.787087732000032),\n",
       "    (88.14186376200007, 27.78665921000004),\n",
       "    (88.14180506900004, 27.78618203900004),\n",
       "    (88.14190299400008, 27.78527368300007),\n",
       "    (88.14195669700007, 27.78527323900005),\n",
       "    (88.14232912200004, 27.784935801000074),\n",
       "    (88.14275574700008, 27.78464568000004),\n",
       "    (88.14323657100005, 27.78440287500007),\n",
       "    (88.14382579700003, 27.784254702000055),\n",
       "    (88.14436181900004, 27.784154732000047),\n",
       "    (88.14484363800005, 27.784007445000043),\n",
       "    (88.14532445500004, 27.783764632000043),\n",
       "    (88.14586097400007, 27.78371241900004),\n",
       "    (88.14639699100007, 27.78361244200005),\n",
       "    (88.14687880400004, 27.783465147000072),\n",
       "    (88.14741482000005, 27.783365166000067),\n",
       "    (88.14795133500007, 27.783312945000034),\n",
       "    (88.14848835200007, 27.78330848300004),\n",
       "    (88.14902536900007, 27.783304018000024),\n",
       "    (88.14956238600007, 27.783299552000074),\n",
       "    (88.15004720800005, 27.783438815000068),\n",
       "    (88.15053253400004, 27.783625837000045),\n",
       "    (88.15101937100007, 27.78395614200008),\n",
       "    (88.15150621100008, 27.78428644400003),\n",
       "    (88.15193884800004, 27.78456943200007),\n",
       "    (88.15237148700004, 27.78485241800007),\n",
       "    (88.15269773100005, 27.785231821000025),\n",
       "    (88.15307717600007, 27.785563014000047),\n",
       "    (88.15351032600006, 27.785893757000053),\n",
       "    (88.15394297500006, 27.78617673800005),\n",
       "    (88.15426922800003, 27.786556137000048),\n",
       "    (88.15464868200007, 27.786887325000066),\n",
       "    (88.15502813900008, 27.787218512000038),\n",
       "    (88.15540759800007, 27.787549698000078),\n",
       "    (88.15584025800007, 27.787832672000036),\n",
       "    (88.15621972100007, 27.78816385600004),\n",
       "    (88.15659918700004, 27.788495038000065),\n",
       "    (88.15676484900007, 27.78892354100003),\n",
       "    (88.15693051300008, 27.789352043000065),\n",
       "    (88.15709617800007, 27.789780545000042),\n",
       "    (88.15752885100005, 27.790063513000064),\n",
       "    (88.15801472500004, 27.79029826900006),\n",
       "    (88.15839420400005, 27.790629446000025),\n",
       "    (88.15887957600006, 27.790816437000046),\n",
       "    (88.15931225800006, 27.791099400000064),\n",
       "    (88.15974494100004, 27.791382361000046),\n",
       "    (88.16023031900005, 27.791569348000053),\n",
       "    (88.16071569800005, 27.791756332000034),\n",
       "    (88.16092840500005, 27.791895432000047),\n",
       "    (88.16198726100004, 27.792087852000066),\n",
       "    (88.16252533500005, 27.792178856000078),\n",
       "    (88.16301021200007, 27.792318071000068),\n",
       "    (88.16349610700007, 27.79255280700005),\n",
       "    (88.16398200500004, 27.792787541000052),\n",
       "    (88.16441470700005, 27.793070487000023),\n",
       "    (88.16506020000008, 27.793160576000048),\n",
       "    (88.16535467000006, 27.793302828000037),\n",
       "    (88.16560158200008, 27.793589885000074),\n",
       "    (88.16601387800006, 27.793949647000034),\n",
       "    (88.16631003900005, 27.79436227800005),\n",
       "    (88.16666399400003, 27.794722530000058),\n",
       "    (88.16707629800004, 27.79508228700007),\n",
       "    (88.16737246600007, 27.795494916000052),\n",
       "    (88.16761028900004, 27.79590803800005),\n",
       "    (88.16784811400004, 27.79632115900006),\n",
       "    (88.16793787300008, 27.796701427000073),\n",
       "    (88.16789325500008, 27.79691011600005),\n",
       "    (88.16768352800005, 27.797389542000076),\n",
       "    (88.16768403800006, 27.797437303000038),\n",
       "    (88.16666970200004, 27.798019057000033),\n",
       "    (88.16618887400006, 27.798261943000057),\n",
       "    (88.16576226300003, 27.79855213600007),\n",
       "    (88.16528245000006, 27.798890542000038),\n",
       "    (88.16485634300005, 27.799228493000044),\n",
       "    (88.16477819800008, 27.79932300100006),\n",
       "    (88.16443936800005, 27.79951531200004),\n",
       "    (88.16397589400003, 27.799830567000072),\n",
       "    (88.16345517400003, 27.800250085000073),\n",
       "    (88.16305004300006, 27.800564846000043),\n",
       "    (88.16299666600008, 27.80103231800007),\n",
       "    (88.16294328900005, 27.801499790000037),\n",
       "    (88.16288991000005, 27.80196726300005),\n",
       "    (88.16271983100006, 27.802435717000037),\n",
       "    (88.16254975000004, 27.80290417200007),\n",
       "    (88.16232076500006, 27.80332123000005),\n",
       "    (88.16232573500008, 27.80378821100004),\n",
       "    (88.16221400200004, 27.804256175000035),\n",
       "    (88.16198501200006, 27.804673233000074),\n",
       "    (88.16163876600007, 27.805039385000043),\n",
       "    (88.16158538100007, 27.80550685700007),\n",
       "    (88.16176540500004, 27.80597236500006),\n",
       "    (88.16229057700008, 27.805967947000056),\n",
       "    (88.16275518600008, 27.805756471000052),\n",
       "    (88.16321813600007, 27.80538933200006),\n",
       "    (88.16368218800005, 27.80512596600005),\n",
       "    (88.16414679100006, 27.80491448500004),\n",
       "    (88.16461028500004, 27.804599230000065),\n",
       "    (88.16472200800007, 27.804131265000024),\n",
       "    (88.16489208100006, 27.80366280800007),\n",
       "    (88.16512105700008, 27.803245746000073),\n",
       "    (88.16535003200005, 27.80282868300003),\n",
       "    (88.16541981300009, 27.802502356000048),\n",
       "    (88.16564140100007, 27.802326615000027),\n",
       "    (88.16578070700007, 27.802098569000066),\n",
       "    (88.16586743400006, 27.802097837000076),\n",
       "    (88.16639258600009, 27.80209340300007),\n",
       "    (88.16691884700003, 27.802192741000056),\n",
       "    (88.16733062600008, 27.80250061000004),\n",
       "    (88.16756846600003, 27.802913731000046),\n",
       "    (88.16774851100007, 27.803379231000065),\n",
       "    (88.16816085200009, 27.803738984000063),\n",
       "    (88.16868767800008, 27.80389020100006),\n",
       "    (88.16875515000004, 27.80389629000007),\n",
       "    (88.16899140000004, 27.80416114800005),\n",
       "    (88.16942416100005, 27.80444407600004),\n",
       "    (88.16943325800008, 27.804444808000028),\n",
       "    (88.16949181100006, 27.804506091000064),\n",
       "    (88.16988452700008, 27.804848707000076),\n",
       "    (88.17027724500008, 27.80519132200004),\n",
       "    (88.17074702600007, 27.805464095000048),\n",
       "    (88.17113974900008, 27.805806707000045),\n",
       "    (88.17168511100004, 27.80587127000007),\n",
       "    (88.17203290800006, 27.80586831900007),\n",
       "    (88.17207192200004, 27.805902354000068),\n",
       "    (88.17255789700005, 27.80613705500008),\n",
       "    (88.17272365100007, 27.80656553500006),\n",
       "    (88.17288940600008, 27.806994014000054),\n",
       "    (88.17305516200008, 27.807422493000047),\n",
       "    (88.17343474700004, 27.807753624000043),\n",
       "    (88.17397239200005, 27.80779682000008),\n",
       "    (88.17435198000004, 27.80812794900004),\n",
       "    (88.17446454400005, 27.80860464400007),\n",
       "    (88.17457711000009, 27.809081338000055),\n",
       "    (88.17474339000006, 27.809557575000042),\n",
       "    (88.17474852800007, 27.810035183000025),\n",
       "    (88.17475366700006, 27.810512791000065),\n",
       "    (88.17488137600003, 27.810712659000046),\n",
       "    (88.17477599000006, 27.81110332800006),\n",
       "    (88.17454778000007, 27.81158958800006),\n",
       "    (88.17424101700004, 27.81200732600007),\n",
       "    (88.17401205900006, 27.812424403000023),\n",
       "    (88.17370529200008, 27.812842141000033),\n",
       "    (88.17386611500007, 27.81332509200007),\n",
       "    (88.17441226000005, 27.813458825000055),\n",
       "    (88.17495915100005, 27.813661737000075),\n",
       "    (88.17558385300003, 27.81386398500007),\n",
       "    (88.17605294000003, 27.814067556000055),\n",
       "    (88.17652277400003, 27.814340307000066),\n",
       "    (88.17699261000007, 27.81461305600004),\n",
       "    (88.17753951200007, 27.814815958000054),\n",
       "    (88.17808492200004, 27.81488049400008),\n",
       "    (88.17862958600006, 27.814875846000064),\n",
       "    (88.17917425000007, 27.814871195000023),\n",
       "    (88.17971741800005, 27.814728179000042),\n",
       "    (88.18033614900008, 27.814376951000042),\n",
       "    (88.18149504300004, 27.813605970000026),\n",
       "    (88.18188033900003, 27.813256731000024),\n",
       "    (88.18234418900005, 27.812976008000078),\n",
       "    (88.18265092300004, 27.81255825200003),\n",
       "    (88.18311476800005, 27.81227752600006),\n",
       "    (88.18365791700006, 27.812134495000066),\n",
       "    (88.18412175800006, 27.81185376600007),\n",
       "    (88.18458634700005, 27.811642217000042),\n",
       "    (88.18497162600005, 27.811292970000068),\n",
       "    (88.18535615100006, 27.810874541000032),\n",
       "    (88.18535014200006, 27.810321087000034),\n",
       "    (88.18534488400007, 27.80983681500004),\n",
       "    (88.18533962700008, 27.809352543000045),\n",
       "    (88.18533437000008, 27.80886827100005),\n",
       "    (88.18529862100007, 27.808760951000068),\n",
       "    (88.18556402800004, 27.808520358000067),\n",
       "    (88.18602634500007, 27.808101260000058),\n",
       "    (88.18633305200007, 27.80768349600004),\n",
       "    (88.18648339700007, 27.80719788700003),\n",
       "    (88.18640033200006, 27.806714284000066),\n",
       "    (88.18631726800004, 27.806230680000056),\n",
       "    (88.18615640200005, 27.80574774400003),\n",
       "    (88.18591848700004, 27.80533465800005),\n",
       "    (88.18591322800006, 27.804850385000066),\n",
       "    (88.18590796900008, 27.80436611300007),\n",
       "    (88.18590271100004, 27.80388184000003),\n",
       "    (88.18589745200006, 27.803397568000037),\n",
       "    (88.18589219400008, 27.802913295000053),\n",
       "    (88.18542313900008, 27.80270975700006),\n",
       "    (88.18487778600007, 27.802645248000033),\n",
       "    (88.18440798400007, 27.802372524000077),\n",
       "    (88.18424713300004, 27.801889586000073),\n",
       "    (88.18416408300004, 27.801405980000027),\n",
       "    (88.18408103300004, 27.800922374000038),\n",
       "    (88.18387918200006, 27.800571873000024),\n",
       "    (88.18392018600008, 27.800439434000054),\n",
       "    (88.18399273500006, 27.799954495000065),\n",
       "    (88.18398748600004, 27.799470221000036),\n",
       "    (88.18390369000008, 27.798917433000042),\n",
       "    (88.18366579900004, 27.798504342000058),\n",
       "    (88.18304117300005, 27.798302128000046),\n",
       "    (88.18249434600006, 27.79809924500006),\n",
       "    (88.18194901800007, 27.798034724000047),\n",
       "    (88.18140294200003, 27.79790101800006),\n",
       "    (88.18089652600008, 27.797737063000056),\n",
       "    (88.18063027400007, 27.797566089000043),\n",
       "    (88.18030389700004, 27.79718675600003),\n",
       "    (88.18003071500004, 27.79675920300008),\n",
       "    (88.17970434200004, 27.796379869000077),\n",
       "    (88.17927158900005, 27.796096973000033),\n",
       "    (88.17883832200005, 27.795766315000037),\n",
       "    (88.17858072000007, 27.79564190900004),\n",
       "    (88.17896659700006, 27.795638616000076),\n",
       "    (88.17951116500006, 27.79563396800006),\n",
       "    (88.18005647900009, 27.795698499000025),\n",
       "    (88.18068108600005, 27.79590072700006),\n",
       "    (88.18122864600008, 27.79617280000008),\n",
       "    (88.18169766600005, 27.796376354000074),\n",
       "    (88.18216668700006, 27.796579906000034),\n",
       "    (88.18271275600006, 27.79671360800006),\n",
       "    (88.18318178100003, 27.796917157000053),\n",
       "    (88.18372785300005, 27.797050855000066),\n",
       "    (88.18419763000009, 27.797323582000047),\n",
       "    (88.18466741000003, 27.79759630800004),\n",
       "    (88.18506014600007, 27.79793888100005),\n",
       "    (88.18545288400009, 27.798281452000026),\n",
       "    (88.18584637500004, 27.798693205000063),\n",
       "    (88.18631616500005, 27.798965924000072),\n",
       "    (88.18694080100005, 27.799168123000072),\n",
       "    (88.18733354900007, 27.799510689000044),\n",
       "    (88.18780259300007, 27.799714221000045),\n",
       "    (88.18834567400006, 27.79957117400005),\n",
       "    (88.18881020300006, 27.799359612000046),\n",
       "    (88.18927473000008, 27.799148048000063),\n",
       "    (88.18965995100007, 27.798798790000035),\n",
       "    (88.18949908300004, 27.798315858000024),\n",
       "    (88.18941601300008, 27.79783225600005),\n",
       "    (88.18917810400006, 27.797419174000026),\n",
       "    (88.18878535800008, 27.79707661300006),\n",
       "    (88.18839261400007, 27.796734051000044),\n",
       "    (88.18792282900006, 27.796461339000075),\n",
       "    (88.18745304700008, 27.79618862500007),\n",
       "    (88.18706031100004, 27.79584605900004),\n",
       "    (88.18659053300007, 27.79557334100008),\n",
       "    (88.18612000700006, 27.795231441000055),\n",
       "    (88.18572727800006, 27.79488887000008),\n",
       "    (88.18533455100004, 27.794546299000046),\n",
       "    (88.18494182800004, 27.794203726000035),\n",
       "    (88.18447281200008, 27.794000183000037),\n",
       "    (88.18400304900007, 27.793727457000045),\n",
       "    (88.18353328800004, 27.79345472800003),\n",
       "    (88.18306352900004, 27.793181998000023),\n",
       "    (88.18259302400008, 27.792840085000023),\n",
       "    (88.18212401900007, 27.792636533000064),\n",
       "    (88.18165426700006, 27.792363798000054),\n",
       "    (88.18118451700008, 27.792091062000054),\n",
       "    (88.18079181500008, 27.791748477000056),\n",
       "    (88.18039911500006, 27.791405890000078),\n",
       "    (88.18000567100006, 27.79099412000005),\n",
       "    (88.17945739300006, 27.790652860000023),\n",
       "    (88.17898765600006, 27.790380115000062),\n",
       "    (88.17851866800004, 27.79017655100006),\n",
       "    (88.17828081700009, 27.789763449000077),\n",
       "    (88.17804222300003, 27.789281164000045),\n",
       "    (88.17803700200005, 27.788796889000025),\n",
       "    (88.17779915700004, 27.788383786000054),\n",
       "    (88.17733017900008, 27.788180217000047),\n",
       "    (88.17678639300004, 27.788254038000048),\n",
       "    (88.17616481600004, 27.78832851900006),\n",
       "    (88.17554472600006, 27.788541362000046),\n",
       "    (88.17507418800005, 27.788605233000055),\n",
       "    (88.17500125600003, 27.788586449000036),\n",
       "    (88.17446319200008, 27.788495493000028),\n",
       "    (88.17392564100004, 27.78845229600006),\n",
       "    (88.17375150700008, 27.788422858000047),\n",
       "    (88.17390666800009, 27.788140157000043),\n",
       "    (88.17429190200005, 27.787790941000026),\n",
       "    (88.17475566700006, 27.787510245000078),\n",
       "    (88.17514089600007, 27.787161026000035),\n",
       "    (88.17552612200006, 27.78681180700005),\n",
       "    (88.17591060200004, 27.786393404000023),\n",
       "    (88.17629582400008, 27.78604418200007),\n",
       "    (88.17676032100007, 27.785832662000075),\n",
       "    (88.17714553800005, 27.78548343800003),\n",
       "    (88.17760928500007, 27.785202733000062),\n",
       "    (88.17799375200008, 27.784784324000043),\n",
       "    (88.17845749400004, 27.784503616000052),\n",
       "    (88.17892198000004, 27.78429208800003),\n",
       "    (88.17930718500008, 27.783942859000035),\n",
       "    (88.17969238700005, 27.783593628000062),\n",
       "    (88.18007683900004, 27.78317521500003),\n",
       "    (88.18030496900008, 27.782688947000054),\n",
       "    (88.18053309800007, 27.782202678000033),\n",
       "    (88.18068343900006, 27.781717074000028),\n",
       "    (88.18091081600005, 27.78116162300006),\n",
       "    (88.18121597600003, 27.780605507000075),\n",
       "    (88.18144409600006, 27.780119237000065),\n",
       "    (88.18151664600003, 27.779634298000076),\n",
       "    (88.18158770100007, 27.779010993000043),\n",
       "    (88.18158246700006, 27.778526718000023),\n",
       "    (88.18157723300004, 27.77804244300006),\n",
       "    (88.18141643400008, 27.777559498000073),\n",
       "    (88.18110082000004, 27.777147064000076),\n",
       "    (88.18055634500007, 27.77715171600005),\n",
       "    (88.18009263900007, 27.77743243100008),\n",
       "    (88.17986377100004, 27.77784951600006),\n",
       "    (88.17963490100004, 27.77826660100004),\n",
       "    (88.17932824700006, 27.77868435000005),\n",
       "    (88.17910012000004, 27.779170616000044),\n",
       "    (88.17902830500003, 27.779724738000027),\n",
       "    (88.17887795900003, 27.780210340000053),\n",
       "    (88.17872761200005, 27.78069594200008),\n",
       "    (88.17849947900004, 27.781182208000075),\n",
       "    (88.17819355800003, 27.781669136000062),\n",
       "    (88.17796467400007, 27.782086219000064),\n",
       "    (88.17742091900004, 27.782160042000044),\n",
       "    (88.17702826500005, 27.78181744400007),\n",
       "    (88.17678969500008, 27.78133515600007),\n",
       "    (88.17678373700005, 27.780781698000055),\n",
       "    (88.17670073900007, 27.780298084000037),\n",
       "    (88.17669552700005, 27.77981380800003),\n",
       "    (88.17653474600007, 27.779330857000048),\n",
       "    (88.17652953500004, 27.77884658100004),\n",
       "    (88.17636801300006, 27.778294447000064),\n",
       "    (88.17613019800007, 27.77788134000008),\n",
       "    (88.17573756400003, 27.777538737000043),\n",
       "    (88.17526863700004, 27.777335160000064),\n",
       "    (88.17464637700004, 27.777340450000054),\n",
       "    (88.17410189900005, 27.777345077000064),\n",
       "    (88.17355965000007, 27.77755724800005),\n",
       "    (88.17309518000008, 27.777768757000047),\n",
       "    (88.17263070900003, 27.777980265000053),\n",
       "    (88.17216623600007, 27.778191771000024),\n",
       "    (88.17170324500006, 27.77854164100006),\n",
       "    (88.17123950900003, 27.778822326000068),\n",
       "    (88.17093282000008, 27.779240057000038),\n",
       "    (88.17078243800006, 27.779725652000025),\n",
       "    (88.17078762500006, 27.780209929000023),\n",
       "    (88.17079281100007, 27.780694206000078),\n",
       "    (88.17072095300006, 27.781248324000046),\n",
       "    (88.17072614000006, 27.781732600000055),\n",
       "    (88.17065354000005, 27.782217536000076),\n",
       "    (88.17058094000004, 27.78270247200004),\n",
       "    (88.17050833900004, 27.78318740700007),\n",
       "    (88.17051352500005, 27.78367168400007),\n",
       "    (88.17051871100006, 27.784155960000078),\n",
       "    (88.17052389800006, 27.784640237000076),\n",
       "    (88.17052908400007, 27.785124513000028),\n",
       "    (88.17068984700006, 27.785607472000038),\n",
       "    (88.17123436700007, 27.78560285700007),\n",
       "    (88.17161960100003, 27.785253648000037),\n",
       "    (88.17208262100007, 27.784903779000047),\n",
       "    (88.17270344000008, 27.784760134000067),\n",
       "    (88.17294125800004, 27.785173247000046),\n",
       "    (88.17302424300004, 27.785656863000042),\n",
       "    (88.17302944100004, 27.78614113900005),\n",
       "    (88.17319021700007, 27.786624094000047),\n",
       "    (88.17319541600006, 27.787108370000055),\n",
       "    (88.17265237400005, 27.78725135700006),\n",
       "    (88.17210710400008, 27.787186795000025),\n",
       "    (88.17171444800005, 27.78684418200004),\n",
       "    (88.17116918100004, 27.786779616000047),\n",
       "    (88.17062465600009, 27.78678423100007),\n",
       "    (88.17008013100008, 27.786788843000068),\n",
       "    (88.16953708600005, 27.78693181700004),\n",
       "    (88.16941172900005, 27.787045447000025),\n",
       "    (88.16929127400005, 27.78701086700005),\n",
       "    (88.16880539200008, 27.786776151000026),\n",
       "    (88.16832002300004, 27.786589194000044),\n",
       "    (88.16778197300005, 27.786498212000026),\n",
       "    (88.16724392400005, 27.78640722700004),\n",
       "    (88.16670638600004, 27.786364002000028),\n",
       "    (88.16616884800004, 27.786320774000046),\n",
       "    (88.16563181900005, 27.786325305000048),\n",
       "    (88.16509479100006, 27.78632983500006),\n",
       "    (88.16455725300005, 27.78628660100003),\n",
       "    (88.16402022500006, 27.786291126000037),\n",
       "    (88.16348319600007, 27.786295649000067),\n",
       "    (88.16294616700009, 27.78630017000006),\n",
       "    (88.16235543600004, 27.786305140000024),\n",
       "    (88.16181789900008, 27.786261895000052),\n",
       "    (88.16133305000005, 27.78612267500006),\n",
       "    (88.16084820300006, 27.78598345300003),\n",
       "    (88.16031016100004, 27.785892441000044),\n",
       "    (88.15982379600007, 27.785609931000067),\n",
       "    (88.15933793900007, 27.785375181000063),\n",
       "    (88.15885157800005, 27.78509266800006),\n",
       "    (88.15841841600007, 27.784761942000046),\n",
       "    (88.15798525600007, 27.78443121400005),\n",
       "    (88.15755260500003, 27.78414824600003),\n",
       "    (88.15701255200008, 27.78386617600006),\n",
       "    (88.15657990500006, 27.78358320500007),\n",
       "    (88.15614726100006, 27.783300232000045),\n",
       "    (88.15571461800005, 27.78301725800003),\n",
       "    (88.15528197800006, 27.782734283000025),\n",
       "    (88.15490253700005, 27.782403096000053),\n",
       "    (88.15446990200007, 27.782120118000023),\n",
       "    (88.15414366100003, 27.781740718000037),\n",
       "    (88.15387062000008, 27.781313109000052),\n",
       "    (88.15359758100004, 27.780885498000032),\n",
       "    (88.15332454400004, 27.78045788700007),\n",
       "    (88.15305150900008, 27.78003027500006),\n",
       "    (88.15288587600008, 27.77960176700003),\n",
       "    (88.15277347200004, 27.77912804300007),\n",
       "    (88.15277293700007, 27.779077288000053),\n",
       "    (88.15276790100006, 27.778599674000077),\n",
       "    (88.15276286500006, 27.778122061000033),\n",
       "    (88.15270413000007, 27.777644895000037),\n",
       "    (88.15269909500006, 27.77716728100006),\n",
       "    (88.15274775800003, 27.776689219000048),\n",
       "    (88.15285011800006, 27.776210710000043),\n",
       "    (88.15295247800003, 27.77573220000005),\n",
       "    (88.15310903900007, 27.77530100300004),\n",
       "    (88.15337299300006, 27.774868911000056),\n",
       "    (88.15358324800007, 27.774437266000064),\n",
       "    (88.15395560000007, 27.774099798000066),\n",
       "    (88.15432795000004, 27.773762330000068),\n",
       "    (88.15475399500008, 27.773424412000054),\n",
       "    (88.15518003700004, 27.77308649300005),\n",
       "    (88.15555187500007, 27.772701260000076),\n",
       "    (88.15597841700009, 27.772411100000056),\n",
       "    (88.15645915700009, 27.77216825100004),\n",
       "    (88.15688569400004, 27.77187808800005),\n",
       "    (88.15720382600006, 27.771493301000078),\n",
       "    (88.15752195600004, 27.77110851200007),\n",
       "    (88.15794798000007, 27.770770585000037),\n",
       "    (88.15837400200007, 27.77043265700007),\n",
       "    (88.15869212500007, 27.770047866000027),\n",
       "    (88.15932988300005, 27.769421566000062),\n",
       "    (88.15938307100004, 27.769373354000038),\n",
       "    (88.15980908300008, 27.76903542200006),\n",
       "    (88.16023559900003, 27.768745249000062),\n",
       "    (88.16055371000004, 27.76836045400006),\n",
       "    (88.16092602100008, 27.76802296900007),\n",
       "    (88.16135252900006, 27.76773279300005),\n",
       "    (88.16172432800005, 27.767347545000064),\n",
       "    (88.16209006500009, 27.766968573000042),\n",
       "    (88.16225100400004, 27.76689529500004),\n",
       "    (88.16270819300007, 27.76668712700007),\n",
       "    (88.16316538100006, 27.76647895700006),\n",
       "    (88.16362225600005, 27.766241600000058),\n",
       "    (88.16397976400003, 27.765917510000065),\n",
       "    (88.16437008000008, 27.765593144000036),\n",
       "    (88.16476070600004, 27.765297963000023),\n",
       "    (88.16515132900008, 27.76500278000003),\n",
       "    (88.16540946300006, 27.76459195700005),\n",
       "    (88.16547663100005, 27.76440688200006),\n",
       "    (88.16566507700009, 27.764257378000025),\n",
       "    (88.16598315600004, 27.763872571000036),\n",
       "    (88.16640403400004, 27.763057006000054),\n",
       "    (88.16640352500008, 27.763009245000035),\n",
       "    (88.16656001500007, 27.762578035000047),\n",
       "    (88.16677019600007, 27.76214637100003),\n",
       "    (88.16703406500005, 27.761714254000026),\n",
       "    (88.16735162300006, 27.76128168400004),\n",
       "    (88.16750810800005, 27.760850472000072),\n",
       "    (88.16759962700007, 27.760598279000078),\n",
       "    (88.16776103200004, 27.760485646000063),\n",
       "    (88.16818475200006, 27.76021936500007),\n",
       "    (88.16847536100005, 27.75977907300006),\n",
       "    (88.16883283400006, 27.75945497200007),\n",
       "    (88.16932278800004, 27.759246506000068),\n",
       "    (88.16981367700004, 27.759125597000036),\n",
       "    (88.17043611300005, 27.75903276200006),\n",
       "    (88.17082669800004, 27.758737565000047),\n",
       "    (88.17098574500005, 27.758269193000046),\n",
       "    (88.17117791200008, 27.757829729000036),\n",
       "    (88.17127603900008, 27.757624914000075),\n",
       "    (88.17128586000007, 27.757618231000038),\n",
       "    (88.17160390100008, 27.757233412000062),\n",
       "    (88.17177279500004, 27.757058363000056),\n",
       "    (88.17228246400003, 27.756798752000066),\n",
       "    ...],\n",
       "   [(88.15186465100004, 27.848415943000077),\n",
       "    (88.15215159200005, 27.847946527000033),\n",
       "    (88.15267806500003, 27.848045912000032),\n",
       "    (88.15320508800005, 27.848197182000035),\n",
       "    (88.15323919900004, 27.848285369000052),\n",
       "    (88.15338515400003, 27.848662697000066),\n",
       "    (88.15391053300004, 27.848658304000026),\n",
       "    (88.15443536200007, 27.84860202300007),\n",
       "    (88.15490016600006, 27.84839056800007),\n",
       "    (88.15499914700007, 27.847976278000033),\n",
       "    (88.15501196900004, 27.847922612000048),\n",
       "    (88.15489027100006, 27.84745661000005),\n",
       "    (88.15465182600008, 27.84699158500007),\n",
       "    (88.15453013100006, 27.846525582000027),\n",
       "    (88.15499492700008, 27.846314128000074),\n",
       "    (88.15551919400008, 27.846205956000063),\n",
       "    (88.15615826800007, 27.846153223000044),\n",
       "    (88.15621803200008, 27.846044428000027),\n",
       "    (88.15644712400007, 27.845627379000064),\n",
       "    (88.15685243700005, 27.845312634000038),\n",
       "    (88.15685739200006, 27.845779613000047),\n",
       "    (88.15680397400007, 27.846247081000058),\n",
       "    (88.15673033700006, 27.846381133000023),\n",
       "    (88.15669218000005, 27.84671503900006),\n",
       "    (88.15656003700008, 27.84707880900004),\n",
       "    (88.15671987300004, 27.847491991000027),\n",
       "    (88.15656323400003, 27.847923189000028),\n",
       "    (88.15656374100007, 27.847970950000047),\n",
       "    (88.15533698500008, 27.84884099900006),\n",
       "    (88.15491015100008, 27.849131163000038),\n",
       "    (88.15442907400006, 27.849374015000024),\n",
       "    (88.15407681000005, 27.84958703600006),\n",
       "    (88.15403717200007, 27.849591286000077),\n",
       "    (88.15351233800004, 27.849647567000034),\n",
       "    (88.15298750300008, 27.84970384500008),\n",
       "    (88.15246376500005, 27.849863894000066),\n",
       "    (88.15202731500005, 27.84999726700005),\n",
       "    (88.15158812300007, 27.849871206000046),\n",
       "    (88.15111892200008, 27.849667556000043),\n",
       "    (88.15103553900008, 27.849522742000033),\n",
       "    (88.15125623900008, 27.84916170100007),\n",
       "    (88.15157460700004, 27.84877692300006),\n",
       "    (88.15186568000007, 27.848513299000047),\n",
       "    (88.15186465100004, 27.848415943000077)],\n",
       "   [(88.13245539200005, 27.845826370000054),\n",
       "    (88.13262566300006, 27.84535795000005),\n",
       "    (88.13309535200005, 27.845613551000042),\n",
       "    (88.13362395800004, 27.845920557000056),\n",
       "    (88.13409311200007, 27.84612426800004),\n",
       "    (88.13454435500006, 27.846209515000055),\n",
       "    (88.13455529600003, 27.846219062000046),\n",
       "    (88.13450281300004, 27.84622468300006),\n",
       "    (88.13397960100008, 27.846436549000032),\n",
       "    (88.13345530800007, 27.846544640000047),\n",
       "    (88.13293209300008, 27.84675650300005),\n",
       "    (88.13273764900003, 27.846844924000038),\n",
       "    (88.13230590500007, 27.846237607000035),\n",
       "    (88.13245539200005, 27.845826370000054)],\n",
       "   [(88.12911742500006, 27.743344765000074),\n",
       "    (88.12921986400005, 27.742866268000057),\n",
       "    (88.12937647700005, 27.742435095000076),\n",
       "    (88.12942523300006, 27.741957037000077),\n",
       "    (88.12942030600004, 27.74147941700005),\n",
       "    (88.12946906100007, 27.741001358000062),\n",
       "    (88.12978720700005, 27.74061663200007),\n",
       "    (88.13032500400004, 27.740707771000075),\n",
       "    (88.13070923700008, 27.74087479600007),\n",
       "    (88.13067417200006, 27.741181204000043),\n",
       "    (88.13067899400005, 27.74164819400005),\n",
       "    (88.13097487500005, 27.742060913000046),\n",
       "    (88.13150135400008, 27.74221228400006),\n",
       "    (88.13202622500006, 27.742207989000065),\n",
       "    (88.13255109700003, 27.74220369300008),\n",
       "    (88.13296255100005, 27.74251167600005),\n",
       "    (88.13309439700004, 27.742853085000036),\n",
       "    (88.13302462900003, 27.742874413000038),\n",
       "    (88.13256022000007, 27.743085785000062),\n",
       "    (88.13209634700007, 27.743349043000023),\n",
       "    (88.13163193500003, 27.74356041200008),\n",
       "    (88.13104927300003, 27.743617070000028),\n",
       "    (88.13052439500007, 27.743621361000066),\n",
       "    (88.12999951700004, 27.74362565000007),\n",
       "    (88.12947356800004, 27.743526161000034),\n",
       "    (88.12909388100007, 27.74341699100006),\n",
       "    (88.12911742500006, 27.743344765000074)],\n",
       "   [(88.11319174400006, 27.742620308000028),\n",
       "    (88.11302469700007, 27.74340003800006),\n",
       "    (88.11267108600003, 27.74303963600005),\n",
       "    (88.11243358900003, 27.742626408000035),\n",
       "    (88.11219609400007, 27.742213178000043),\n",
       "    (88.11178469700008, 27.741905131000067),\n",
       "    (88.11131603700005, 27.741701328000033),\n",
       "    (88.11142793500005, 27.74123339700003),\n",
       "    (88.11177416100008, 27.740867368000067),\n",
       "    (88.11217870300004, 27.740500869000073),\n",
       "    (88.11270304200008, 27.74044476000006),\n",
       "    (88.11311443600005, 27.740752805000056),\n",
       "    (88.11288538000008, 27.741169787000047),\n",
       "    (88.11294844500009, 27.741636311000036),\n",
       "    (88.11312815000008, 27.742101896000065),\n",
       "    (88.11319121700006, 27.742568420000055),\n",
       "    (88.11319174400006, 27.742620308000028)],\n",
       "   [(88.14279271500004, 27.728783183000075),\n",
       "    (88.14224630900009, 27.728580127000043),\n",
       "    (88.14185396000005, 27.72823741700006),\n",
       "    (88.14138458600007, 27.727964531000055),\n",
       "    (88.14083962700005, 27.727899836000063),\n",
       "    (88.14037097700003, 27.727696130000027),\n",
       "    (88.13982817900006, 27.727838982000037),\n",
       "    (88.13998871400008, 27.728321986000026),\n",
       "    (88.13965057100006, 27.72868993000003),\n",
       "    (88.13964861900007, 27.728689773000042),\n",
       "    (88.13911186900003, 27.728694193000024),\n",
       "    (88.13898928400005, 27.728684303000023),\n",
       "    (88.13898157800008, 27.72867622800004),\n",
       "    (88.13858923900005, 27.728333509000038),\n",
       "    (88.13811915300005, 27.727991428000053),\n",
       "    (88.13741726300003, 27.727789631000064),\n",
       "    (88.13694861900007, 27.72758591300004),\n",
       "    (88.13647925900005, 27.727313011000035),\n",
       "    (88.13600990200007, 27.72704010600006),\n",
       "    (88.13554054700006, 27.72676720000004),\n",
       "    (88.13507119400003, 27.72649429200004),\n",
       "    (88.13460256000008, 27.726290566000046),\n",
       "    (88.13424585500007, 27.726083154000037),\n",
       "    (88.13420881100006, 27.725809466000044),\n",
       "    (88.13412605100007, 27.725325817000055),\n",
       "    (88.13381076900004, 27.72491326200003),\n",
       "    (88.13349549000003, 27.72450070600007),\n",
       "    (88.13294840600008, 27.72422842800006),\n",
       "    (88.13240204000004, 27.724025330000075),\n",
       "    (88.13270873200008, 27.72360768200008),\n",
       "    (88.13325295100003, 27.723603226000023),\n",
       "    (88.13379716900005, 27.723598769000034),\n",
       "    (88.13434210300005, 27.72366349300006),\n",
       "    (88.13488703800004, 27.72372821400006),\n",
       "    (88.13543269000007, 27.723862118000056),\n",
       "    (88.13597762600006, 27.723926835000043),\n",
       "    (88.13667877200004, 27.724059457000067),\n",
       "    (88.13714740000006, 27.72426317600008),\n",
       "    (88.13769162000006, 27.724258703000032),\n",
       "    (88.13823656000005, 27.724323412000047),\n",
       "    (88.13878221800007, 27.724457302000076),\n",
       "    (88.13932644000005, 27.724452822000046),\n",
       "    (88.13987138000005, 27.724517524000078),\n",
       "    (88.14057109400005, 27.724511759000052),\n",
       "    (88.14103973000005, 27.72471546400004),\n",
       "    (88.14151053100005, 27.72512671900006),\n",
       "    (88.14190286700006, 27.725469430000032),\n",
       "    (88.14237295300006, 27.72581149800004),\n",
       "    (88.14291790200008, 27.72587618800003),\n",
       "    (88.14338654800008, 27.726079885000047),\n",
       "    (88.14362412200006, 27.726493059000063),\n",
       "    (88.14378539400008, 27.72704524200003),\n",
       "    (88.14378756000008, 27.727252793000048),\n",
       "    (88.14379044900005, 27.727529528000048),\n",
       "    (88.14397234300003, 27.727574150000066),\n",
       "    (88.14402513800007, 27.727665967000064),\n",
       "    (88.14426271700006, 27.728079139000045),\n",
       "    (88.14473209900007, 27.72835201500004),\n",
       "    (88.14512445700007, 27.728694716000064),\n",
       "    (88.14551754100006, 27.729106600000023),\n",
       "    (88.14567810300008, 27.72958959700003),\n",
       "    (88.14560541800006, 27.730074525000077),\n",
       "    (88.14559460200007, 27.73010943500003),\n",
       "    (88.14556408200008, 27.730106974000023),\n",
       "    (88.14552766800006, 27.73007516900003),\n",
       "    (88.14513530300007, 27.729732469000055),\n",
       "    (88.14474221900008, 27.72932058500004),\n",
       "    (88.14434985900004, 27.728977883000027),\n",
       "    (88.14388119900008, 27.728774189000035),\n",
       "    (88.14333695700003, 27.728778687000045),\n",
       "    (88.14279271500004, 27.728783183000075)],\n",
       "   [(88.15608174100004, 27.76067136300003),\n",
       "    (88.15647237200005, 27.760376205000057),\n",
       "    (88.15683667200005, 27.760694238000042),\n",
       "    (88.15732758300004, 27.760573373000057),\n",
       "    (88.15728983400004, 27.760106663000045),\n",
       "    (88.15731953900007, 27.759862258000055),\n",
       "    (88.15735020500006, 27.759609942000054),\n",
       "    (88.15787453700005, 27.759547174000033),\n",
       "    (88.15820469600004, 27.759577011000033),\n",
       "    (88.15858083400008, 27.759540365000078),\n",
       "    (88.15863452400004, 27.75953991500006),\n",
       "    (88.15900197100007, 27.759688722000078),\n",
       "    (88.15902626500008, 27.759858605000034),\n",
       "    (88.15929337900008, 27.76029420200007),\n",
       "    (88.15948257800005, 27.760703730000046),\n",
       "    (88.15946206600006, 27.760730624000075),\n",
       "    (88.15926984600009, 27.761170073000073),\n",
       "    (88.15937353400005, 27.761665418000064),\n",
       "    (88.15970565500004, 27.76204209100007),\n",
       "    (88.15988854900007, 27.76232067500007),\n",
       "    (88.15997246800003, 27.76244850100005),\n",
       "    (88.15958183900005, 27.76274366900003),\n",
       "    (88.15905594700007, 27.762660511000036),\n",
       "    (88.15878913700004, 27.762254100000064),\n",
       "    (88.15861899900005, 27.76188583000004),\n",
       "    (88.15860561600005, 27.761880673000064),\n",
       "    (88.15806769600005, 27.761789649000036),\n",
       "    (88.15753078600005, 27.761794145000067),\n",
       "    (88.15704605200006, 27.761654905000057),\n",
       "    (88.15661349500004, 27.761371931000042),\n",
       "    (88.15623412700006, 27.76104074400007),\n",
       "    (88.15619003100005, 27.76101943200007),\n",
       "    (88.15608174100004, 27.76067136300003)],\n",
       "   [(88.15160112700005, 27.75583416300003),\n",
       "    (88.15212483100004, 27.75571304400006),\n",
       "    (88.15255441300008, 27.75600135600007),\n",
       "    (88.15291868700007, 27.756319400000052),\n",
       "    (88.15341296700007, 27.756519602000026),\n",
       "    (88.15368184600004, 27.756884124000067),\n",
       "    (88.15328727000008, 27.757046056000036),\n",
       "    (88.15299598900003, 27.757427944000028),\n",
       "    (88.15298489300005, 27.757448159000035),\n",
       "    (88.15286706100005, 27.757438668000077),\n",
       "    (88.15238536900006, 27.757585980000044),\n",
       "    (88.15217514000005, 27.758017624000047),\n",
       "    (88.15185702600007, 27.758402400000023),\n",
       "    (88.15184665300006, 27.758414947000063),\n",
       "    (88.15158908200004, 27.75845239800003),\n",
       "    (88.15110738500005, 27.75859970600004),\n",
       "    (88.15062719200006, 27.75889029700005),\n",
       "    (88.15061871900008, 27.758894578000024),\n",
       "    (88.15047288000005, 27.758887687000026),\n",
       "    (88.15041851700005, 27.758821304000037),\n",
       "    (88.15028267800005, 27.75838459600004),\n",
       "    (88.15027776900007, 27.75791761000005),\n",
       "    (88.15033847800004, 27.757450078000033),\n",
       "    (88.15049730500004, 27.756952541000032),\n",
       "    (88.15054690700003, 27.75657053300006),\n",
       "    (88.15085328900005, 27.756482551000033),\n",
       "    (88.15127703600007, 27.756216321000068),\n",
       "    (88.15160112700005, 27.75583416300003)],\n",
       "   [(88.15714572500008, 27.755787876000056),\n",
       "    (88.15665175100008, 27.755616874000054),\n",
       "    (88.15615839400004, 27.755504243000075),\n",
       "    (88.15563253900007, 27.755421071000058),\n",
       "    (88.15517076100008, 27.75519141600006),\n",
       "    (88.15480648400006, 27.75487337800007),\n",
       "    (88.15460501700005, 27.754437223000025),\n",
       "    (88.15424043700006, 27.75408999600006),\n",
       "    (88.15420270400006, 27.75362328400007),\n",
       "    (88.15472824200003, 27.75367727500003),\n",
       "    (88.15522189700005, 27.753819098000065),\n",
       "    (88.15571586100003, 27.75399010600006),\n",
       "    (88.15617732700008, 27.754190572000027),\n",
       "    (88.15667098600005, 27.75433239000006),\n",
       "    (88.15716186800006, 27.754211526000063),\n",
       "    (88.15745312500007, 27.75382963000004),\n",
       "    (88.15777749700004, 27.753476644000045),\n",
       "    (88.15794227300006, 27.75328231900005),\n",
       "    (88.15806813200004, 27.753036373000043),\n",
       "    (88.15839249900006, 27.752683387000047),\n",
       "    (88.15888151800004, 27.752387398000053),\n",
       "    (88.15933865400007, 27.752179242000068),\n",
       "    (88.15986078500003, 27.751912162000053),\n",
       "    (88.16038538800007, 27.751878572000066),\n",
       "    (88.16042475600005, 27.751878241000043),\n",
       "    (88.16091030000007, 27.75187416600005),\n",
       "    (88.16109073900003, 27.751872651000042),\n",
       "    (88.16120618200006, 27.751930060000063),\n",
       "    (88.16169952700005, 27.75204267400005),\n",
       "    (88.16209631000004, 27.752331231000028),\n",
       "    (88.16231742200006, 27.752630961000023),\n",
       "    (88.16178340000005, 27.75268300600004),\n",
       "    (88.16130174300008, 27.752830349000078),\n",
       "    (88.16082008400008, 27.752977690000023),\n",
       "    (88.16044782300008, 27.75331517400008),\n",
       "    (88.16023763300007, 27.75374682900008),\n",
       "    (88.16013532200003, 27.754225344000076),\n",
       "    (88.16004894100007, 27.754629349000027),\n",
       "    (88.15976110300005, 27.754890291000038),\n",
       "    (88.15956889400007, 27.755329740000036),\n",
       "    (88.15947541800006, 27.755797550000068),\n",
       "    (88.15905169300004, 27.756063804000064),\n",
       "    (88.15852768700006, 27.756155763000038),\n",
       "    (88.15825336700004, 27.756223307000027),\n",
       "    (88.15813244300006, 27.756013128000063),\n",
       "    (88.15763908300005, 27.755900503000078),\n",
       "    (88.15714572500008, 27.755787876000056)],\n",
       "   [(88.18082618700004, 27.802126439000062),\n",
       "    (88.18088960900008, 27.80249581100003),\n",
       "    (88.18084406300005, 27.80243630800004),\n",
       "    (88.18035808800005, 27.802201636000063),\n",
       "    (88.17987263100008, 27.80201472300007),\n",
       "    (88.17938769100004, 27.80187556900006),\n",
       "    (88.17884955800008, 27.80178463200008),\n",
       "    (88.17836410500007, 27.801597714000025),\n",
       "    (88.17787813800004, 27.80136303300003),\n",
       "    (88.17739217400003, 27.801128350000056),\n",
       "    (88.17701260200005, 27.800797229000068),\n",
       "    (88.17695837800005, 27.800749926000037),\n",
       "    (88.17635831200005, 27.799895264000043),\n",
       "    (88.17667645200004, 27.799510432000034),\n",
       "    (88.17721405800006, 27.799553617000072),\n",
       "    (88.17754655100003, 27.799649035000073),\n",
       "    (88.17776811500005, 27.79993852000007),\n",
       "    (88.17816083800005, 27.80028111300004),\n",
       "    (88.17862987000007, 27.800484677000043),\n",
       "    (88.17917670300005, 27.80068757500004),\n",
       "    (88.17980133600008, 27.800889806000043),\n",
       "    (88.18034667800003, 27.80095433500003),\n",
       "    (88.18048320000008, 27.800987763000023),\n",
       "    (88.18058231800006, 27.80115988700004),\n",
       "    (88.18066535200006, 27.801643495000064),\n",
       "    (88.18082618700004, 27.802126439000062)],\n",
       "   [(88.16766963500004, 27.801459917000045),\n",
       "    (88.16767018900003, 27.80151180300004),\n",
       "    (88.16726118500009, 27.801463369000032),\n",
       "    (88.16690720600008, 27.80110312000005),\n",
       "    (88.16690221700009, 27.80063614000005),\n",
       "    (88.16724843200006, 27.80026997500005),\n",
       "    (88.16771800000004, 27.800525463000042),\n",
       "    (88.16766464200003, 27.800992936000057),\n",
       "    (88.16766963500004, 27.801459917000045)],\n",
       "   [(88.18189673500007, 27.807583157000067),\n",
       "    (88.18135360500008, 27.80772618000003),\n",
       "    (88.18080748100004, 27.807592474000046),\n",
       "    (88.18018355500004, 27.80745943100004),\n",
       "    (88.18004924800005, 27.807426548000024),\n",
       "    (88.17987464800007, 27.807173340000077),\n",
       "    (88.17976206200007, 27.80669665100004),\n",
       "    (88.17959576500004, 27.806220420000045),\n",
       "    (88.17959524900004, 27.806172659000026),\n",
       "    (88.18001462600006, 27.805213774000038),\n",
       "    (88.18038699500005, 27.80487623600004),\n",
       "    (88.18075936200006, 27.804538698000044),\n",
       "    (88.18118595400006, 27.804248459000064),\n",
       "    (88.18129259400007, 27.803954592000025),\n",
       "    (88.18131319100007, 27.803990359000068),\n",
       "    (88.18162888700004, 27.80440278800006),\n",
       "    (88.18163412700005, 27.804887061000045),\n",
       "    (88.18124960800003, 27.805305480000072),\n",
       "    (88.18086433700006, 27.80565471600005),\n",
       "    (88.18086957400004, 27.806138989000033),\n",
       "    (88.18126233000004, 27.806481572000052),\n",
       "    (88.18150023000004, 27.80689466700005),\n",
       "    (88.18181593600008, 27.807307095000056),\n",
       "    (88.18205159400009, 27.807512643000052),\n",
       "    (88.18189673500007, 27.807583157000067)],\n",
       "   [(88.18327751900006, 27.838621352000075),\n",
       "    (88.18274075500005, 27.838673718000052),\n",
       "    (88.18220295500004, 27.83863056100006),\n",
       "    (88.18166463700004, 27.838539642000057),\n",
       "    (88.18118263500008, 27.838687063000066),\n",
       "    (88.18110012100004, 27.838724624000065),\n",
       "    (88.18083310300005, 27.83872690900006),\n",
       "    (88.17995924400003, 27.838890056000025),\n",
       "    (88.17961295500004, 27.839256254000077),\n",
       "    (88.17938396500006, 27.839673339000058),\n",
       "    (88.17932275800007, 27.83984195000005),\n",
       "    (88.17899526500008, 27.840138714000034),\n",
       "    (88.17856904600006, 27.840476710000075),\n",
       "    (88.17808754700008, 27.84067188100005),\n",
       "    (88.17755025300005, 27.840676466000048),\n",
       "    (88.17711732500004, 27.84039357000006),\n",
       "    (88.17673761200007, 27.840062454000076),\n",
       "    (88.17651805800006, 27.839634442000033),\n",
       "    (88.17640544800008, 27.839157752000062),\n",
       "    (88.17634656700005, 27.838680605000036),\n",
       "    (88.17655323600007, 27.837914604000048),\n",
       "    (88.17660696400009, 27.83791414600006),\n",
       "    (88.17708742300005, 27.837623459000042),\n",
       "    (88.17751415200007, 27.837333229000023),\n",
       "    (88.17794087800007, 27.837042998000072),\n",
       "    (88.17842287800005, 27.83689558800006),\n",
       "    (88.17895963600006, 27.836843239000075),\n",
       "    (88.17949536100008, 27.83669536700006),\n",
       "    (88.18003160100005, 27.83659525300004),\n",
       "    (88.18056887400007, 27.836590658000034),\n",
       "    (88.18110769800006, 27.83672934300006),\n",
       "    (88.18159331400005, 27.836916246000044),\n",
       "    (88.18202623900004, 27.837199128000066),\n",
       "    (88.18251185900004, 27.837386027000036),\n",
       "    (88.18299696200006, 27.837525164000056),\n",
       "    (88.18348310300007, 27.837759821000077),\n",
       "    (88.18359574200008, 27.838236504000065),\n",
       "    (88.18327751900006, 27.838621352000075)],\n",
       "   [(88.18105773000008, 27.84454803500006),\n",
       "    (88.18073805800003, 27.844801536000034),\n",
       "    (88.18033701200005, 27.84498408500008),\n",
       "    (88.18029671400006, 27.844984430000068),\n",
       "    (88.17956978900008, 27.844847352000045),\n",
       "    (88.17924468900009, 27.84459936500008),\n",
       "    (88.17924042700008, 27.844205341000077),\n",
       "    (88.17927646300006, 27.843810973000075),\n",
       "    (88.17943378100006, 27.843451392000077),\n",
       "    (88.17971276600008, 27.84316241700003),\n",
       "    (88.18003204800004, 27.84287309800004),\n",
       "    (88.18035171600008, 27.842619598000056),\n",
       "    (88.18067138200007, 27.84236609800007),\n",
       "    (88.18099104700008, 27.84211259700004),\n",
       "    (88.18122933900008, 27.841788145000066),\n",
       "    (88.18150831500003, 27.841499167000052),\n",
       "    (88.18191051100007, 27.841424075000077),\n",
       "    (88.18235416900006, 27.841456099000027),\n",
       "    (88.18255954000006, 27.841812575000063),\n",
       "    (88.18244253300008, 27.84217181400004),\n",
       "    (88.18228522700008, 27.842531399000052),\n",
       "    (88.18212792000008, 27.842890983000075),\n",
       "    (88.18188962800008, 27.843215437000026),\n",
       "    (88.18173231900005, 27.84357502100005),\n",
       "    (88.18153432300005, 27.84389912900008),\n",
       "    (88.18129602700003, 27.84422358200004),\n",
       "    (88.18105773000008, 27.84454803500006)],\n",
       "   [(88.18243176000004, 27.844894503000035),\n",
       "    (88.18279250300003, 27.844712294000033),\n",
       "    (88.18319626500005, 27.844780479000065),\n",
       "    (88.18356128400006, 27.84499229000005),\n",
       "    (88.18384648600005, 27.845276433000038),\n",
       "    (88.18409177900008, 27.845596741000065),\n",
       "    (88.18405576000004, 27.845991110000057),\n",
       "    (88.18393875300006, 27.846350350000023),\n",
       "    (88.18365977100007, 27.846639332000052),\n",
       "    (88.18329980100003, 27.846893185000056),\n",
       "    (88.18285689800007, 27.84693280600004),\n",
       "    (88.18281659900003, 27.846933152000076),\n",
       "    (88.18225435200009, 27.84711708900005),\n",
       "    (88.18145418800003, 27.84766129700006),\n",
       "    (88.18101050500007, 27.847629272000063),\n",
       "    (88.18060595800006, 27.84748944000006),\n",
       "    (88.18024132400006, 27.84731344100004),\n",
       "    (88.18023705800005, 27.846919417000038),\n",
       "    (88.18031377800008, 27.84656052500003),\n",
       "    (88.18043079600005, 27.846201287000042),\n",
       "    (88.18075047300005, 27.845947786000067),\n",
       "    (88.18115268600008, 27.84587269700006),\n",
       "    (88.18155451000007, 27.845761785000036),\n",
       "    (88.18187418200006, 27.845508282000026),\n",
       "    (88.18215316600003, 27.84521930300008),\n",
       "    (88.18243176000004, 27.844894503000035)]]}]"
      ]
     },
     "execution_count": 39,
     "metadata": {},
     "output_type": "execute_result"
    }
   ],
   "source": [
    "geoms"
   ]
  },
  {
   "cell_type": "code",
   "execution_count": 41,
   "metadata": {},
   "outputs": [
    {
     "data": {
      "image/svg+xml": [
       "<svg xmlns=\"http://www.w3.org/2000/svg\" xmlns:xlink=\"http://www.w3.org/1999/xlink\" width=\"100.0\" height=\"100.0\" viewBox=\"88.00964864436004 27.709231659360068 0.20001264228002924 0.16610214327997852\" preserveAspectRatio=\"xMinYMin meet\"><g transform=\"matrix(1,0,0,-1,0,55.584565462000114)\"><path fill-rule=\"evenodd\" fill=\"#66cc99\" stroke=\"#555555\" stroke-width=\"0.0040002528456005845\" opacity=\"0.6\" d=\"M 88.16059143000007,27.86790288700007 L 88.16112835200005,27.86785060300008 L 88.16166578300005,27.867846077000024 L 88.16225695600008,27.867841096000063 L 88.16279438700008,27.86783656600005 L 88.16338505000004,27.867783819000067 L 88.16366583600006,27.867698002000054 L 88.16386425400003,27.867774375000067 L 88.16439027800004,27.867821826000068 L 88.16491574700007,27.86781738800005 L 88.16543955000003,27.867657290000068 L 88.16596279700008,27.867445303000068 L 88.16630866300005,27.867027251000025 L 88.16665508300008,27.866661085000032 L 88.16665008100006,27.86619410900005 L 88.16641209800008,27.865780994000033 L 88.16588497300006,27.865629779000074 L 88.16584990100006,27.865619717000072 L 88.16599135700005,27.86523027100003 L 88.16630971600006,27.864845460000026 L 88.16662807300008,27.864460648000033 L 88.16662756100004,27.86441288800006 L 88.16769009900008,27.863257539000074 L 88.16795419400006,27.862825420000036 L 88.16837950800004,27.862391934000073 L 88.16883217000003,27.862347827000065 L 88.16888754700005,27.86249090800004 L 88.16906770500003,27.86295640000003 L 88.16907271700006,27.863423375000025 L 88.16931126100008,27.863888372000076 L 88.16960763500003,27.864300986000046 L 88.17013364300004,27.86434841500005 L 88.17077418800005,27.864187306000076 L 88.17135690600009,27.864078577000043 L 88.17188012300005,27.863866569000038 L 88.17234439700007,27.863603169000044 L 88.17228098900006,27.863136690000033 L 88.17198405100004,27.862672195000073 L 88.17162984900006,27.86231196800003 L 88.17144968100007,27.861846480000054 L 88.17144466000008,27.86137950500006 L 88.17155640200008,27.86091153700005 L 88.17160976100007,27.86044406600007 L 88.17183826400003,27.859975106000036 L 88.17236313600006,27.859918755000024 L 88.17289024100006,27.860069947000056 L 88.17341567100004,27.860065478000024 L 88.17394110100008,27.86006100700007 L 88.17452267500005,27.859848493000072 L 88.17498692500004,27.85958508500005 L 88.17504027000007,27.859117612000034 L 88.17474389100005,27.85870500900006 L 88.17421679100005,27.858553825000058 L 88.17374751200003,27.85835025500006 L 88.17321929700006,27.858095294000066 L 88.17269108400006,27.857840331000034 L 88.17250911100007,27.85778813400003 L 88.17251482800003,27.857738047000055 L 88.17303913000006,27.85762980800007 L 88.17373968700008,27.85762384900005 L 88.17426510600006,27.85761937700005 L 88.17490896200007,27.857769567000048 L 88.17543550000005,27.85786886300008 L 88.17596147900008,27.85791627100008 L 88.17648689800006,27.85791179100005 L 88.17706957600006,27.857803038000043 L 88.17753437200008,27.85759150800004 L 88.17799916600006,27.85737997600006 L 88.17834551600004,27.857013782000024 L 88.17822370700009,27.85654780400006 L 88.17804352200005,27.856082325000045 L 88.17763150500008,27.855774498000073 L 88.17710553600006,27.855727096000066 L 88.17658068700007,27.85578346500006 L 88.17605751800005,27.855995489000065 L 88.17535865100007,27.856157118000056 L 88.17483435800006,27.85626536600006 L 88.17430950600004,27.856321726000033 L 88.17372571500005,27.856326695000064 L 88.17320030300004,27.85633116400004 L 88.17290393900004,27.855918557000052 L 88.17284053400004,27.855452077000052 L 88.17266037300004,27.854986591000056 L 88.17236401600007,27.854573982000034 L 88.17200984000004,27.854213755000046 L 88.17154058500006,27.854010177000077 L 88.17095457600004,27.853807588000052 L 88.17042806100005,27.85370827400004 L 88.17006192900004,27.85363921100003 L 88.17000482700007,27.85358941800007 L 88.16995109100003,27.85358987400008 L 88.16929806200005,27.852831172000037 L 88.16956212700006,27.85239904900004 L 88.16977245400005,27.851967381000065 L 88.17009076200009,27.85158256300008 L 88.17040906900007,27.851197743000057 L 88.17056565600006,27.850766531000033 L 88.17056052700008,27.85028892500003 L 88.17034097500004,27.849860903000035 L 88.17021847400008,27.849754079000036 L 88.17026450600008,27.84935081800006 L 88.17020111700003,27.848884336000026 L 88.17019610400007,27.84841736000004 L 88.17036621500006,27.847948897000038 L 88.17071200500004,27.847530836000033 L 88.17076536500008,27.847063364000064 L 88.17076034900003,27.846596387000034 L 88.17052239700007,27.84618327800007 L 88.17028444600004,27.845770168000058 L 88.16998812300005,27.845357552000053 L 88.16980799200007,27.844892060000063 L 88.16980298200008,27.844425083000033 L 88.16979797100004,27.84395810600006 L 88.16979296100004,27.84349112900003 L 88.16972957800004,27.84302464700005 L 88.16943326600006,27.842612030000055 L 88.16907858400003,27.842199907000065 L 88.16860883000004,27.84194443000007 L 88.16819689400006,27.841636571000038 L 88.16778496000006,27.841328711000074 L 88.16737969500008,27.841643487000056 L 88.16767599700006,27.842056109000055 L 88.16785611300008,27.84252160400007 L 88.16786111500005,27.842988582000032 L 88.16739636100004,27.84320007900004 L 88.16728461600007,27.843668044000026 L 88.16728961600006,27.844135021000056 L 88.16729461500006,27.844601999000076 L 88.16706556700007,27.84501906500003 L 88.16671921500006,27.845385231000023 L 88.16637286000008,27.845751397000072 L 88.16602650300007,27.846117562000074 L 88.16603149800005,27.846584540000038 L 88.16615379700005,27.84710241700003 L 88.16633391600004,27.847567914000024 L 88.16645566200003,27.848033904000033 L 88.16649323500008,27.848310479000077 L 88.16645525600006,27.84831756600005 L 88.16602845400007,27.848607763000075 L 88.16560216100004,27.848945720000074 L 88.16512111100008,27.849188608000077 L 88.16458377300006,27.849193145000072 L 88.16409863900003,27.849053944000048 L 88.16404490500008,27.84905439700003 L 88.16392825800006,27.84819561100005 L 88.16392315800005,27.847718004000058 L 88.16397179100005,27.847239944000023 L 88.16402042400006,27.846761883000056 L 88.16401532500004,27.846284276000063 L 88.16400971500008,27.84575890800005 L 88.16395088400003,27.84528175500003 L 88.16383832100007,27.844805054000062 L 88.16356456600005,27.844329712000047 L 88.16334505300006,27.843901678000066 L 88.16323249500005,27.84342497600005 L 88.16306671700005,27.84299648800004 L 88.16284720900006,27.84256845300007 L 88.16262770300006,27.842140417000053 L 88.16230124800006,27.841761046000045 L 88.16197428600003,27.841333914000074 L 88.16170054800006,27.840858568000044 L 88.16137410000005,27.840479195000057 L 88.16099392500007,27.840100274000065 L 88.16066748200006,27.839720899000042 L 88.16039426100008,27.839293311000063 L 88.16001409400008,27.838914386000056 L 88.15979460700004,27.838486345000035 L 88.15957512200004,27.838058303000025 L 88.15946258700006,27.837581598000043 L 88.15961920100005,27.837150396000027 L 88.16015597200004,27.837098119000075 L 88.16069325200004,27.83709360200004 L 88.16123053100006,27.837089082000034 L 88.16182153700004,27.837084108000056 L 88.16235779800007,27.836984062000056 L 88.16289456700008,27.83693177500004 L 88.16343082600008,27.83683172600007 L 88.16391611700004,27.83664914900004 L 88.16535992000007,27.836337799000034 L 88.16589617300008,27.83623774000006 L 88.16643344700003,27.836233200000038 L 88.16697021000004,27.836180898000066 L 88.16750697200007,27.83612859300007 L 88.16804424500003,27.836124047000055 L 88.16858151800005,27.836119499000063 L 88.16911981400006,27.836210470000026 L 88.16955270600005,27.836493392000023 L 88.17003881500005,27.836728097000048 L 88.17041849600008,27.837059233000048 L 88.17085139400007,27.83734215100003 L 88.17123159200008,27.837721045000023 L 88.17155857800003,27.838148154000066 L 88.17183183800006,27.838575719000062 L 88.17205137200006,27.839003740000067 L 88.17237785100008,27.839383087000044 L 88.17270433300007,27.839762433000033 L 88.17292387300006,27.84019045200006 L 88.17292901000008,27.840668058000063 L 88.17293466200005,27.84119342400004 L 88.17299352900005,27.841670573000044 L 88.17315934400006,27.842099048000023 L 88.17332516000005,27.842527523000058 L 88.17365165500007,27.842906866000078 L 88.17387120500007,27.843334883000068 L 88.17414448800008,27.84376244300006 L 88.17436404200004,27.84419045900006 L 88.17463732900006,27.844618017000073 L 88.17485688600004,27.845046032000027 L 88.17518390900005,27.845473131000062 L 88.17551041900003,27.84585246900008 L 88.17578371500008,27.846280025000056 L 88.17594954800006,27.846708496000076 L 88.17606216600007,27.847185185000058 L 88.17606731800004,27.847662790000072 L 88.17612620400007,27.84813993700004 L 88.17634577500007,27.848567949000028 L 88.17656534800005,27.848995960000025 L 88.17683865600009,27.849423513000033 L 88.17705823300008,27.84985152400003 L 88.17738476300008,27.850230857000042 L 88.17776451400005,27.850561970000058 L 88.17809104900005,27.850941300000045 L 88.17825793200007,27.851465289000032 L 88.17842378400007,27.851893756000038 L 88.17853641800008,27.85237044200005 L 88.17880974300004,27.852797990000056 L 88.17924272600004,27.85308087900006 L 88.17972893000007,27.853315546000033 L 88.18016191700008,27.853598431000023 L 88.18064760800007,27.853785335000055 L 88.18103970500005,27.85404150100004 L 88.18120477200006,27.854398272000026 L 88.18136986300004,27.85475509400004 L 88.18153495500007,27.855111916000055 L 88.18170004900009,27.85546873800007 L 88.18194574900008,27.85582486900006 L 88.18219145000006,27.85618099900006 L 88.18259758700003,27.85646410700008 L 88.18292312000005,27.85674790400003 L 88.18332692600006,27.856816088000073 L 88.18381056100003,27.856811938000078 L 88.18429419600005,27.856807787000037 L 88.18477783000003,27.856803634000073 L 88.18491371900006,27.856778263000024 L 88.18507737600004,27.85700606000006 L 88.18514178800007,27.85708087300003 L 88.18542564300003,27.85695166900007 L 88.18588966500005,27.856670929000074 L 88.18635368400004,27.856390189000024 L 88.18681845500004,27.856178628000066 L 88.18743890000007,27.855965725000033 L 88.18790366600007,27.85575416100005 L 88.18836767700003,27.855473413000027 L 88.18883243900007,27.855261846000076 L 88.18921785200007,27.85491258500008 L 88.18968261100008,27.854701015000046 L 88.19014736700007,27.854489443000034 L 88.19069222700006,27.85448474100008 L 88.19123708600006,27.854480038000077 L 88.19178194500006,27.85447533200005 L 88.19232680400006,27.854470623000054 L 88.19287317700008,27.854604275000042 L 88.19341879400008,27.854668744000037 L 88.19404300700006,27.854801718000033 L 88.19466570400004,27.85479632600004 L 88.19520904600006,27.854653245000065 L 88.19567379100005,27.854441655000073 L 88.19621789000007,27.85436775000005 L 88.19676350700007,27.854432205000023 L 88.19723280800008,27.85463569600006 L 88.19765024000003,27.85481669400008 L 88.19787514800004,27.85435482200006 L 88.19787001500003,27.853887850000035 L 88.19792325900005,27.853420371000027 L 88.19791755600005,27.852901514000052 L 88.19808755300005,27.85243302200007 L 88.19819803100006,27.851861264000036 L 88.19825127400009,27.851393786000074 L 88.19836289100004,27.850925800000027 L 88.19847450800006,27.850457814000038 L 88.19846937300008,27.849990842000068 L 88.19852261400007,27.84952336300006 L 88.19869260300004,27.84905487000003 L 88.19880421700003,27.848586884000042 L 88.19879908100006,27.848119912000072 L 88.19885174900008,27.84760054700007 L 88.19884661300006,27.847133575000043 L 88.19878310400009,27.846667111000045 L 88.19854504700004,27.846254053000052 L 88.19853991300005,27.845787081000026 L 88.19865152400007,27.845319095000036 L 88.19887930900006,27.844798208000043 L 88.19907508600005,27.844569897000042 L 88.19915281800007,27.844499437000024 L 88.19955264600009,27.84420937400006 L 88.19995247200006,27.843919310000047 L 88.20035229600006,27.843629244000056 L 88.20075211800008,27.843339177000075 L 88.20107134200003,27.84304981100007 L 88.20139056500005,27.842760444000078 L 88.20162840200004,27.842400138000073 L 88.20178564300005,27.842040534000034 L 88.20194288300007,27.841680929000063 L 88.20201952800005,27.841322027000047 L 88.20217676700008,27.840962422000075 L 88.20225341100007,27.84060351900007 L 88.20224867100006,27.840173678000042 L 88.20216412900004,27.839816179000024 L 88.20199899600004,27.839459383000076 L 88.20191445500006,27.83910188400006 L 88.20174932300006,27.838745087000063 L 88.20142300900005,27.838389693000067 L 88.20117728900004,27.83803359600006 L 88.20085176800006,27.83774984100006 L 88.20044644600006,27.837538426000037 L 88.20004191400005,27.83739865000007 L 88.19963738300004,27.837258873000053 L 88.19923285300007,27.83711909400006 L 88.19882832400003,27.836979315000065 L 88.19834478000007,27.836983514000053 L 88.19826991500008,27.836970879000035 L 88.19826785600009,27.836968012000057 L 88.19785585900007,27.83666024400003 L 88.19750109200004,27.836248196000042 L 88.19708910000008,27.835940426000036 L 88.19667711000005,27.83563265300006 L 88.19620675500005,27.83532538600008 L 88.19573697200008,27.835070003000055 L 88.19520939200004,27.83486700900005 L 88.19474018100004,27.834663508000062 L 88.19427040400006,27.834408120000035 L 88.19380119600004,27.834204615000033 L 88.19338922200006,27.83389683300004 L 88.19292001900004,27.83369332600006 L 88.19233465100007,27.833542711000064 L 88.19186545100007,27.83333920000007 L 88.19168525000003,27.832873738000046 L 88.19162178200008,27.832407268000054 L 88.19149994900005,27.83194130100003 L 88.19137811800005,27.83147533500005 L 88.19125628700004,27.831009368000025 L 88.19095936300005,27.83054491200005 L 88.19072137200004,27.830131837000067 L 88.19048338400006,27.829718763000074 L 88.19024539700007,27.829305688000034 L 88.18989124900008,27.828945504000046 L 88.18953710400007,27.82858532000006 L 88.18929855800008,27.828120357000046 L 88.18911837700006,27.827654890000076 L 88.18893819800007,27.82718942300005 L 88.18858406200007,27.826829236000037 L 88.18828772600006,27.826416660000064 L 88.18793359500006,27.826056470000026 L 88.18740550800004,27.82580155900007 L 88.18687742300006,27.82554664500003 L 88.18662594200003,27.82552399000008 L 88.18634990500004,27.825343615000065 L 88.18582295300007,27.825192470000047 L 88.18535380100008,27.82498893500008 L 88.18488408700006,27.824733512000023 L 88.18441381200006,27.82442620100005 L 88.18394410200005,27.824170775000027 L 88.18353219400007,27.82386296100003 L 88.18300806500008,27.823971235000045 L 88.18277911800004,27.824388326000076 L 88.18272581800005,27.82485580200006 L 88.18273144200003,27.825374664000037 L 88.18273650400005,27.82584164000008 L 88.18274156600006,27.826308616000063 L 88.18274719100003,27.82682747900003 L 88.18275337800009,27.82739822700006 L 88.18275652800008,27.827688790000025 L 88.18252667300004,27.82802286200007 L 88.18212318600007,27.828493337000054 L 88.18171857200008,27.828860039000062 L 88.18131339300004,27.82917485300004 L 88.18090821200008,27.82948966600003 L 88.18050302900008,27.829804478000028 L 88.18041259700004,27.829876200000058 L 88.18027902600005,27.829667220000033 L 88.17984613500005,27.82938433100003 L 88.17936107200006,27.829245181000033 L 88.17882280300006,27.829154249000055 L 88.17828401900005,27.82901555500007 L 88.17779896000008,27.828876399000023 L 88.17726172500005,27.828880982000044 L 88.17672448900004,27.82888556300003 L 88.17618725300008,27.828890142000034 L 88.17565001700007,27.828894718000072 L 88.17511278200004,27.828899293000063 L 88.17452182200003,27.828904323000074 L 88.17398407200005,27.828861132000043 L 88.17355120000008,27.82857822300008 L 88.17317154100004,27.82824709500005 L 88.17273867400007,27.827964182000073 L 88.17220144200007,27.827968745000078 L 88.17166472300005,27.828021067000066 L 88.17112749000006,27.828025626000056 L 88.17059025800006,27.828030183000067 L 88.17000032600004,27.828130715000043 L 88.16946309300005,27.82813526700005 L 88.16898111800003,27.82828264500006 L 88.16850016500007,27.828525542000023 L 88.16796344100004,27.828577850000045 L 88.16742620500008,27.828582394000023 L 88.16683626700006,27.828682912000033 L 88.16629954100006,27.828735214000062 L 88.16570909100005,27.82878796600005 L 88.16522710800007,27.828935331000025 L 88.16474563300005,27.82913045500004 L 88.16420941300004,27.82923050900007 L 88.16367268300007,27.829282800000044 L 88.16313595200006,27.82933508900004 L 88.16254498800004,27.829340067000032 L 88.16200825600004,27.829392351000024 L 88.16147152300005,27.829444634000026 L 88.16088055800003,27.829449605000036 L 88.16029060800008,27.829550096000048 L 88.15964693300003,27.82965103500004 L 88.15916544400005,27.82984614000003 L 88.15868395400008,27.83004124300004 L 88.15820296900006,27.83028410600008 L 88.15772198200006,27.830526967000026 L 88.15718574800007,27.830626994000056 L 88.15664900600007,27.830679258000032 L 88.15605803300008,27.830684208000037 L 88.15552179600007,27.830784229000074 L 88.15498454700008,27.830788725000048 L 88.15444729800004,27.830793220000032 L 88.15391004900005,27.83079771200005 L 88.15331856900008,27.830754890000037 L 88.15272759500004,27.830759827000065 L 88.15219034600005,27.83076431300003 L 88.15170530800003,27.83062506500005 L 88.15121976800003,27.83043805400007 L 88.15073473300004,27.830298803000062 L 88.15019647800005,27.830207759000075 L 88.15009588500004,27.830333388000042 L 88.14967924900003,27.829917085000034 L 88.14900698900004,27.829501186000073 L 88.14852145800006,27.829314166000074 L 88.14803643100004,27.82917490500006 L 88.14755040100005,27.828940120000027 L 88.14738486500005,27.82887921300005 L 88.14608981400005,27.827996948000077 L 88.14565701500004,27.827713949000042 L 88.14522371700008,27.827383187000066 L 88.14473770000006,27.827148392000026 L 88.14430440700005,27.826817627000025 L 88.14392484000007,27.826486415000034 L 88.14354477400008,27.826107442000023 L 88.14316521100005,27.825776228000052 L 88.14278565100005,27.825445013000035 L 88.14245931500005,27.825065591000055 L 88.14207975900007,27.82473437400006 L 88.14202553700005,27.824687057000062 L 88.14120771700004,27.823547451000024 L 88.14104205700005,27.823118932000057 L 88.14087639900004,27.822690412000043 L 88.14065702100004,27.82226233700004 L 88.14054458700008,27.821785611000053 L 88.14048587500008,27.82130844200003 L 88.14042716300008,27.820831273000067 L 88.14042217200006,27.820353660000023 L 88.14036346200004,27.81987649100006 L 88.14030425300007,27.819351561000076 L 88.14029926300003,27.818873948000032 L 88.14029876400008,27.818826186000024 L 88.14050365900005,27.817869186000053 L 88.14049866800008,27.817391572000076 L 88.14054739600004,27.816913516000056 L 88.14059612400007,27.816435459000047 L 88.14069856900005,27.815956958000072 L 88.14074729500004,27.815478901000063 L 88.14090345600005,27.814999957000055 L 88.14111383300008,27.814568329000053 L 88.14137792400004,27.814136258000076 L 88.14142664700006,27.813658200000077 L 88.14142165300007,27.813180587000033 L 88.14141666000006,27.812702974000047 L 88.14146538200004,27.812224917000037 L 88.14140667300006,27.811747747000027 L 88.14134654000009,27.81159972200004 L 88.14142410900007,27.811405395000065 L 88.14141911600007,27.810927781000032 L 88.14141412300006,27.810450168000045 L 88.14140913000006,27.80997255400007 L 88.14140413700005,27.809494941000025 L 88.14139914400005,27.80901732700005 L 88.14128672300006,27.80854060200005 L 88.14128173100005,27.808062988000074 L 88.14127673900003,27.80758537500003 L 88.14127174700008,27.807107761000054 L 88.14132046800006,27.806629703000056 L 88.14142290300003,27.806151202000024 L 88.14152533600009,27.80567270000006 L 88.14162776900008,27.805194199000027 L 88.14173020000004,27.804715697000063 L 88.14183263100006,27.80423719500004 L 88.14188135000006,27.803759137000043 L 88.14193006800008,27.803281079000044 L 88.14197878500005,27.802803021000045 L 88.14218913500008,27.802371393000044 L 88.14239948400007,27.801939763000064 L 88.14244819900006,27.801461705000065 L 88.14254662800005,27.800601112000038 L 88.14254612800005,27.80055335000003 L 88.14259484200005,27.80007529200003 L 88.14258934600008,27.799549917000036 L 88.14258435100004,27.79907230300006 L 88.14247193600005,27.79859557700007 L 88.14241323200008,27.79811840700006 L 88.14240823700004,27.797640793000028 L 88.14240274300005,27.797115418000033 L 88.14245145700005,27.796637359000044 L 88.14239225400007,27.79611242800007 L 88.14233355200008,27.79563525800006 L 88.14227485100008,27.79515808700006 L 88.14221615000008,27.79468091700005 L 88.14221115600003,27.794203303000074 L 88.14209425600006,27.793296723000026 L 88.14209325800005,27.793201200000055 L 88.14208826500004,27.79272358600008 L 88.14208327300008,27.792245971000057 L 88.14213198700008,27.791767913000058 L 88.14218070000004,27.79128985400007 L 88.14217570800008,27.790812240000037 L 88.14217071600007,27.79033462500007 L 88.14216572400005,27.78985701000005 L 88.14209904000006,27.788615656000047 L 88.14209854100005,27.78856789400004 L 88.14209305100007,27.788042518000054 L 88.14203435500008,27.787565347000054 L 88.14202936400005,27.787087732000032 L 88.14186376200007,27.78665921000004 L 88.14180506900004,27.78618203900004 L 88.14190299400008,27.78527368300007 L 88.14195669700007,27.78527323900005 L 88.14232912200004,27.784935801000074 L 88.14275574700008,27.78464568000004 L 88.14323657100005,27.78440287500007 L 88.14382579700003,27.784254702000055 L 88.14436181900004,27.784154732000047 L 88.14484363800005,27.784007445000043 L 88.14532445500004,27.783764632000043 L 88.14586097400007,27.78371241900004 L 88.14639699100007,27.78361244200005 L 88.14687880400004,27.783465147000072 L 88.14741482000005,27.783365166000067 L 88.14795133500007,27.783312945000034 L 88.14848835200007,27.78330848300004 L 88.14902536900007,27.783304018000024 L 88.14956238600007,27.783299552000074 L 88.15004720800005,27.783438815000068 L 88.15053253400004,27.783625837000045 L 88.15101937100007,27.78395614200008 L 88.15150621100008,27.78428644400003 L 88.15193884800004,27.78456943200007 L 88.15237148700004,27.78485241800007 L 88.15269773100005,27.785231821000025 L 88.15307717600007,27.785563014000047 L 88.15351032600006,27.785893757000053 L 88.15394297500006,27.78617673800005 L 88.15426922800003,27.786556137000048 L 88.15464868200007,27.786887325000066 L 88.15502813900008,27.787218512000038 L 88.15540759800007,27.787549698000078 L 88.15584025800007,27.787832672000036 L 88.15621972100007,27.78816385600004 L 88.15659918700004,27.788495038000065 L 88.15676484900007,27.78892354100003 L 88.15693051300008,27.789352043000065 L 88.15709617800007,27.789780545000042 L 88.15752885100005,27.790063513000064 L 88.15801472500004,27.79029826900006 L 88.15839420400005,27.790629446000025 L 88.15887957600006,27.790816437000046 L 88.15931225800006,27.791099400000064 L 88.15974494100004,27.791382361000046 L 88.16023031900005,27.791569348000053 L 88.16071569800005,27.791756332000034 L 88.16092840500005,27.791895432000047 L 88.16198726100004,27.792087852000066 L 88.16252533500005,27.792178856000078 L 88.16301021200007,27.792318071000068 L 88.16349610700007,27.79255280700005 L 88.16398200500004,27.792787541000052 L 88.16441470700005,27.793070487000023 L 88.16506020000008,27.793160576000048 L 88.16535467000006,27.793302828000037 L 88.16560158200008,27.793589885000074 L 88.16601387800006,27.793949647000034 L 88.16631003900005,27.79436227800005 L 88.16666399400003,27.794722530000058 L 88.16707629800004,27.79508228700007 L 88.16737246600007,27.795494916000052 L 88.16761028900004,27.79590803800005 L 88.16784811400004,27.79632115900006 L 88.16793787300008,27.796701427000073 L 88.16789325500008,27.79691011600005 L 88.16768352800005,27.797389542000076 L 88.16768403800006,27.797437303000038 L 88.16666970200004,27.798019057000033 L 88.16618887400006,27.798261943000057 L 88.16576226300003,27.79855213600007 L 88.16528245000006,27.798890542000038 L 88.16485634300005,27.799228493000044 L 88.16477819800008,27.79932300100006 L 88.16443936800005,27.79951531200004 L 88.16397589400003,27.799830567000072 L 88.16345517400003,27.800250085000073 L 88.16305004300006,27.800564846000043 L 88.16299666600008,27.80103231800007 L 88.16294328900005,27.801499790000037 L 88.16288991000005,27.80196726300005 L 88.16271983100006,27.802435717000037 L 88.16254975000004,27.80290417200007 L 88.16232076500006,27.80332123000005 L 88.16232573500008,27.80378821100004 L 88.16221400200004,27.804256175000035 L 88.16198501200006,27.804673233000074 L 88.16163876600007,27.805039385000043 L 88.16158538100007,27.80550685700007 L 88.16176540500004,27.80597236500006 L 88.16229057700008,27.805967947000056 L 88.16275518600008,27.805756471000052 L 88.16321813600007,27.80538933200006 L 88.16368218800005,27.80512596600005 L 88.16414679100006,27.80491448500004 L 88.16461028500004,27.804599230000065 L 88.16472200800007,27.804131265000024 L 88.16489208100006,27.80366280800007 L 88.16512105700008,27.803245746000073 L 88.16535003200005,27.80282868300003 L 88.16541981300009,27.802502356000048 L 88.16564140100007,27.802326615000027 L 88.16578070700007,27.802098569000066 L 88.16586743400006,27.802097837000076 L 88.16639258600009,27.80209340300007 L 88.16691884700003,27.802192741000056 L 88.16733062600008,27.80250061000004 L 88.16756846600003,27.802913731000046 L 88.16774851100007,27.803379231000065 L 88.16816085200009,27.803738984000063 L 88.16868767800008,27.80389020100006 L 88.16875515000004,27.80389629000007 L 88.16899140000004,27.80416114800005 L 88.16942416100005,27.80444407600004 L 88.16943325800008,27.804444808000028 L 88.16949181100006,27.804506091000064 L 88.16988452700008,27.804848707000076 L 88.17027724500008,27.80519132200004 L 88.17074702600007,27.805464095000048 L 88.17113974900008,27.805806707000045 L 88.17168511100004,27.80587127000007 L 88.17203290800006,27.80586831900007 L 88.17207192200004,27.805902354000068 L 88.17255789700005,27.80613705500008 L 88.17272365100007,27.80656553500006 L 88.17288940600008,27.806994014000054 L 88.17305516200008,27.807422493000047 L 88.17343474700004,27.807753624000043 L 88.17397239200005,27.80779682000008 L 88.17435198000004,27.80812794900004 L 88.17446454400005,27.80860464400007 L 88.17457711000009,27.809081338000055 L 88.17474339000006,27.809557575000042 L 88.17474852800007,27.810035183000025 L 88.17475366700006,27.810512791000065 L 88.17488137600003,27.810712659000046 L 88.17477599000006,27.81110332800006 L 88.17454778000007,27.81158958800006 L 88.17424101700004,27.81200732600007 L 88.17401205900006,27.812424403000023 L 88.17370529200008,27.812842141000033 L 88.17386611500007,27.81332509200007 L 88.17441226000005,27.813458825000055 L 88.17495915100005,27.813661737000075 L 88.17558385300003,27.81386398500007 L 88.17605294000003,27.814067556000055 L 88.17652277400003,27.814340307000066 L 88.17699261000007,27.81461305600004 L 88.17753951200007,27.814815958000054 L 88.17808492200004,27.81488049400008 L 88.17862958600006,27.814875846000064 L 88.17917425000007,27.814871195000023 L 88.17971741800005,27.814728179000042 L 88.18033614900008,27.814376951000042 L 88.18149504300004,27.813605970000026 L 88.18188033900003,27.813256731000024 L 88.18234418900005,27.812976008000078 L 88.18265092300004,27.81255825200003 L 88.18311476800005,27.81227752600006 L 88.18365791700006,27.812134495000066 L 88.18412175800006,27.81185376600007 L 88.18458634700005,27.811642217000042 L 88.18497162600005,27.811292970000068 L 88.18535615100006,27.810874541000032 L 88.18535014200006,27.810321087000034 L 88.18534488400007,27.80983681500004 L 88.18533962700008,27.809352543000045 L 88.18533437000008,27.80886827100005 L 88.18529862100007,27.808760951000068 L 88.18556402800004,27.808520358000067 L 88.18602634500007,27.808101260000058 L 88.18633305200007,27.80768349600004 L 88.18648339700007,27.80719788700003 L 88.18640033200006,27.806714284000066 L 88.18631726800004,27.806230680000056 L 88.18615640200005,27.80574774400003 L 88.18591848700004,27.80533465800005 L 88.18591322800006,27.804850385000066 L 88.18590796900008,27.80436611300007 L 88.18590271100004,27.80388184000003 L 88.18589745200006,27.803397568000037 L 88.18589219400008,27.802913295000053 L 88.18542313900008,27.80270975700006 L 88.18487778600007,27.802645248000033 L 88.18440798400007,27.802372524000077 L 88.18424713300004,27.801889586000073 L 88.18416408300004,27.801405980000027 L 88.18408103300004,27.800922374000038 L 88.18387918200006,27.800571873000024 L 88.18392018600008,27.800439434000054 L 88.18399273500006,27.799954495000065 L 88.18398748600004,27.799470221000036 L 88.18390369000008,27.798917433000042 L 88.18366579900004,27.798504342000058 L 88.18304117300005,27.798302128000046 L 88.18249434600006,27.79809924500006 L 88.18194901800007,27.798034724000047 L 88.18140294200003,27.79790101800006 L 88.18089652600008,27.797737063000056 L 88.18063027400007,27.797566089000043 L 88.18030389700004,27.79718675600003 L 88.18003071500004,27.79675920300008 L 88.17970434200004,27.796379869000077 L 88.17927158900005,27.796096973000033 L 88.17883832200005,27.795766315000037 L 88.17858072000007,27.79564190900004 L 88.17896659700006,27.795638616000076 L 88.17951116500006,27.79563396800006 L 88.18005647900009,27.795698499000025 L 88.18068108600005,27.79590072700006 L 88.18122864600008,27.79617280000008 L 88.18169766600005,27.796376354000074 L 88.18216668700006,27.796579906000034 L 88.18271275600006,27.79671360800006 L 88.18318178100003,27.796917157000053 L 88.18372785300005,27.797050855000066 L 88.18419763000009,27.797323582000047 L 88.18466741000003,27.79759630800004 L 88.18506014600007,27.79793888100005 L 88.18545288400009,27.798281452000026 L 88.18584637500004,27.798693205000063 L 88.18631616500005,27.798965924000072 L 88.18694080100005,27.799168123000072 L 88.18733354900007,27.799510689000044 L 88.18780259300007,27.799714221000045 L 88.18834567400006,27.79957117400005 L 88.18881020300006,27.799359612000046 L 88.18927473000008,27.799148048000063 L 88.18965995100007,27.798798790000035 L 88.18949908300004,27.798315858000024 L 88.18941601300008,27.79783225600005 L 88.18917810400006,27.797419174000026 L 88.18878535800008,27.79707661300006 L 88.18839261400007,27.796734051000044 L 88.18792282900006,27.796461339000075 L 88.18745304700008,27.79618862500007 L 88.18706031100004,27.79584605900004 L 88.18659053300007,27.79557334100008 L 88.18612000700006,27.795231441000055 L 88.18572727800006,27.79488887000008 L 88.18533455100004,27.794546299000046 L 88.18494182800004,27.794203726000035 L 88.18447281200008,27.794000183000037 L 88.18400304900007,27.793727457000045 L 88.18353328800004,27.79345472800003 L 88.18306352900004,27.793181998000023 L 88.18259302400008,27.792840085000023 L 88.18212401900007,27.792636533000064 L 88.18165426700006,27.792363798000054 L 88.18118451700008,27.792091062000054 L 88.18079181500008,27.791748477000056 L 88.18039911500006,27.791405890000078 L 88.18000567100006,27.79099412000005 L 88.17945739300006,27.790652860000023 L 88.17898765600006,27.790380115000062 L 88.17851866800004,27.79017655100006 L 88.17828081700009,27.789763449000077 L 88.17804222300003,27.789281164000045 L 88.17803700200005,27.788796889000025 L 88.17779915700004,27.788383786000054 L 88.17733017900008,27.788180217000047 L 88.17678639300004,27.788254038000048 L 88.17616481600004,27.78832851900006 L 88.17554472600006,27.788541362000046 L 88.17507418800005,27.788605233000055 L 88.17500125600003,27.788586449000036 L 88.17446319200008,27.788495493000028 L 88.17392564100004,27.78845229600006 L 88.17375150700008,27.788422858000047 L 88.17390666800009,27.788140157000043 L 88.17429190200005,27.787790941000026 L 88.17475566700006,27.787510245000078 L 88.17514089600007,27.787161026000035 L 88.17552612200006,27.78681180700005 L 88.17591060200004,27.786393404000023 L 88.17629582400008,27.78604418200007 L 88.17676032100007,27.785832662000075 L 88.17714553800005,27.78548343800003 L 88.17760928500007,27.785202733000062 L 88.17799375200008,27.784784324000043 L 88.17845749400004,27.784503616000052 L 88.17892198000004,27.78429208800003 L 88.17930718500008,27.783942859000035 L 88.17969238700005,27.783593628000062 L 88.18007683900004,27.78317521500003 L 88.18030496900008,27.782688947000054 L 88.18053309800007,27.782202678000033 L 88.18068343900006,27.781717074000028 L 88.18091081600005,27.78116162300006 L 88.18121597600003,27.780605507000075 L 88.18144409600006,27.780119237000065 L 88.18151664600003,27.779634298000076 L 88.18158770100007,27.779010993000043 L 88.18158246700006,27.778526718000023 L 88.18157723300004,27.77804244300006 L 88.18141643400008,27.777559498000073 L 88.18110082000004,27.777147064000076 L 88.18055634500007,27.77715171600005 L 88.18009263900007,27.77743243100008 L 88.17986377100004,27.77784951600006 L 88.17963490100004,27.77826660100004 L 88.17932824700006,27.77868435000005 L 88.17910012000004,27.779170616000044 L 88.17902830500003,27.779724738000027 L 88.17887795900003,27.780210340000053 L 88.17872761200005,27.78069594200008 L 88.17849947900004,27.781182208000075 L 88.17819355800003,27.781669136000062 L 88.17796467400007,27.782086219000064 L 88.17742091900004,27.782160042000044 L 88.17702826500005,27.78181744400007 L 88.17678969500008,27.78133515600007 L 88.17678373700005,27.780781698000055 L 88.17670073900007,27.780298084000037 L 88.17669552700005,27.77981380800003 L 88.17653474600007,27.779330857000048 L 88.17652953500004,27.77884658100004 L 88.17636801300006,27.778294447000064 L 88.17613019800007,27.77788134000008 L 88.17573756400003,27.777538737000043 L 88.17526863700004,27.777335160000064 L 88.17464637700004,27.777340450000054 L 88.17410189900005,27.777345077000064 L 88.17355965000007,27.77755724800005 L 88.17309518000008,27.777768757000047 L 88.17263070900003,27.777980265000053 L 88.17216623600007,27.778191771000024 L 88.17170324500006,27.77854164100006 L 88.17123950900003,27.778822326000068 L 88.17093282000008,27.779240057000038 L 88.17078243800006,27.779725652000025 L 88.17078762500006,27.780209929000023 L 88.17079281100007,27.780694206000078 L 88.17072095300006,27.781248324000046 L 88.17072614000006,27.781732600000055 L 88.17065354000005,27.782217536000076 L 88.17058094000004,27.78270247200004 L 88.17050833900004,27.78318740700007 L 88.17051352500005,27.78367168400007 L 88.17051871100006,27.784155960000078 L 88.17052389800006,27.784640237000076 L 88.17052908400007,27.785124513000028 L 88.17068984700006,27.785607472000038 L 88.17123436700007,27.78560285700007 L 88.17161960100003,27.785253648000037 L 88.17208262100007,27.784903779000047 L 88.17270344000008,27.784760134000067 L 88.17294125800004,27.785173247000046 L 88.17302424300004,27.785656863000042 L 88.17302944100004,27.78614113900005 L 88.17319021700007,27.786624094000047 L 88.17319541600006,27.787108370000055 L 88.17265237400005,27.78725135700006 L 88.17210710400008,27.787186795000025 L 88.17171444800005,27.78684418200004 L 88.17116918100004,27.786779616000047 L 88.17062465600009,27.78678423100007 L 88.17008013100008,27.786788843000068 L 88.16953708600005,27.78693181700004 L 88.16941172900005,27.787045447000025 L 88.16929127400005,27.78701086700005 L 88.16880539200008,27.786776151000026 L 88.16832002300004,27.786589194000044 L 88.16778197300005,27.786498212000026 L 88.16724392400005,27.78640722700004 L 88.16670638600004,27.786364002000028 L 88.16616884800004,27.786320774000046 L 88.16563181900005,27.786325305000048 L 88.16509479100006,27.78632983500006 L 88.16455725300005,27.78628660100003 L 88.16402022500006,27.786291126000037 L 88.16348319600007,27.786295649000067 L 88.16294616700009,27.78630017000006 L 88.16235543600004,27.786305140000024 L 88.16181789900008,27.786261895000052 L 88.16133305000005,27.78612267500006 L 88.16084820300006,27.78598345300003 L 88.16031016100004,27.785892441000044 L 88.15982379600007,27.785609931000067 L 88.15933793900007,27.785375181000063 L 88.15885157800005,27.78509266800006 L 88.15841841600007,27.784761942000046 L 88.15798525600007,27.78443121400005 L 88.15755260500003,27.78414824600003 L 88.15701255200008,27.78386617600006 L 88.15657990500006,27.78358320500007 L 88.15614726100006,27.783300232000045 L 88.15571461800005,27.78301725800003 L 88.15528197800006,27.782734283000025 L 88.15490253700005,27.782403096000053 L 88.15446990200007,27.782120118000023 L 88.15414366100003,27.781740718000037 L 88.15387062000008,27.781313109000052 L 88.15359758100004,27.780885498000032 L 88.15332454400004,27.78045788700007 L 88.15305150900008,27.78003027500006 L 88.15288587600008,27.77960176700003 L 88.15277347200004,27.77912804300007 L 88.15277293700007,27.779077288000053 L 88.15276790100006,27.778599674000077 L 88.15276286500006,27.778122061000033 L 88.15270413000007,27.777644895000037 L 88.15269909500006,27.77716728100006 L 88.15274775800003,27.776689219000048 L 88.15285011800006,27.776210710000043 L 88.15295247800003,27.77573220000005 L 88.15310903900007,27.77530100300004 L 88.15337299300006,27.774868911000056 L 88.15358324800007,27.774437266000064 L 88.15395560000007,27.774099798000066 L 88.15432795000004,27.773762330000068 L 88.15475399500008,27.773424412000054 L 88.15518003700004,27.77308649300005 L 88.15555187500007,27.772701260000076 L 88.15597841700009,27.772411100000056 L 88.15645915700009,27.77216825100004 L 88.15688569400004,27.77187808800005 L 88.15720382600006,27.771493301000078 L 88.15752195600004,27.77110851200007 L 88.15794798000007,27.770770585000037 L 88.15837400200007,27.77043265700007 L 88.15869212500007,27.770047866000027 L 88.15932988300005,27.769421566000062 L 88.15938307100004,27.769373354000038 L 88.15980908300008,27.76903542200006 L 88.16023559900003,27.768745249000062 L 88.16055371000004,27.76836045400006 L 88.16092602100008,27.76802296900007 L 88.16135252900006,27.76773279300005 L 88.16172432800005,27.767347545000064 L 88.16209006500009,27.766968573000042 L 88.16225100400004,27.76689529500004 L 88.16270819300007,27.76668712700007 L 88.16316538100006,27.76647895700006 L 88.16362225600005,27.766241600000058 L 88.16397976400003,27.765917510000065 L 88.16437008000008,27.765593144000036 L 88.16476070600004,27.765297963000023 L 88.16515132900008,27.76500278000003 L 88.16540946300006,27.76459195700005 L 88.16547663100005,27.76440688200006 L 88.16566507700009,27.764257378000025 L 88.16598315600004,27.763872571000036 L 88.16640403400004,27.763057006000054 L 88.16640352500008,27.763009245000035 L 88.16656001500007,27.762578035000047 L 88.16677019600007,27.76214637100003 L 88.16703406500005,27.761714254000026 L 88.16735162300006,27.76128168400004 L 88.16750810800005,27.760850472000072 L 88.16759962700007,27.760598279000078 L 88.16776103200004,27.760485646000063 L 88.16818475200006,27.76021936500007 L 88.16847536100005,27.75977907300006 L 88.16883283400006,27.75945497200007 L 88.16932278800004,27.759246506000068 L 88.16981367700004,27.759125597000036 L 88.17043611300005,27.75903276200006 L 88.17082669800004,27.758737565000047 L 88.17098574500005,27.758269193000046 L 88.17117791200008,27.757829729000036 L 88.17127603900008,27.757624914000075 L 88.17128586000007,27.757618231000038 L 88.17160390100008,27.757233412000062 L 88.17177279500004,27.757058363000056 L 88.17228246400003,27.756798752000066 L 88.17273959100004,27.756590553000024 L 88.17319671700005,27.75638235200006 L 88.17368696200003,27.75620305700005 L 88.17417720500003,27.75602376100005 L 88.17466776000003,27.755873649000023 L 88.17482710100006,27.75543446000006 L 88.17485458200008,27.754938012000025 L 88.17484925500008,27.75444184400004 L 88.17471332600007,27.754005163000045 L 88.17444648100007,27.75359878200004 L 88.17411465000004,27.753251331000058 L 88.17378250800004,27.752874693000024 L 88.17332070400005,27.752645100000052 L 88.17282672100004,27.752474156000062 L 88.17236492200004,27.752244559000076 L 88.17190281100005,27.751985774000048 L 88.17144101500008,27.751756174000036 L 88.17104421000005,27.75146764400006 L 88.17064740700005,27.751179112000045 L 88.17018530500008,27.75092032200007 L 88.16972351700008,27.750690715000076 L 88.16922986000003,27.75054894400006 L 88.16873651600008,27.75043635800006 L 88.16821098900004,27.75038242000005 L 88.16768577400006,27.75035766700006 L 88.16716180400005,27.750449657000047 L 88.16667219500005,27.750687301000028 L 88.16618320500004,27.750983317000077 L 88.16582575100006,27.751307411000028 L 88.16550141300007,27.75166041400007 L 88.16509932400004,27.75199694400004 L 88.16489060100008,27.752035914000032 L 88.16440895100004,27.752183267000078 L 88.16409165100004,27.752280339000038 L 88.16386541200006,27.75208284000007 L 88.16353361900008,27.751735363000023 L 88.16313683400006,27.751446809000072 L 88.16270755400006,27.75118771700005 L 88.16227827700004,27.75092862300005 L 88.16181681400008,27.750728177000042 L 88.16125600400005,27.750440996000066 L 88.16079423600007,27.750211359000048 L 88.16046245800004,27.749863874000027 L 88.16027008300006,27.749635047000027 L 88.16013130000005,27.74957476000003 L 88.15963765900005,27.74943295500003 L 88.15901248500006,27.749263060000033 L 88.15859236800009,27.74922727200004 L 88.15854980000006,27.748945856000034 L 88.15841394200004,27.748509157000058 L 88.15814717100005,27.74810274200007 L 88.15765384700006,27.74799011600004 L 88.15716052500005,27.74787748800003 L 88.15656909400008,27.74779486700004 L 88.15604450900008,27.74782844200007 L 88.15555396100007,27.747978488000058 L 88.15502937500008,27.748012059000075 L 88.15450509600004,27.748074815000052 L 88.15401454500005,27.748224855000046 L 88.15345776500004,27.748317067000073 L 88.15293348300008,27.748379817000057 L 88.15240858600004,27.74838419200006 L 88.15227736200006,27.74838528500004 L 88.15181807700003,27.74838911100005 L 88.15129256600005,27.74833510800005 L 88.15079924800006,27.748222457000054 L 88.15027343100007,27.74813926400003 L 88.14974730800003,27.748026881000044 L 88.14918899400004,27.747973143000024 L 88.14866440400004,27.748006690000068 L 88.14810700800007,27.74804050800003 L 88.14780777600004,27.747663531000057 L 88.14760635100004,27.747227364000025 L 88.14711242900006,27.747056326000063 L 88.14665528900008,27.747264442000073 L 88.14616503500008,27.747443641000075 L 88.14567447500008,27.747593652000035 L 88.14518513400003,27.747860408000065 L 88.14472798600008,27.748068517000036 L 88.14423864100007,27.74833527000004 L 88.14378240500008,27.74863093600004 L 88.14329153000006,27.748751752000032 L 88.14280126400007,27.748930940000037 L 88.14234471700007,27.749197415000026 L 88.14231678300007,27.74966467400003 L 88.14235446300006,27.750131391000025 L 88.14235933700007,27.750598378000063 L 88.14239762700004,27.75112346900005 L 88.14243530800007,27.751590186000044 L 88.14247299000004,27.75205690200005 L 88.14251067200007,27.752523619000044 L 88.14254835400004,27.75299033600004 L 88.14255353400006,27.753486510000073 L 88.14255840900006,27.753953498000044 L 88.14272701900006,27.754389943000035 L 88.14296094300005,27.75479665900008 L 88.14322798100005,27.755232290000038 L 88.14326597300004,27.75572819300004 L 88.14327085100007,27.756195181000066 L 88.14327573000008,27.756662168000048 L 88.14350966100005,27.757068883000045 L 88.14393892100009,27.757328035000057 L 88.14440038100008,27.757528541000056 L 88.14482964500007,27.757787691000033 L 88.14529141400004,27.75801738000007 L 88.14572098800005,27.758305714000073 L 88.14615056300005,27.758594045000052 L 88.14661203300005,27.758794544000068 L 88.14713912300004,27.75899449600007 L 88.14766560200007,27.759136073000036 L 88.14819116400008,27.759190088000025 L 88.14865264000008,27.75939058000006 L 88.14901691500006,27.75970863400005 L 88.14938119200008,27.76002668700005 L 88.14981047700007,27.760285821000025 L 88.14998667300006,27.760392179000064 L 88.14999898000008,27.760424026000067 L 88.15032514000006,27.76080343900003 L 88.15081086700008,27.76103822500005 L 88.15129559100006,27.761177487000054 L 88.15143451400007,27.761188678000053 L 88.15136297400005,27.76126533300004 L 88.15113760300005,27.761675858000046 L 88.15101096900008,27.762114749000034 L 88.15098337900008,27.762611195000034 L 88.15118546200006,27.763105728000028 L 88.15151756000006,27.76348242100005 L 88.15201094900004,27.76359506800003 L 88.15244056200004,27.76388337900005 L 88.15247829200007,27.76435009000005 L 88.15231884900004,27.764789257000075 L 88.15219221700005,27.765228149000052 L 88.15213151300009,27.765695681000068 L 88.15213643100003,27.76616266700006 L 88.15256574700004,27.766421790000038 L 88.15309134600005,27.76647578500007 L 88.15358474900006,27.766588425000066 L 88.15414408500004,27.766729702000077 L 88.15466907000007,27.766725319000045 L 88.15515908500004,27.766516901000045 L 88.15558285900005,27.766250657000057 L 88.15564324000007,27.765753937000056 L 88.15550737000007,27.765317236000044 L 88.15527337700007,27.76491054400003 L 88.15494157000006,27.764563047000024 L 88.15457726100004,27.764245010000025 L 88.15427796100005,27.763868050000042 L 88.15420299500005,27.763674082000023 L 88.15414363900004,27.76357728000005 L 88.15400777800005,27.76314057700006 L 88.15450147500007,27.763282401000026 L 88.15484092900004,27.76352926800007 L 88.15489828200003,27.763570978000075 L 88.15513227100007,27.763977671000077 L 88.15530094800005,27.764414099000078 L 88.15563275600005,27.76476159500004 L 88.15612677100006,27.764932599000076 L 88.15662171300005,27.765191161000075 L 88.15682320900004,27.76562731200005 L 88.15682814800005,27.766094297000052 L 88.15663590900004,27.766533742000036 L 88.15631149700005,27.766886725000063 L 88.15595396300006,27.76721079500004 L 88.15556330600003,27.767505953000068 L 88.15510671500004,27.767772471000058 L 88.15474917500006,27.768096538000066 L 88.15445787200008,27.768478430000073 L 88.15423249900005,27.768888959000037 L 88.15400804900008,27.769387048000056 L 88.15397344800004,27.769463834000078 L 88.15355479800007,27.769748623000055 L 88.15312826000007,27.770038776000035 L 88.15264752100006,27.770281613000066 L 88.15222148100008,27.77061952500003 L 88.15174073800006,27.770862359000034 L 88.15110292700007,27.771488626000064 L 88.15104973400008,27.771536834000074 L 88.15073157900008,27.77192160800007 L 88.15041342200004,27.772306382000068 L 88.15014946200006,27.772738469000046 L 88.14993919600005,27.773170109000034 L 88.14962103300007,27.773554881000052 L 88.14941076400004,27.77398652000005 L 88.14920049300008,27.77441816000004 L 88.14904391800007,27.774849352000047 L 88.14899523900004,27.77532741300007 L 88.14883866200006,27.775758605000078 L 88.14846679000004,27.776143821000062 L 88.14809441300008,27.776481274000048 L 88.14719006000007,27.777300799000045 L 88.14713686300007,27.777349006000065 L 88.14665607800003,27.77759182400007 L 88.14622949100004,27.777881957000034 L 88.14580290200007,27.778172088000076 L 88.14526641000003,27.778224301000023 L 88.14472941700006,27.77822874900005 L 88.14424812300007,27.778423798000063 L 88.14376632800008,27.77857108300003 L 88.14322983300008,27.778623287000073 L 88.14269383600003,27.778723252000077 L 88.14221203700004,27.778870531000052 L 88.14167504100004,27.77887496900007 L 88.14113804500005,27.778879404000065 L 88.14060154700007,27.778931598000042 L 88.14006455000003,27.77893602900008 L 88.13952705500003,27.77889269600007 L 88.13904226500006,27.778753395000024 L 88.13850477100004,27.778710059000048 L 88.13796678100005,27.778618958000038 L 88.13748199400004,27.778479652000044 L 88.13699621400008,27.778244821000044 L 88.13651093400006,27.778057749000027 L 88.13602615100007,27.77791843800003 L 88.13554087300008,27.777731363000044 L 88.13500140200006,27.77749696500007 L 88.13451563200005,27.77726212500005 L 88.13408306800005,27.776979081000036 L 88.13359829200004,27.77683976000003 L 88.13311302300008,27.776652677000072 L 88.13262775600003,27.776465591000033 L 88.13214298500003,27.77632626600007 L 88.13165772000008,27.77613917700006 L 88.13117196300004,27.775904324000066 L 88.13068670200005,27.775717232000034 L 88.13020144300003,27.775530137000032 L 88.12971667900007,27.77539080300005 L 88.12793971200006,27.774927658000024 L 88.12793922000003,27.774879896000073 L 88.12761309200005,27.774500430000046 L 88.12718055600004,27.774217363000048 L 88.12674802200007,27.77393429500006 L 88.12647510600004,27.773506627000074 L 88.12620219300004,27.773078958000042 L 88.12608988000005,27.772602214000074 L 88.12608496200005,27.772124596000026 L 88.12624162500003,27.77169342600007 L 88.12634409900005,27.771214933000067 L 88.12633918000006,27.77073731400003 L 88.12633426100007,27.77025969500005 L 88.12632934200008,27.76978207700006 L 88.12632442400007,27.76930445800008 L 88.12631950500008,27.76882683900004 L 88.12592987400006,27.767492568000023 L 88.12592938200004,27.76744480600007 L 88.12587077200004,27.766967625000063 L 88.12570477400004,27.766491317000032 L 88.12553877800008,27.766015010000046 L 88.12542647700008,27.765538265000032 L 88.12542156300003,27.76506064600005 L 88.12541664900004,27.76458302700007 L 88.12541173600005,27.764105407000045 L 88.12540682200006,27.763627788000065 L 88.12540190900006,27.763150169000028 L 88.12550438000005,27.762671675000036 L 88.12549946600006,27.762194056000055 L 88.12533397000004,27.761765510000032 L 88.12522167400004,27.761288764000028 L 88.12510938000008,27.760812018000024 L 88.12506242500007,27.760429672000043 L 88.12519760700008,27.758948428000053 L 88.12519269500007,27.758470808000027 L 88.12518778400005,27.757993189000047 L 88.12523607100007,27.75746737000003 L 88.12528484900008,27.756989313000076 L 88.12538731500007,27.756510820000074 L 88.12548978100006,27.756032326000025 L 88.12564593500008,27.75555339500005 L 88.12580257800005,27.755122226000026 L 88.12606659600004,27.754690182000047 L 88.12622323700003,27.754259013000024 L 88.12643356400008,27.753827406000028 L 88.12659020200005,27.75339623600007 L 88.12680052600007,27.752964629000076 L 88.12711871400006,27.75257990800003 L 88.12727534800007,27.752148737000027 L 88.12743198100009,27.751717566000025 L 88.12743148900006,27.751669804000073 L 88.12763836200008,27.75090386200003 L 88.12774081300006,27.75042536600006 L 88.12773589300008,27.74994774700008 L 88.12778465800005,27.749469689000023 L 88.12788710700005,27.74899119300005 L 88.12804373300008,27.74856002200005 L 88.12809249600008,27.74808196400005 L 88.12808757500005,27.747604344000024 L 88.12824370600003,27.747125410000024 L 88.12840032800005,27.746694239000078 L 88.12877217700003,27.746309076000045 L 88.12909034000006,27.745924351000042 L 88.12957201500006,27.74577712000007 L 88.12982453600006,27.745624345000067 L 88.13019483000005,27.745595957000035 L 88.13071971700003,27.745591667000042 L 88.13124406900005,27.74553548700004 L 88.13176895600003,27.745531193000033 L 88.13235109100003,27.74542264400003 L 88.13287544000008,27.745366458000035 L 88.13339978900007,27.74531027100005 L 88.13392467500006,27.745305968000025 L 88.13444902300006,27.745249777000026 L 88.13497283300006,27.74514169500003 L 88.13549502700005,27.744877948000067 L 88.13605538900003,27.744673169000066 L 88.13637891900004,27.744670511000038 L 88.13696843900004,27.74457013400007 L 88.13750477200006,27.744517959000063 L 88.13798593200005,27.74432293700005 L 88.13841241400007,27.744032832000073 L 88.13883889400006,27.74374272500006 L 88.13899547000005,27.74331154300006 L 88.13931358700006,27.742926795000074 L 88.13936677200007,27.74287859100008 L 88.13980002800008,27.742797777000078 L 88.13990630300003,27.742817872000046 L 88.14005487600008,27.742750240000078 L 88.14037069500006,27.74260647600005 L 88.14089448500005,27.742498373000046 L 88.14127497800007,27.742306170000063 L 88.14141665100004,27.742234604000032 L 88.14199767500008,27.74202224000004 L 88.14246205900008,27.74181083700006 L 88.14298476000005,27.74159895100007 L 88.14362572100003,27.741541761000065 L 88.14415004500006,27.74148553300006 L 88.14461388000007,27.741222235000066 L 88.14484172800007,27.74070142900007 L 88.14507066000004,27.74028439800003 L 88.14529904700004,27.739815478000025 L 88.14570401200007,27.73950077300003 L 88.14593239400006,27.73903185200004 L 88.14627849500005,27.738665741000034 L 88.14656573300005,27.738248224000074 L 88.14702846200004,27.73788114300004 L 88.14743341500008,27.73756643300004 L 88.14783836600003,27.737251721000064 L 88.14836266600008,27.737195478000046 L 88.14882701700003,27.73698405400006 L 88.14911424100006,27.73656653200004 L 88.14910934200003,27.73609954400007 L 88.14898781200003,27.735633525000026 L 88.14892459800006,27.73516702200004 L 88.14886166100007,27.734702551000055 L 88.14894282500006,27.73453588500007 L 88.14899149300004,27.73405782100008 L 88.14925537000005,27.733625737000068 L 88.14946556900009,27.733194097000023 L 88.14946055700005,27.73271648000008 L 88.14929501600005,27.732287962000044 L 88.14907580100004,27.731859889000077 L 88.14891026300006,27.731431371000042 L 88.14885658700007,27.731431817000043 L 88.14831947900007,27.73113617000007 L 88.14833680900006,27.731020536000074 L 88.14825325700008,27.730467713000053 L 88.14801348300006,27.729846998000028 L 88.14785291000004,27.729364004000047 L 88.14769233800007,27.728881009000077 L 88.14760951700003,27.72839737000004 L 88.14752669600006,27.72791373000007 L 88.14731647000008,27.72763871500007 L 88.14775704100003,27.727635062000047 L 88.14830127700003,27.727630546000057 L 88.14884551200004,27.727626029000078 L 88.14938974700004,27.727621509000073 L 88.14993253000006,27.727478620000056 L 88.15039611100008,27.727198009000062 L 88.15046877400005,27.726713079000035 L 88.15054143600008,27.726228148000075 L 88.15053635000004,27.725743864000037 L 88.15053126500004,27.725259580000056 L 88.15029366900006,27.724846419000073 L 88.14990131000008,27.724503732000073 L 88.14943120800007,27.724161690000074 L 88.14911587300008,27.723749172000055 L 88.14857093200004,27.72368450600004 L 88.14802671600006,27.72368902200003 L 88.14748177600006,27.72362435200006 L 88.14693611200005,27.723490497000057 L 88.14639044900008,27.72335663900003 L 88.14592108600004,27.723083768000038 L 88.14552874600008,27.72274106900005 L 88.14498308900005,27.72260720500003 L 88.14435968800007,27.722473982000054 L 88.14381475600004,27.72240929800006 L 88.14326982400007,27.72234461100004 L 88.14272561400008,27.722349106000024 L 88.14218140300005,27.72235359900003 L 88.14163719300007,27.722358089000068 L 88.14109298200003,27.72236257700007 L 88.14070066000005,27.72201986400006 L 88.14054013200007,27.721536859000025 L 88.14045734800004,27.72105321400005 L 88.14045230900007,27.720568928000034 L 88.14044727000004,27.720084641000028 L 88.14020972300005,27.719671461000075 L 88.14004920100007,27.71918845500005 L 88.13988868000007,27.718705449000026 L 88.13972816000006,27.718222444000048 L 88.13972312500005,27.717738157000042 L 88.13948414800007,27.71718660700003 L 88.13924661100003,27.716773424000053 L 88.13870099100006,27.71663953500007 L 88.13815680800008,27.716644011000028 L 88.13745714400005,27.71664976200003 L 88.13691296100006,27.716654234000032 L 88.13636877800008,27.716658703000064 L 88.13574685500004,27.71666380700003 L 88.13512636400009,27.716807277000044 L 88.13458218000005,27.716811739000036 L 88.13403871100007,27.716885383000033 L 88.13349595700004,27.717028208000045 L 88.13303165800005,27.71723957900008 L 88.13280272500003,27.717656592000026 L 88.13280773000008,27.718140880000078 L 88.13273499300004,27.718625804000055 L 88.13266297000007,27.719179911000026 L 88.13259023200004,27.71966483500006 L 88.13259523700003,27.720149123000056 L 88.13252249800007,27.720634046000043 L 88.13252750300006,27.72111833400004 L 88.13237701900005,27.721603894000054 L 88.13214879000003,27.722090089000062 L 88.13168518100008,27.722370640000065 L 88.13114239600009,27.722513457000048 L 88.13059961100004,27.72265627300004 L 88.13005753700008,27.72286826900006 L 88.12959320600004,27.72307963000003 L 88.12905041500005,27.72322243900004 L 88.12858679300007,27.723502980000035 L 88.12820162700007,27.72385206900003 L 88.12789491700005,27.724269708000065 L 88.12743271100004,27.72468861400006 L 88.12712599500009,27.725106251000057 L 88.12681998800008,27.725593072000038 L 88.12651326800005,27.726010708000047 L 88.12628429300008,27.726427711000042 L 88.12605531600008,27.726844713000048 L 88.12590550700008,27.727399451000053 L 88.12575569700005,27.72795418800007 L 88.12560588600007,27.72850892500003 L 88.12561086100004,27.728993213000024 L 88.12561583700005,27.729477501000076 L 88.12585477400006,27.73002907500006 L 88.12617146400004,27.730580016000033 L 88.12656377500008,27.730922771000053 L 88.12703312700006,27.73119570800003 L 88.12750248100008,27.731468643000028 L 88.12759989800008,27.731510997000044 L 88.12754653600007,27.731559357000037 L 88.12717423900006,27.731896753000058 L 88.12685610800008,27.732281473000057 L 88.12653797500008,27.732666193000057 L 88.12627400900004,27.733098237000036 L 88.12595636300006,27.733530718000054 L 88.12579974700003,27.733961887000078 L 88.12580023800007,27.734009650000075 L 88.12576243000007,27.73406778800006 L 88.12550867200008,27.734183277000056 L 88.12481031400006,27.734327336000035 L 88.12388011300004,27.734611654000048 L 88.12341480900005,27.73473404500004 L 88.12341075400008,27.734338707000063 L 88.12348354000005,27.733853788000033 L 88.12347857300006,27.733369500000038 L 88.12362911100007,27.73288394900004 L 88.12362272400009,27.73226129300008 L 88.12369550800008,27.73177637300006 L 88.12376829100003,27.73129145400003 L 88.12391882500003,27.730805902000043 L 88.12391547900006,27.73047974900004 L 88.12407077800003,27.73045871900007 L 88.12414355900006,27.72997379900005 L 88.12413859000009,27.729489511000054 L 88.12413362000007,27.72900522200007 L 88.12412865100004,27.728520934000073 L 88.12412368300005,27.728036646000078 L 88.12411381700008,27.727978961000076 L 88.12412765500005,27.727956948000042 L 88.12412716500006,27.727909185000044 L 88.12417594000004,27.727431127000045 L 88.12433255300004,27.726999959000068 L 88.12438132600005,27.72652190100007 L 88.12394973500005,27.726239302000067 L 88.12394831400007,27.72610075500006 L 88.12386559900006,27.725617098000043 L 88.12370513800005,27.72513407200006 L 88.12331285800008,27.72479130800008 L 88.12284425200005,27.724587541000062 L 88.12237564700007,27.724383773000056 L 88.12183000700009,27.724249818000033 L 88.12128436700004,27.72411586000004 L 88.12073943600006,27.724051085000042 L 88.12019450600008,27.723986307000075 L 88.11965028400004,27.723990711000056 L 88.11902831500004,27.723995742000056 L 88.11840705200007,27.72406995500006 L 88.11802185000005,27.72441901700006 L 88.11779284500005,27.724836006000032 L 88.11779778500005,27.725320296000064 L 88.11772568400005,27.72587439800003 L 88.11773062400005,27.72635868800006 L 88.11773556400004,27.726842977000047 L 88.11781825300005,27.72732663800008 L 88.11805785300004,27.72794741200005 L 88.11813701400007,27.728085152000062 L 88.11813913200007,27.728292705000058 L 88.11814407400004,27.728776994000043 L 88.11814901700006,27.729261283000028 L 88.11815396000009,27.72974557200007 L 88.11823665300005,27.730229233000045 L 88.11839709800006,27.73071226600007 L 88.11878938500007,27.731055044000072 L 88.11933505700006,27.731189010000037 L 88.11980439300004,27.731461971000044 L 88.11980510000006,27.731531156000074 L 88.12004259900004,27.731944372000044 L 88.12012883900007,27.73277395200006 L 88.12013379200005,27.733258241000044 L 88.12013945100006,27.733811713000023 L 88.12014440400009,27.734296002000065 L 88.12014935600007,27.73478029100005 L 88.12031264800004,27.735540056000048 L 88.12055369700005,27.736299192000047 L 88.12065619900005,27.73681728500003 L 88.12056077500006,27.73699103200005 L 88.12041021900006,27.737476580000077 L 88.12025966100003,27.73796212800005 L 88.12003134600008,27.738448305000077 L 88.11988078500008,27.73893385200006 L 88.11988573800005,27.739418141000044 L 88.11989069000003,27.73990242900004 L 88.11997340100004,27.740386088000037 L 88.12013387000007,27.740869117000045 L 88.12030603600004,27.741019535000078 L 88.12029052200006,27.74117153000003 L 88.12002651100005,27.74160356300007 L 88.11970832700007,27.741988268000057 L 88.11917443700008,27.742279186000076 L 88.11869373800005,27.742521905000046 L 88.11865465100004,27.74254164100006 L 88.11789583600006,27.742547776000038 L 88.11735363900004,27.74275972600003 L 88.11681143900006,27.742971674000046 L 88.11634593900004,27.74307921600007 L 88.11634417600004,27.742906256000026 L 88.11633923800008,27.74242196800003 L 88.11641206000007,27.741937051000036 L 88.11648488100008,27.74145213500003 L 88.11694931500006,27.741240816000072 L 88.11741163000005,27.74082194400006 L 88.11779618300005,27.740403698000023 L 88.11786899700007,27.73991878100003 L 88.11801956800008,27.739433236000025 L 88.11801462400007,27.73894894700004 L 88.11808743600005,27.738464030000046 L 88.11800473600005,27.73798037000006 L 88.11783461700009,27.737938606000057 L 88.11740933400006,27.737660138000024 L 88.11692378000004,27.737425229000053 L 88.11654461300003,27.737093926000057 L 88.11611225600006,27.736810818000038 L 88.11573309400006,27.736479513000063 L 88.11535393400004,27.736148207000042 L 88.11486936300008,27.73600881400006 L 88.11438430700008,27.73582165700003 L 88.11384654500006,27.735730455000066 L 88.11336197800006,27.73559105700008 L 88.11282518800004,27.73559537600005 L 88.11228839900008,27.73559969300004 L 88.11175160900007,27.735604008000053 L 88.11121530400004,27.735656083000038 L 88.11067899900007,27.735708155000054 L 88.11014366100005,27.73585575100003 L 88.10955464200003,27.73600377500003 L 88.10901833300005,27.73605584200004 L 88.10848202400007,27.73610790600003 L 88.10794619800004,27.736207731000036 L 88.10746453300004,27.736354886000072 L 88.10698383200008,27.736597565000068 L 88.10650312800004,27.736840242000028 L 88.10607658500004,27.737130251000053 L 88.10559491300006,27.73727740000004 L 88.10505907800007,27.73737721400005 L 88.10457788500008,27.737572122000074 L 88.10409765400004,27.73786255300007 L 88.10367110000004,27.738152555000056 L 88.10313574000008,27.738300124000034 L 88.10265405800004,27.73844726300007 L 88.10211821400009,27.738547066000024 L 88.10158188900004,27.73859910400006 L 88.10104508300003,27.73860337700006 L 88.10050827600008,27.738607649000073 L 88.10009963000005,27.73868375400008 L 88.10009963000005,27.73874657500005 L 88.09968299400003,27.73916287800006 L 88.09888431700006,27.73916287800006 L 88.09858391800003,27.739434972000026 L 88.09821198200007,27.739820056000042 L 88.09817164700007,27.73984041500006 L 88.09801645200008,27.739995486000055 L 88.09759981700006,27.740411789000063 L 88.09718318100005,27.74082809300006 L 88.09676654600008,27.74124439700006 L 88.09606589500004,27.741611225000042 L 88.09563978300008,27.741948965000063 L 88.09526735100007,27.74228627900004 L 88.09489491600004,27.74262359200003 L 88.09452247900003,27.74296090400003 L 88.09415004000005,27.74329821500004 L 88.09383223600008,27.74373062600006 L 88.09367548000006,27.744161762000033 L 88.09341135500006,27.744593748000057 L 88.09309306800003,27.744978394000043 L 88.09299046800004,27.745456868000076 L 88.09299523600004,27.74593449400004 L 88.09300000500008,27.74641212000006 L 88.09311214300004,27.746888897000076 L 88.09327749000005,27.747317487000032 L 88.09360341700005,27.747697041000038 L 88.09398303200004,27.748076170000047 L 88.09398292400004,27.74818884000007 L 88.09416300000004,27.748306785000068 L 88.09464808000007,27.748494012000037 L 88.09513411700004,27.748776762000034 L 88.09546005500005,27.749156311000036 L 88.09578599500009,27.749535859000048 L 88.09590639200007,27.749556291000033 L 88.09588255200003,27.74976401500004 L 88.09617832800006,27.750176811000074 L 88.09664699900009,27.750380665000023 L 88.09723232000005,27.750583593000044 L 88.09770099500008,27.750787443000036 L 88.09811238800006,27.75109553200008 L 88.09852378400007,27.751403620000076 L 88.09899246400005,27.751607466000053 L 88.09940438500007,27.751967439000055 L 88.09975798400006,27.75232787400006 L 88.10016938900009,27.752635957000052 L 88.10069588100004,27.752787444000035 L 88.10127704600006,27.752575248000028 L 88.10191496500005,27.75220691900006 L 88.10237947500008,27.751995648000047 L 88.10284398200008,27.751784374000067 L 88.10330796400007,27.751521212000057 L 88.10371309700008,27.751206624000076 L 88.10417759800004,27.75099534700007 L 88.10464000300004,27.750576515000034 L 88.10504460400006,27.750210036000055 L 88.10509821300008,27.749742576000074 L 88.10474460600005,27.749382154000045 L 88.10421812500005,27.749230682000075 L 88.10369216900006,27.749131095000052 L 88.10351249200005,27.748665497000047 L 88.10339113900005,27.748199433000025 L 88.10292194200008,27.74794371400003 L 88.10269283300005,27.748360680000076 L 88.10222886200006,27.74862384100004 L 88.10170447700006,27.748679911000067 L 88.10117956900007,27.748684092000076 L 88.10065466200007,27.74868827000006 L 88.10012923200009,27.748640558000034 L 88.09972166000006,27.748427380000066 L 88.09979805200004,27.74807102500006 L 88.10017048900005,27.747733699000037 L 88.10065173500004,27.747538805000033 L 88.10124227000006,27.747534104000067 L 88.10177815800006,27.747434304000024 L 88.10225988000008,27.747287166000035 L 88.10274063800006,27.74704450300004 L 88.10316722800007,27.746754504000023 L 88.10370166600006,27.74651140900005 L 88.10418290000007,27.74631650300006 L 88.10441119200004,27.746109715000046 L 88.10458013300007,27.746088299000064 L 88.10510463400004,27.746045190000075 L 88.10562913600006,27.74600207900005 L 88.10579977700007,27.745572603000028 L 88.10579506000005,27.745105609000063 L 88.10561577400006,27.74467892900003 L 88.10526231300008,27.744331480000028 L 88.10499594300006,27.743944415000044 L 88.10455579100005,27.743675495000048 L 88.10435808100004,27.74364779800004 L 88.10403012300009,27.74360185300003 L 88.10350445500006,27.743528209000033 L 88.10297878900008,27.743454564000047 L 88.10319317600005,27.743024741000056 L 88.10371805700004,27.743020554000054 L 88.10424332900004,27.743055281000068 L 88.10425343500003,27.74305520000007 L 88.10425702900005,27.743020039000044 L 88.10479385700006,27.743015753000066 L 88.10533164800006,27.74310698900007 L 88.10581624000008,27.743246414000055 L 88.10619539700008,27.743577746000028 L 88.10624908000005,27.743577317000074 L 88.10666358600008,27.74393953400005 L 88.10661840000006,27.74433361000007 L 88.10668144100003,27.744800138000073 L 88.10686112500008,27.745265732000064 L 88.10709860700007,27.74567897000003 L 88.10733609100004,27.74609220900004 L 88.10763189800008,27.746504979000065 L 88.10792823300005,27.746969637000063 L 88.10839796200008,27.74727722800003 L 88.10904512800005,27.747463405000076 L 88.10924325800005,27.747661231000052 L 88.10962244100006,27.747992553000074 L 88.11010754400007,27.748179725000057 L 88.11053993200005,27.748462850000067 L 88.11102455400004,27.748602257000073 L 88.11156140700007,27.74859794300005 L 88.11209826100009,27.748593627000048 L 88.11263511400006,27.748589309000067 L 88.11317148100005,27.748537227000043 L 88.11376153300006,27.74848471000007 L 88.11429741300003,27.748384862000023 L 88.11483426500007,27.748380535000024 L 88.11537111700005,27.748376207000035 L 88.11590796800004,27.74837187600008 L 88.11644530700005,27.748415306000027 L 88.11698264600005,27.748458733000064 L 88.11746776200005,27.748645879000037 L 88.11790017100003,27.748928981000063 L 88.11827987200007,27.749308040000074 L 88.11876499400006,27.749495181000043 L 88.11930429300008,27.749729648000027 L 88.11973671000004,27.75001274400006 L 88.12011593200003,27.75034403500007 L 88.12060155200004,27.750578931000064 L 88.12097351500006,27.750722411000027 L 88.12097811500007,27.751171541000076 L 88.12098342900003,27.751690420000045 L 88.12087156300004,27.75215835700004 L 88.12087634500006,27.752625348000038 L 88.12088112700008,27.753092340000023 L 88.12088644100004,27.75361121900005 L 88.12094955000003,27.754077737000046 L 88.12095220100008,27.754087913000035 L 88.12090617800004,27.75411115000003 L 88.12042445400004,27.75425835200008 L 88.11994272900006,27.754405553000026 L 88.11962450900006,27.75479025800007 L 88.11946784200006,27.755221421000044 L 88.11936535000007,27.75569991100008 L 88.11937023600007,27.756177532000038 L 88.11937512100008,27.756655152000064 L 88.11938000700007,27.757132773000023 L 88.11938049500003,27.757180535000032 L 88.11970849600004,27.757751072000076 L 88.11982076400005,27.758227823000027 L 88.11982565200003,27.758705443000053 L 88.11999112200004,27.75913399700005 L 88.12015659300005,27.759562551000045 L 88.12026886500007,27.760039301000063 L 88.12048803000005,27.760467419000065 L 88.12054661200006,27.760944605000077 L 88.12060519600004,27.761421790000043 L 88.12061008800003,27.76189941000007 L 88.12061057700004,27.761947172000077 L 88.12089029000003,27.763043522000032 L 88.12089518400006,27.76352114200006 L 88.12090007800003,27.76399876200003 L 88.12090497100007,27.764476382000055 L 88.12090986500004,27.764954002000025 L 88.12086106600003,27.765432057000055 L 88.12086204500008,27.76552758100007 L 88.12066635400004,27.76739204000006 L 88.12061755300005,27.767870095000035 L 88.12056924100006,27.768395912000074 L 88.12057413400004,27.768873532000043 L 88.12057902800007,27.76935115200007 L 88.12058392100005,27.76982877100005 L 88.12053560900006,27.770354588000032 L 88.12054050200004,27.77083220800006 L 88.12033012100005,27.771263807000025 L 88.12033501400003,27.771741426000062 L 88.12033990700007,27.772219046000032 L 88.12034480000005,27.77269666500007 L 88.12018811200005,27.773127828000042 L 88.11986984200007,27.773512535000066 L 88.11981614500007,27.77351297000007 L 88.11896431700006,27.774236357000063 L 88.11848250300005,27.774383555000043 L 88.11800117500007,27.77457851300005 L 88.11751984600005,27.774773469000024 L 88.11703851500005,27.774968423000075 L 88.11650348400008,27.775163810000038 L 88.11596942600005,27.775454719000038 L 88.11548808900005,27.775649668000028 L 88.11500626300005,27.775796854000077 L 88.11452443600007,27.775944038000034 L 88.11404309400007,27.776138982000077 L 88.11356223700005,27.776381687000026 L 88.11302622000005,27.776481537000052 L 88.11243601700005,27.776534054000024 L 88.11189951200004,27.776586138000027 L 88.11136300700008,27.776638219000063 L 88.11077328700009,27.77673849100006 L 88.11023726600007,27.776838330000032 L 88.10970027300004,27.776842643000066 L 88.10916376500006,27.776894715000026 L 88.10857307300006,27.776899455000034 L 88.10803704900007,27.776999285000045 L 88.10750005500006,27.77700358900006 L 88.10696354500004,27.777055653000048 L 88.10642606800008,27.77701219100004 L 88.10588907400006,27.77701648900006 L 88.10535111500008,27.77692526000004 L 88.10481315600003,27.776834030000032 L 88.10427568000006,27.776790559000062 L 88.10368498800005,27.776795277000076 L 88.10314799500009,27.776799564000044 L 88.10261100100007,27.776803849000032 L 88.10202030900007,27.776808560000063 L 88.10148331500005,27.776812841000037 L 88.10089310300003,27.776865310000062 L 88.10035610900007,27.776869586000032 L 88.09982055600005,27.777017147000038 L 88.09923034200006,27.777069609000023 L 88.09869430600008,27.777169403000073 L 88.09815683000005,27.777125908000073 L 88.09756613500008,27.777130601000067 L 88.09702913900009,27.77713486400006 L 88.09649262200008,27.777186888000074 L 88.09595658300003,27.77728667200006 L 88.09547520000007,27.77748155200004 L 88.09499381500007,27.777676432000078 L 88.09456708500005,27.777966409000044 L 88.09426673300004,27.778170506000038 L 88.09374240200003,27.77806847000005 L 88.09321990000007,27.778180078000048 L 88.09273874700006,27.77839883000007 L 88.09221588400004,27.77847461300007 L 88.09169302100008,27.778550393000046 L 88.09117015700008,27.77862617100004 L 88.09064729300007,27.778701948000048 L 88.09012407000006,27.778741900000057 L 88.08960084700004,27.778781851000076 L 88.08903770500007,27.778857939000034 L 88.08851519400008,27.77896952900005 L 88.08795240600006,27.779081435000023 L 88.08743025000007,27.779228843000055 L 88.08690773500007,27.77934042700008 L 88.08638557500007,27.77948783100004 L 88.08582278300008,27.77959972800005 L 88.08525998900006,27.779711622000036 L 88.08477810100004,27.77985870400005 L 88.08309112700005,27.78033765600003 L 88.08301057500006,27.780338287000063 L 88.08248876000005,27.78052149900003 L 88.08200792800005,27.780776037000066 L 88.08152709400008,27.781030573000066 L 88.08104554900007,27.781213464000075 L 88.08052301700008,27.781325025000058 L 88.08004111500009,27.78147209100007 L 88.07951787400003,27.781512004000035 L 88.07903632300008,27.78169488800006 L 88.07851378800007,27.78180644100007 L 88.07803188100007,27.781953500000043 L 88.07750969500006,27.78210087100007 L 88.07694652600009,27.782176910000032 L 88.07638300300005,27.782217125000045 L 88.07581948000006,27.78225733800008 L 88.07525630800006,27.78233337100005 L 88.07473306000009,27.782373266000036 L 88.07416988700004,27.78244929400006 L 88.07364699000004,27.78252500700006 L 88.07312409300005,27.782600718000026 L 88.07260049100006,27.782604783000068 L 88.07203731500005,27.782680802000073 L 88.07151441500008,27.782756507000045 L 88.07095088700004,27.782796700000063 L 88.07042763500004,27.782836579000048 L 88.06990438200006,27.782876456000054 L 88.06938112900008,27.782916331000024 L 88.06853670800007,27.78306616100008 L 88.06849643100009,27.783066473000076 L 88.06797282700006,27.783070520000024 L 88.06744922200005,27.78307456600004 L 88.06692526800003,27.783042787000056 L 88.06640166300008,27.783046829000057 L 88.06587736000006,27.78297922400003 L 88.06535305700004,27.78291161800007 L 88.06482840600006,27.782808187000057 L 88.06430480200004,27.78281222100003 L 88.06378119800007,27.782816253000078 L 88.06325654800008,27.78271281600007 L 88.06273190000007,27.78260937700003 L 88.06220794800004,27.782577581000055 L 88.06168469300007,27.782617427000048 L 88.06116213300004,27.782728915000064 L 88.06064061400008,27.782947867000075 L 88.06015867600007,27.783094864000077 L 88.05959513900007,27.78313501100007 L 88.05903264400007,27.78328262200006 L 88.05850973000008,27.783358278000037 L 88.05794653900006,27.783434241000066 L 88.05742362400008,27.78350989300003 L 88.05690001500005,27.783513898000024 L 88.05637709900003,27.78358954600003 L 88.05585349000006,27.783593548000056 L 88.05533022600008,27.783633370000075 L 88.05480696300003,27.78367319000006 L 88.05428404400004,27.783748830000036 L 88.05376043400008,27.783752824000032 L 88.05239409500007,27.784085660000073 L 88.05235381700004,27.784085966000077 L 88.05183123900008,27.784197420000055 L 88.05130831500009,27.784273049000035 L 88.05078504700003,27.784312853000074 L 88.05026143300006,27.784316834000037 L 88.04973816300009,27.78435663500005 L 88.04917427200007,27.784360917000072 L 88.04861072300008,27.784401020000075 L 88.04808745200006,27.78444081400005 L 88.04756383800003,27.784444785000062 L 88.04695966700007,27.78444936300008 L 88.04643536600008,27.784381685000028 L 88.04587078800006,27.784314309000024 L 88.04530689600006,27.784318576000032 L 88.04478293900007,27.784286714000075 L 88.04425864000007,27.784219027000063 L 88.04369406400008,27.78415164200004 L 88.04316976600006,27.78408395100007 L 88.04264615200003,27.784087903000056 L 88.04208226100008,27.784092157000032 L 88.04155796400005,27.78402446000007 L 88.03957923200005,27.783501986000033 L 88.03957889200007,27.78346616300007 L 88.03909317400007,27.78321904200004 L 88.03864773700008,27.782971616000054 L 88.03816304500003,27.78283195800003 L 88.03767835300005,27.782692299000075 L 88.03719366300004,27.782552638000027 L 88.03674823300008,27.782305206000046 L 88.03626286700006,27.78209389600005 L 88.03577784100008,27.781918408000024 L 88.03525288000003,27.78177904100005 L 88.03476785800007,27.781603549000067 L 88.03428283700003,27.78142805500005 L 88.03375788000005,27.78128868300007 L 88.03331246200008,27.781041239000047 L 88.03278716900007,27.780866041000024 L 88.03230147800008,27.780618895000032 L 88.03189566600008,27.78029950100006 L 88.03186231900008,27.780286113000045 L 88.03144651500008,27.780011278000075 L 88.03106744700005,27.779679740000063 L 88.03058232800004,27.779492292000043 L 88.03015001200004,27.779208915000027 L 88.02971769900006,27.77892553600003 L 88.02923168600006,27.77864255600008 L 88.02879937700004,27.77835917500005 L 88.02831426700004,27.778171718000067 L 88.02798846700006,27.777792008000063 L 88.02766266800006,27.77741229800006 L 88.02733687200003,27.777032586000075 L 88.02701063000006,27.776605110000048 L 88.02663158700005,27.77627355900006 L 88.02630579800007,27.77589384500004 L 88.02592675900007,27.77556229100003 L 88.02554727500006,27.775182974000074 L 88.02522149300006,27.77480325700003 L 88.02489571300003,27.774423539000054 L 88.02446343200006,27.774140143000068 L 88.02408395800006,27.773760821000053 L 88.02365168200004,27.77347742200004 L 88.02327221300004,27.773098098000048 L 88.02278624200005,27.772815094000066 L 88.02234621500008,27.772558842000024 L 88.02226485000006,27.77253238700007 L 88.02188672800008,27.772296349000044 L 88.02150905300005,27.772108073000027 L 88.02113138000004,27.771919796000077 L 88.02075415400003,27.771779282000068 L 88.02032367700008,27.771686927000076 L 88.01989320000007,27.771594570000047 L 88.01946316900006,27.771549975000028 L 88.01903358300007,27.771553143000062 L 88.01860444200008,27.77160407300005 L 88.01817530100004,27.771655001000056 L 88.01774660300003,27.77175369200006 L 88.01737249200005,27.771947513000043 L 88.01710666500009,27.772236070000076 L 88.01705652000004,27.772618574000035 L 88.01727442600009,27.77295133800004 L 88.01765254000009,27.773187389000043 L 88.01797695800008,27.773423834000027 L 88.01824812200005,27.77370843800003 L 88.01851928800005,27.77399304100004 L 88.01879045500004,27.77427764300006 L 88.01885213000008,27.774353114000064 L 88.01904201300005,27.77441905300003 L 88.01947428200003,27.774702466000065 L 88.01995980700008,27.774937718000047 L 88.02044533500003,27.77517296800005 L 88.02093086400004,27.775408217000063 L 88.02136314200004,27.775691624000046 L 88.02179542100004,27.77597502900005 L 88.02217489600008,27.77635435700006 L 88.02260718000008,27.77663776000003 L 88.02293295900006,27.777017484000055 L 88.02325963400006,27.77749273300003 L 88.02347846200007,27.777921013000025 L 88.02369729200007,27.778349293000076 L 88.02407678100008,27.778728616000024 L 88.02440257200004,27.779108335000046 L 88.02472836400005,27.77948805400007 L 88.02505415900004,27.779867771000056 L 88.02538040400003,27.78029525200003 L 88.02570665100006,27.780722731000026 L 88.02608615600008,27.781102048000037 L 88.02695437500006,27.78205093200006 L 88.02695482300004,27.782098696000048 L 88.02738759200008,27.78242984600007 L 88.02776665900006,27.782761394000033 L 88.02814572900007,27.783092941000064 L 88.02847154600005,27.78347265000008 L 88.02890387500008,27.783756031000053 L 88.02933665600005,27.784087175000025 L 88.02976898900005,27.784370554000077 L 88.03014852100006,27.784749858000055 L 88.03052760500003,27.785081398000045 L 88.03090714100006,27.785460700000044 L 88.03128623000003,27.785792238000056 L 88.03177228000004,27.786075209000046 L 88.03220462800004,27.78635858000007 L 88.03268978000006,27.78654602200004 L 88.03317538600004,27.786781225000027 L 88.03366099400006,27.787016426000037 L 88.03414615100007,27.78720386200007 L 88.03463176300005,27.787439060000054 L 88.03511647200008,27.787578729000074 L 88.03560118200005,27.78771839700005 L 88.03613959900008,27.787857660000043 L 88.03667756500005,27.78794915800006 L 88.03721507800003,27.787992891000044 L 88.03775304500004,27.788084385000047 L 88.03829101200006,27.78817587700007 L 88.03882807300005,27.788171840000075 L 88.03936513300005,27.788167801000043 L 88.03995589900006,27.78816335600004 L 88.04049296000005,27.78815931300005 L 88.04103002000005,27.788155268000025 L 88.04156708000005,27.78815122000003 L 88.04215784500008,27.788146766000068 L 88.04274861100004,27.788142309000023 L 88.04328567100004,27.788138255000035 L 88.04382273000004,27.78813419900007 L 88.04435979000004,27.788130141000067 L 88.04489684900005,27.78812608000004 L 88.04543390800006,27.788122018000024 L 88.04597096700007,27.78811795300004 L 88.04650802600008,27.788113887000065 L 88.04704554200003,27.788157581000064 L 88.04758351700008,27.78824903700007 L 88.04812103400008,27.788292727000055 L 88.04865809400007,27.788288652000062 L 88.04919515300008,27.788284575000034 L 88.04973221200004,27.788280496000027 L 88.05032297700006,27.788276006000046 L 88.05086049500005,27.78831968600008 L 88.05139755400006,27.788315600000033 L 88.05198831900003,27.78831110400006 L 88.05252537800004,27.788307014000054 L 88.05311660300003,27.788350275000028 L 88.05365458300008,27.78844170700006 L 88.05413977900008,27.78862907200005 L 88.05467822200006,27.788768262000076 L 88.05516296000008,27.78890786000005 L 88.05575418800004,27.788951110000028 L 88.05629125000007,27.788947006000058 L 88.05682877300006,27.78899066200006 L 88.05736629600005,27.789034316000027 L 88.05795706400005,27.789029794000044 L 88.05930064300009,27.78911503200004 L 88.05935434900005,27.789114621000067 L 88.06010262500007,27.78915601500006 L 88.06058061200008,27.789217663000045 L 88.06110424700006,27.78921364300004 L 88.06162788200004,27.789209621000055 L 88.06215151700007,27.789205596000045 L 88.06267515200005,27.789201570000046 L 88.06319878700003,27.789197542000068 L 88.06380298100004,27.789192891000027 L 88.06440717400005,27.789188238000065 L 88.06493080900003,27.789184203000048 L 88.06549472300009,27.789179856000032 L 88.06605863600004,27.78917550600005 L 88.06658227100007,27.789171465000038 L 88.06710590500006,27.789167422000048 L 88.06762953800006,27.789163377000023 L 88.06819345200006,27.789159018000078 L 88.06875736500007,27.78915465800003 L 88.06932127800007,27.78915029500007 L 88.06984491100008,27.789146241000026 L 88.07036854500006,27.78914218600005 L 88.07089217800007,27.789138128000047 L 88.07141581100007,27.789134069000056 L 88.07193909300008,27.789094186000057 L 88.07250300500004,27.789089810000064 L 88.07306586200008,27.788977965000072 L 88.07306551000005,27.788942143000043 L 88.07491483700005,27.788569522000046 L 88.07543705600006,27.78842216000004 L 88.07604124400007,27.788417456000047 L 88.07656452000003,27.788377555000068 L 88.07708779500007,27.788337653000042 L 88.07765134900006,27.78829743400007 L 88.07817391700007,27.78818588300004 L 88.07869683700005,27.78811015200006 L 88.07926074300008,27.788105749000067 L 88.07982464800006,27.78810134300005 L 88.08038855400008,27.788096935000056 L 88.08095245900006,27.788092525000025 L 88.08147608600007,27.788088427000048 L 88.08203963600005,27.78804819100003 L 88.08256255200007,27.787972446000026 L 88.08308511300004,27.78786087700007 L 88.08360802700008,27.787785128000053 L 88.08413094100007,27.787709376000066 L 88.08465314300008,27.787561980000078 L 88.08521633400005,27.787485909000054 L 88.08569825400008,27.787338824000074 L 88.08622080800006,27.787227244000064 L 88.08674300400008,27.787079839000057 L 88.08722456500004,27.786896928000033 L 88.08774747100006,27.78682116300007 L 88.08827002000004,27.78670957500003 L 88.08875140800006,27.78652251400007 L 88.08895908600005,27.786465316000033 L 88.08949517700006,27.786365558000057 L 88.09003126700009,27.786265798000045 L 88.09051269800005,27.786070935000055 L 88.09104973900008,27.786066695000045 L 88.09158582600008,27.78596692900004 L 88.09212286600007,27.78596268600006 L 88.09265895200008,27.785862916000042 L 88.09324921800004,27.785810481000055 L 88.09383948300007,27.785758043000044 L 88.09442879100004,27.785610079000037 L 88.09496487200005,27.785510300000055 L 88.09550143100006,27.785458281000047 L 88.09550095200007,27.785410519000038 L 88.09641439400008,27.785451040000055 L 88.09695191000003,27.78549454000006 L 88.09748942700008,27.785538038000027 L 88.09802646400004,27.785533772000065 L 88.09856350100006,27.785529503000078 L 88.09910053800007,27.785525233000044 L 88.09963709400006,27.785473198000034 L 88.10017413000008,27.785468923000053 L 88.10071068600007,27.78541688400003 L 88.10124724000008,27.785364843000025 L 88.10178331300006,27.785265038000034 L 88.10226520000003,27.785117897000077 L 88.10280127000004,27.785018087000026 L 88.10333830400003,27.78501380000006 L 88.10387485500007,27.784961749000047 L 88.10441140500006,27.784909696000057 L 88.10494843800006,27.78490540300004 L 88.10548498800006,27.784853345000045 L 88.10602105400005,27.784753524000052 L 88.10655808500007,27.784749224000052 L 88.10714882000008,27.784744493000062 L 88.10768536800003,27.78469242700004 L 88.10822239900006,27.784688121000045 L 88.10875943000008,27.784683813000072 L 88.10929597600006,27.784631741000055 L 88.10983252200003,27.78457966700006 L 88.11036906700008,27.78452759000004 L 88.11090561100008,27.78447551200003 L 88.11138748100007,27.78432834000006 L 88.11186886300004,27.784133403000055 L 88.11229556900008,27.78384337400007 L 88.11283162300003,27.783743526000023 L 88.11336767500006,27.783643676000054 L 88.11390421400006,27.783591587000046 L 88.11449396700004,27.783491300000037 L 88.11502952900008,27.783343682000066 L 88.11551090000006,27.783148733000075 L 88.11604694700009,27.78304887300004 L 88.11658299300007,27.782949011000028 L 88.11712001400008,27.782944671000052 L 88.11765703500004,27.78294032900004 L 88.11819307800005,27.782840460000045 L 88.11867493000005,27.782693263000056 L 88.11915629100008,27.78249830200008 L 88.11963765100006,27.782303339000066 L 88.12011949800007,27.782156137000072 L 88.12065553500008,27.782056259000058 L 88.12113738000005,27.78190905400004 L 88.12161922300004,27.78176184600005 L 88.12176467400008,27.781625855000073 L 88.12176467400008,27.781776819000072 L 88.12290952900008,27.78189466500004 L 88.12344556200009,27.781794777000073 L 88.12398257600006,27.781790410000042 L 88.12451959000003,27.781786041000032 L 88.12505660400006,27.781781670000044 L 88.12559361800004,27.781777297000076 L 88.12613063100008,27.781772922000073 L 88.12666764500005,27.781768545000034 L 88.12720465800004,27.781764166000073 L 88.12774167100008,27.781759785000077 L 88.12833238500008,27.781754963000026 L 88.12886939800006,27.781750577000025 L 88.12935468400008,27.78193767500005 L 88.12983997100008,27.782124771000042 L 88.13032476500007,27.782264104000035 L 88.13075734200004,27.782547160000036 L 88.13124312800005,27.78278201300003 L 88.13167570900004,27.783065065000073 L 88.13210878600006,27.78339587800008 L 88.13259408400006,27.78358296400006 L 88.13302667200009,27.78386601300008 L 88.13351246800005,27.784100857000055 L 88.13356666600004,27.784148178000066 L 88.13437765400005,27.784666946000073 L 88.13486246500008,27.784806262000075 L 88.13534727800004,27.78494557700003 L 88.13572667100004,27.785276819000046 L 88.13610606600008,27.785608060000072 L 88.13648546400003,27.785939300000052 L 88.13686486400007,27.786270538000053 L 88.13735018200003,27.786457607000045 L 88.13767638000007,27.786837047000063 L 88.13784196700004,27.78726557500005 L 88.13800755400007,27.787694102000046 L 88.13811993600007,27.788170833000038 L 88.13823231900005,27.78864756400003 L 88.13829099900005,27.789124737000066 L 88.13840338400007,27.789601467000068 L 88.13845708900004,27.789601024000035 L 88.13857743700004,27.790841939000074 L 88.13858241400004,27.79131955400004 L 88.13858739100004,27.791797170000052 L 88.13859236800005,27.792274785000075 L 88.13859734500005,27.79275240000004 L 88.13854861500005,27.79323045800004 L 88.13855359200005,27.79370807300006 L 88.13850486200005,27.79418613000007 L 88.13850983900005,27.794663745000037 L 88.13851481600005,27.79514136000006 L 88.13851979300006,27.795618975000025 L 88.13852029100008,27.795666737000033 L 88.13874508000004,27.79662019600005 L 88.13864313900007,27.797146457000053 L 88.13859440800007,27.797624515000052 L 88.13849246600006,27.798150777000046 L 88.13844373400008,27.798628834000056 L 88.13839550000006,27.799154653000073 L 88.13834676800008,27.799632710000026 L 88.13835174500008,27.80011032500005 L 88.13835722100004,27.800635701000033 L 88.13836219800004,27.801113315000066 L 88.13836269600006,27.801161077000074 L 88.13783603800005,27.802168493000067 L 88.13773359100009,27.802646992000064 L 88.13757693400004,27.803078173000074 L 88.13725914100007,27.803510680000045 L 88.13710248100006,27.803941860000066 L 88.13683839500004,27.80437392300007 L 88.13673594200003,27.804852422000067 L 88.13652556600005,27.80528404300003 L 88.13636890100008,27.80571522200006 L 88.13621223400008,27.806146401000035 L 88.13610977700006,27.80662490000003 L 88.13611474600003,27.807102514000064 L 88.13606600200006,27.807580570000027 L 88.13607097100004,27.80805818500005 L 88.13607594000007,27.808535799000026 L 88.13608091000003,27.80901341400005 L 88.13608587900006,27.809491028000025 L 88.13609084900008,27.809968643000047 L 88.13609581900005,27.810446257000024 L 88.13610078900007,27.810923871000057 L 88.13610575900003,27.811401485000033 L 88.13611072900005,27.811879100000056 L 88.13611569900007,27.812356714000032 L 88.13611648600005,27.812432341000033 L 88.13625790400005,27.812554456000044 L 88.13626287500006,27.813032070000077 L 88.13621412900005,27.81351012600004 L 88.13600373500003,27.813941747000058 L 88.13590127100008,27.814420245000065 L 88.13579880600008,27.81489874300007 L 88.13569634000004,27.815377240000032 L 88.13548643800004,27.815856621000023 L 88.13543768800008,27.816334677000043 L 88.13528100400003,27.81676585500003 L 88.13528597200008,27.81724346900006 L 88.13512928700004,27.817674646000057 L 88.13497260000008,27.818105824000043 L 88.13487012800005,27.81858432100006 L 88.13455774200008,27.81954219800008 L 88.13450402200004,27.819542639000076 L 88.13423989100005,27.819974698000067 L 88.13402947700007,27.82040631600006 L 88.13387278300007,27.820837492000067 L 88.13371608700004,27.821268668000073 L 88.13355939000007,27.82169984400008 L 88.13329525000006,27.822131902000024 L 88.13303160400005,27.822611720000054 L 88.13271324200008,27.822996457000045 L 88.13234115600005,27.823381633000054 L 88.13191485100003,27.823719487000062 L 88.13148804700006,27.824009578000073 L 88.13106124100005,27.824299669000027 L 88.13057972100006,27.82449467500004 L 88.13009869400008,27.824737441000025 L 88.12967188200008,27.82502752700003 L 88.12924506700006,27.82531761200005 L 88.12887246700006,27.825655018000077 L 88.12849986500004,27.82599242200007 L 88.12722284700004,27.82719699300003 L 88.12722334000006,27.827244755000038 L 88.12690494500004,27.827629478000063 L 88.12658654700004,27.82801420100003 L 88.12637608900008,27.828445808000026 L 88.12600346900007,27.828783206000026 L 88.12573928200004,27.82921525000006 L 88.12536715100003,27.82960040900008 L 88.12499501700006,27.82998556600006 L 88.12451493800006,27.830323836000048 L 88.12414230600007,27.830661230000032 L 88.12376967200004,27.830998623000028 L 88.12345125300004,27.83138333900007 L 88.12307910700008,27.831768491000048 L 88.12259753900008,27.83196347100005 L 88.12211596900005,27.83215844800003 L 88.12157919800006,27.83221057700007 L 88.12104095400008,27.832119418000048 L 88.12071467100003,27.83173994400005 L 88.12065603800005,27.831262765000076 L 88.12097446700005,27.830878055000028 L 88.12129240200005,27.830445583000028 L 88.12133738300008,27.830372030000035 L 88.12190351900006,27.83024130800004 L 88.12242828100005,27.830185150000034 L 88.12295357600004,27.830180877000032 L 88.12347726800004,27.830020941000043 L 88.12382372300004,27.82965487900003 L 88.12393564400008,27.829186943000025 L 88.12387246700007,27.828720433000058 L 88.12380929200003,27.828253923000034 L 88.12380448100004,27.82778693700004 L 88.12420982700007,27.827472287000035 L 88.12467407000008,27.827209047000053 L 88.12490324900006,27.826792046000037 L 88.12519078900004,27.82637457000004 L 88.12547832800004,27.825957093000056 L 88.12594256200003,27.82569384900006 L 88.12634789400005,27.82537919300006 L 88.12669325300004,27.82490935000004 L 88.12703968100004,27.824543280000057 L 88.12703485700007,27.824076295000054 L 88.12703003400009,27.82360931000005 L 88.12720029800005,27.82314089500005 L 88.12772555900006,27.82313660500006 L 88.12830810900005,27.82302806200005 L 88.12889065700006,27.82291951700006 L 88.12929597100003,27.82260485200004 L 88.12952458500007,27.822135957000057 L 88.12987099500003,27.821769881000023 L 88.13004124400004,27.821301463000054 L 88.12980350100008,27.820888276000062 L 88.12944957600007,27.820527930000026 L 88.12897946800007,27.82022042500006 L 88.12868337200007,27.819807713000046 L 88.12891252000009,27.819390706000036 L 88.12914166700006,27.818973699000026 L 88.12907847600007,27.818507191000037 L 88.12907364500006,27.818040205000045 L 88.12906881400005,27.817573220000043 L 88.12906398400008,27.81710623400005 L 88.12946820200006,27.816687795000064 L 88.12993292400006,27.816476426000065 L 88.13010316500004,27.81600800800004 L 88.13009833000007,27.815541023000037 L 88.13003513800004,27.81507451500005 L 88.12997194600007,27.81460800700006 L 88.12995242900007,27.814449248000074 L 88.12974051800006,27.81445098200004 L 88.12912695800009,27.81437816300007 L 88.12851420300007,27.814383172000078 L 88.12798898400007,27.81438746300006 L 88.12746376600006,27.814391753000052 L 88.12725954900003,27.814421397000046 L 88.12722966800004,27.81468231200006 L 88.12718135800003,27.814792623000073 L 88.12714880100003,27.81482632500007 L 88.12666731400003,27.81502131700006 L 88.12639256100005,27.81520806000003 L 88.12606786500004,27.815210708000052 L 88.12554264200008,27.815214990000072 L 88.12501741900007,27.815219270000057 L 88.12443383800007,27.81522402400003 L 88.12390808000004,27.815176413000074 L 88.12338285700008,27.815180686000076 L 88.12285763400007,27.81518495800003 L 88.12233294400005,27.81524111600004 L 88.12180932000007,27.815401046000034 L 88.12152179300006,27.815818516000036 L 88.12099656700008,27.815822781000065 L 88.12041351400006,27.815879405000032 L 88.11988881900004,27.81593555300003 L 88.11936572000008,27.816147362000038 L 88.11896093200005,27.816513885000063 L 88.11867392400006,27.816983237000045 L 88.11844474000009,27.817400227000064 L 88.11821555500006,27.817817218000073 L 88.11798636900005,27.818234208000035 L 88.11787549500008,27.81880591500004 L 88.11769953100008,27.819061377000025 L 88.11764471100008,27.819067242000074 L 88.11711999900007,27.819123381000054 L 88.11653745700005,27.81923187600006 L 88.11589602200007,27.819288954000058 L 88.11537130800008,27.819345085000066 L 88.11484659400008,27.819401215000028 L 88.11426351800009,27.819457813000042 L 88.11368203000006,27.819670072000065 L 88.11333610000008,27.82008799700003 L 88.11327231300004,27.820192294000037 L 88.11298699200006,27.820194595000032 L 88.11246280100005,27.820302603000073 L 88.11193755100004,27.820306834000064 L 88.11141441500007,27.820518614000036 L 88.11095069400005,27.82083369700007 L 88.11042755300008,27.821045473000027 L 88.11002218900006,27.82136008300006 L 88.10991021500007,27.821828010000047 L 88.10991496500003,27.822294998000075 L 88.11026883300008,27.822655396000073 L 88.11079515100005,27.822754946000032 L 88.11131882800004,27.82259505600007 L 88.11184250300005,27.82243516400007 L 88.11236617600008,27.822275270000034 L 88.11271211600007,27.821857348000037 L 88.11323631500005,27.821749339000064 L 88.11376157100005,27.82174510300007 L 88.11434519000005,27.821740393000027 L 88.11477616400003,27.82177944800003 L 88.11507934800005,27.821850338000047 L 88.11513355800008,27.82189766600004 L 88.11545979100003,27.82227715600004 L 88.11508715700006,27.822614525000063 L 88.11460610100005,27.82285723800004 L 88.11406985900004,27.822957098000074 L 88.11376215200005,27.823200889000077 L 88.11325219500009,27.823305964000042 L 88.11266962600007,27.823414445000026 L 88.11208758500004,27.823574810000025 L 88.11156390500008,27.823734702000024 L 88.11104022300003,27.823894593000034 L 88.11051654000005,27.824054482000065 L 88.11034620300006,27.82452287900003 L 88.10999971700005,27.824888908000048 L 88.10959433800008,27.825203517000034 L 88.10907064600008,27.82536340100006 L 88.10848700700006,27.82536808900005 L 88.10801798900007,27.825164286000074 L 88.10754791900007,27.824856708000027 L 88.10707837700005,27.82460101500004 L 88.10655152700008,27.82444956300003 L 88.10602730800008,27.82455754700004 L 88.10568080800005,27.824923566000052 L 88.10551044800008,27.82539195700008 L 88.10557459500006,27.825962254000046 L 88.10563769200007,27.826428775000068 L 88.10581751800004,27.82689436100003 L 88.10582225100006,27.827361350000047 L 88.10547574100008,27.82772736800007 L 88.10512975500006,27.828145273000075 L 88.10490154800004,27.828666018000035 L 88.10467281400008,27.82913487500008 L 88.10461970200004,27.82965421800003 L 88.10462443000006,27.830121207000047 L 88.10474589200004,27.830587261000062 L 88.10486735600006,27.831053315000077 L 88.10494171300007,27.831338622000033 L 88.10486253900007,27.831581149000044 L 88.10454888700008,27.832443442000056 L 88.10454937100008,27.832491203000075 L 88.10444675300005,27.832969681000066 L 88.10445158900006,27.833447299000056 L 88.10445642500008,27.833924917000047 L 88.10456871700006,27.834401675000038 L 88.10468101000004,27.83487843300003 L 88.10490027600008,27.835306568000078 L 88.10506629900004,27.83578289600007 L 88.10533929700006,27.836210600000072 L 88.10566554200005,27.836590112000067 L 88.10609876200004,27.836921000000075 L 88.10658426000003,27.837108171000068 L 88.10706976000006,27.837295339000036 L 88.10766174900004,27.837386121000065 L 88.10820001000008,27.83747733100006 L 88.10868163000004,27.83728240000005 L 88.10900011800004,27.836897717000056 L 88.10931860400007,27.836513032000028 L 88.10969130200004,27.83617567700003 L 88.11017145500006,27.835837456000036 L 88.11065306300009,27.835642519000032 L 88.11092608200005,27.83607021200004 L 88.11103840500004,27.836546964000036 L 88.11109699900004,27.83702414800007 L 88.11110186500008,27.837501764000024 L 88.11153461800006,27.837784873000032 L 88.11202012900009,27.837972024000067 L 88.11250564100004,27.838159174000054 L 88.11299554200008,27.838776176000067 L 88.11304927200007,27.838775742000053 L 88.11353527700004,27.839010649000045 L 88.11402226000007,27.839341078000075 L 88.11440178600003,27.839672372000052 L 88.11488682100008,27.83981175100007 L 88.11537185700007,27.839951129000042 L 88.11590964800007,27.83999454700006 L 88.11644743900007,27.840037962000054 L 88.11703749200007,27.839937656000075 L 88.11757430400007,27.839885545000072 L 88.11811111500003,27.839833431000045 L 88.11864841500005,27.839829077000047 L 88.11902795700007,27.84016035800005 L 88.11935426000008,27.84053983600006 L 88.11951986500009,27.84096838100004 L 88.11910031400004,27.84197485900006 L 88.11910080400008,27.84202262100007 L 88.11910570600008,27.842500236000035 L 88.11911060800008,27.842977851000057 L 88.11900804700008,27.843456337000077 L 88.11901294900008,27.843933952000043 L 88.11907158300005,27.844411131000072 L 88.11913021800007,27.844888310000044 L 88.11913512100006,27.845365924000077 L 88.11919375700006,27.84584310300005 L 88.11919866100004,27.846320718000072 L 88.11920356400003,27.84679833200005 L 88.11915473400006,27.847276383000064 L 88.11915963700005,27.84775399700004 L 88.11916454100003,27.848231612000063 L 88.11916944500007,27.84870922600004 L 88.11895891900008,27.849140823000027 L 88.11907276300008,27.849760850000052 L 88.11902000900005,27.849856808000027 L 88.11875574600003,27.850288840000076 L 88.11843725500006,27.850673546000053 L 88.11838842100008,27.85115159600008 L 88.11823211400008,27.851630517000046 L 88.11812954200008,27.852109002000077 L 88.11808070600006,27.852587052000047 L 88.11808560600008,27.85306466700007 L 88.11798303200004,27.853543152000043 L 88.11782623000005,27.85397431100006 L 88.11772365500008,27.854452796000032 L 88.11762107900006,27.854931281000063 L 88.11746427400004,27.85536244000008 L 88.11768363400006,27.85579055100004 L 88.11816972500009,27.856025439000064 L 88.11844282700008,27.856453114000033 L 88.11850146800003,27.856930292000072 L 88.11910289200006,27.857928487000038 L 88.11910338300004,27.857976248000057 L 88.11921625700006,27.858500751000065 L 88.11932864200008,27.858977493000054 L 88.11949427700006,27.859406037000042 L 88.11953579100003,27.85948705000004 L 88.11952020500007,27.859631284000045 L 88.11946768700005,27.86020251700006 L 88.11947248500007,27.860669501000075 L 88.11947728400008,27.86113648500003 L 88.11948208200005,27.861603469000045 L 88.11983611400007,27.86196383500004 L 88.12030531400006,27.86216759100006 L 88.12060150000008,27.86258031600005 L 88.12060630400003,27.863047300000062 L 88.12061110800005,27.863514284000075 L 88.12061591200006,27.863981268000032 L 88.12067910000007,27.864447777000066 L 88.12120562900003,27.864547280000068 L 88.12167003400003,27.86428404700007 L 88.12213336900004,27.863917039000057 L 88.12247993100004,27.863550979000024 L 88.12270919000008,27.86313398200008 L 88.12305467800007,27.862664146000043 L 88.12340123400008,27.86229808400003 L 88.12380670600004,27.861983433000034 L 88.12427109400005,27.861720191000074 L 88.12467656100006,27.861405537000053 L 88.12514094500006,27.861142293000057 L 88.12576696600007,27.860781021000037 L 88.12622604500007,27.860736432000067 L 88.12676245900008,27.86063652000007 L 88.12729936700003,27.860584368000048 L 88.12783577900007,27.860484452000037 L 88.12837317900005,27.860480057000075 L 88.12891058000008,27.860475660000077 L 88.12950122500007,27.860423060000073 L 88.13003763400008,27.860323136000034 L 88.13057404200003,27.860223209000026 L 88.13105621400007,27.860075961000064 L 88.13151867200008,27.859948512000074 L 88.13166794000006,27.859947288000058 L 88.13219337700008,27.85994297600007 L 88.13277773600004,27.859990069000048 L 88.13330425300006,27.86008952700007 L 88.13382969000008,27.860085209000033 L 88.13453135400005,27.860183222000046 L 88.13505841400007,27.86033456000007 L 88.13564331600008,27.860433528000044 L 88.13622767800007,27.860480607000056 L 88.13681204000005,27.860527684000033 L 88.13733693800003,27.860471465000046 L 88.13780182700003,27.860260066000023 L 88.13832455400006,27.859996297000066 L 88.13849482000006,27.85952787000008 L 88.13848994000006,27.859060889000034 L 88.13848506100004,27.858593908000046 L 88.13848143900003,27.85824727000005 L 88.13872152500005,27.858150052000042 L 88.13920367500003,27.858002775000045 L 88.13941413500004,27.85757115000007 L 88.13951661700008,27.857092652000063 L 88.13956536000006,27.85661459800008 L 88.13961360400003,27.85608878200003 L 88.13950113400006,27.855612059000066 L 88.13922795300005,27.855184429000076 L 88.13884779900008,27.854805446000057 L 88.13868209700007,27.854376927000033 L 88.13851639600006,27.853948408000065 L 88.13845767000004,27.85347124100008 L 88.13829197100006,27.853042721000065 L 88.13796556400007,27.852663292000045 L 88.13747795200004,27.852285191000078 L 88.13709831300008,27.851953964000074 L 88.13671867600004,27.851622736000024 L 88.13671817800008,27.851574975000062 L 88.13622908200006,27.851053586000035 L 88.13584945100007,27.850722355000073 L 88.13557629700006,27.850294717000054 L 88.13524990800005,27.84991528000006 L 88.13492352100008,27.84953584400006 L 88.13459713700007,27.849156406000077 L 88.13421702100004,27.848777409000036 L 88.13383740400008,27.848446172000024 L 88.13361799800003,27.84801808700007 L 88.13332520800003,27.847635428000046 L 88.13346663800007,27.847634266000057 L 88.13399147500007,27.847578062000025 L 88.13451631300006,27.84752185700006 L 88.13504168900005,27.847517536000055 L 88.13533788900008,27.84793023000003 L 88.13551787900008,27.84839577100007 L 88.13581408300007,27.848808464000058 L 88.13605245300005,27.84927352400007 L 88.13646433200006,27.84958148000004 L 88.13692863600005,27.84931819800005 L 88.13707530400006,27.848868545000073 L 88.13715835100004,27.848953065000046 L 88.13720403500008,27.84899955800006 L 88.13727885300005,27.848961802000076 L 88.13727510300004,27.848952103000045 L 88.13697889400004,27.848539413000026 L 88.13656701800005,27.848231459000033 L 88.13609622800004,27.84787209600006 L 88.13568381600004,27.847512252000058 L 88.13532924200007,27.847100039000054 L 88.13509142000004,27.84668686400005 L 88.13485360000004,27.846273689000043 L 88.13455740700005,27.845860994000077 L 88.13437742500008,27.84539545100006 L 88.13425527900006,27.844877541000074 L 88.13419204700006,27.844411038000032 L 88.13418988800004,27.84420349000004 L 88.13407314100004,27.844204449000074 L 88.13348940600008,27.844209246000048 L 88.13296350600007,27.84416167300003 L 88.13243760600005,27.844114099000024 L 88.13191224500008,27.844118409000032 L 88.13138688400005,27.84412271800005 L 88.13086152300008,27.844127024000045 L 88.13033723800004,27.844235103000074 L 88.12981348900007,27.84439506700005 L 88.12969465000003,27.844419564000077 L 88.12987401300006,27.844602137000038 L 88.13011181100006,27.845015321000062 L 88.13034961100004,27.84542850500003 L 88.13035512900007,27.845469227000024 L 88.13031349100004,27.845465870000055 L 88.12977517500008,27.84537474800004 L 88.12923636500005,27.845235862000038 L 88.12875128900004,27.84509653500004 L 88.12821396400005,27.845100930000058 L 88.12767565200005,27.845009799000024 L 88.12718959100005,27.84477494400005 L 88.12675677000004,27.84449188600007 L 88.12659113200004,27.844063350000056 L 88.12658619700005,27.84358573700007 L 88.12658126200006,27.843108123000036 L 88.12658076800005,27.843060362000074 L 88.12662462900005,27.842104696000035 L 88.12661969400006,27.84162708200006 L 88.12661426600005,27.841101707000064 L 88.12660933100005,27.84062409300003 L 88.12676608000004,27.840192925000053 L 88.12681487500004,27.83971487200006 L 88.12680994000004,27.839237259000072 L 88.12691246300005,27.83875876700006 L 88.12706920900007,27.838327599000024 L 88.12706871500006,27.838279837000073 L 88.12738170900008,27.837369738000064 L 88.12759217900003,27.836938130000078 L 88.12785637600007,27.836506082000028 L 88.12822802700003,27.836073155000065 L 88.12860066300004,27.835735751000072 L 88.12886485300004,27.835303701000043 L 88.12923748500003,27.834966295000072 L 88.12966433700007,27.834676210000055 L 88.12987479300006,27.834244598000055 L 88.13030065000004,27.83385898800003 L 88.13078023100007,27.833472936000078 L 88.13120707300004,27.833182846000057 L 88.13163391200004,27.832892755000046 L 88.13195230500008,27.832508021000024 L 88.13227020000005,27.83207552500005 L 88.13264281000005,27.83173811000006 L 88.13290647900004,27.83125829200003 L 88.13322387100004,27.83077803200007 L 88.13343430600008,27.830346416000054 L 88.13369846400008,27.829914358000053 L 88.13401634500008,27.829481858000065 L 88.13433472000008,27.82909711900004 L 88.13465309300005,27.828712379000024 L 88.13497047000004,27.828232116000038 L 88.13523461700004,27.82780005500007 L 88.13571564600005,27.827557271000046 L 88.13619766700003,27.827410008000072 L 88.13673390800005,27.827310063000027 L 88.13727114300008,27.82730563800004 L 88.13780837800005,27.827301211000076 L 88.13834611200008,27.827344543000038 L 88.13883211600006,27.827579361000062 L 88.13937134800005,27.827765973000055 L 88.13985785500006,27.828048549000073 L 88.14034436500003,27.828331123000055 L 88.14083037800003,27.82856593400004 L 88.14131689300007,27.828848504000064 L 88.14169646100004,27.82917972300004 L 88.14207603100004,27.829510940000034 L 88.14250882900006,27.829793951000056 L 88.14294212900006,27.83012472100006 L 88.14299585400005,27.83012427600005 L 88.14370228800004,27.83088266900006 L 88.14413509500008,27.831165674000033 L 88.14462112800004,27.83140047100005 L 88.14505394000008,27.831683473000055 L 88.14553997700006,27.83191826700005 L 88.14602601700005,27.832153059000063 L 88.14645883500003,27.832436056000063 L 88.14678520700005,27.832815467000046 L 88.14727125400003,27.833050254000057 L 88.14775730200006,27.83328503900003 L 88.14824285000003,27.833472062000055 L 88.14872839900005,27.833659082000054 L 88.14921545900006,27.833989385000052 L 88.14954234900006,27.834416549000025 L 88.14992196200006,27.834747744000026 L 88.15030157600006,27.83507893700005 L 88.15059661500004,27.835336340000026 L 88.15073426700008,27.835348776000046 L 88.15103875400007,27.83554784200004 L 88.15120450000006,27.835656202000052 L 88.15173310400007,27.835963140000047 L 88.15176242600006,27.835975868000048 L 88.15220224600006,27.83616678900006 L 88.15267248600009,27.836474210000063 L 88.15308436000004,27.83678211700004 L 88.15355460600006,27.837089535000075 L 88.15390866400008,27.837449814000024 L 88.15408871400007,27.837915330000044 L 88.15450059800008,27.838223233000065 L 88.15502812500006,27.83842638400006 L 88.15555510300004,27.838577646000033 L 88.15590917300005,27.838937920000035 L 88.15573901200008,27.83940636600005 L 88.15550992900006,27.839823414000023 L 88.15539813500004,27.840291371000035 L 88.15540308300007,27.840758351000034 L 88.15546640300005,27.84122484200003 L 88.15550921500005,27.84138878600004 L 88.15579938100007,27.841767892000064 L 88.15607259000006,27.842195489000062 L 88.15629257700004,27.842671297000038 L 88.15624391100005,27.843149356000026 L 88.15623266800009,27.84320189700003 L 88.15624669000005,27.843242063000048 L 88.15654295500008,27.843654710000067 L 88.15654790900004,27.844121689000076 L 88.15614370000009,27.844540206000033 L 88.15562054200007,27.84475215300006 L 88.15530601700004,27.844661880000046 L 88.15518599100005,27.844734465000045 L 88.15464867300005,27.844738963000054 L 88.15411135500005,27.84474345800004 L 88.15357504800005,27.844843473000026 L 88.15303823400006,27.84489572500007 L 88.15250142000008,27.844947975000025 L 88.15191137800008,27.845048432000056 L 88.15137506700006,27.845148438000024 L 88.15085100500005,27.845246158000066 L 88.15066209200006,27.845104939000066 L 88.15013563500008,27.84500554500005 L 88.14961027300006,27.845009923000077 L 88.14908491100005,27.84501429900007 L 88.14855790900003,27.844863013000065 L 88.14846554400003,27.844769024000072 L 88.14803200100005,27.84481549800006 L 88.14733151900003,27.844821325000055 L 88.14680615800006,27.84482569200003 L 88.14664008200003,27.844810685000027 L 88.14663103700008,27.844827147000046 L 88.14646082700006,27.845295583000052 L 88.14640736400008,27.845763049000027 L 88.14635390100005,27.84623051500006 L 88.14635881100008,27.846697495000058 L 88.14624697200009,27.847165446000076 L 88.14590054200005,27.847531563000075 L 88.14555410900005,27.847897678000038 L 88.14514929800004,27.848264278000045 L 88.14468556400004,27.84857947300003 L 88.14428020300005,27.848894184000073 L 88.14393430500007,27.849312182000062 L 88.14358840400007,27.84973018000005 L 88.14335925300009,27.850147210000046 L 88.14295442700006,27.85051380300007 L 88.14266689500005,27.850931315000025 L 88.14237936200004,27.85134882600005 L 88.14220912400003,27.85181725700005 L 88.14215183400006,27.851921514000026 L 88.14267614300007,27.851813390000075 L 88.14273941600004,27.852279887000066 L 88.14270759800007,27.852592049000066 L 88.14248188800008,27.85286479100006 L 88.14232568600005,27.853343736000056 L 88.14233069200003,27.853821346000075 L 88.14233569900006,27.854298957000026 L 88.14250141500008,27.854727471000047 L 88.14250642300004,27.855205081000065 L 88.14229598000009,27.855636710000056 L 88.14213927300005,27.856067894000034 L 88.14203680300005,27.856546394000077 L 88.14182635600008,27.856978023000067 L 88.14172388400004,27.857456522000064 L 88.14156717300006,27.857887706000042 L 88.14157217600007,27.85836531600006 L 88.14163091900008,27.858842481000067 L 88.14174340200003,27.859319201000062 L 88.14190912500004,27.859747716000072 L 88.14207484900004,27.860176230000036 L 88.14224057500007,27.860604744000057 L 88.14224107500007,27.860652505000076 L 88.14278598900006,27.861364468000033 L 88.14316567800006,27.861695678000046 L 88.14349263200006,27.862122853000074 L 88.14387282800004,27.86250182200007 L 88.14425252500007,27.86283302800007 L 88.14473870200004,27.863067819000037 L 88.14522438000006,27.863254848000054 L 88.14571005900007,27.863441874000046 L 88.14614350600004,27.86377262900004 L 88.14657645300008,27.864055621000034 L 88.14711487300008,27.86414667400004 L 88.14765228800007,27.86414220300003 L 88.14818970300007,27.86413773000004 L 88.14872661400005,27.86408549400005 L 88.14926251700007,27.863937735000036 L 88.14963517800004,27.863600274000078 L 88.15006157800008,27.863262363000047 L 88.15037998900004,27.86287758800006 L 88.15086062900008,27.862586988000032 L 88.15134177100003,27.862344147000044 L 88.15182392100007,27.862196827000048 L 88.15236132600006,27.862192338000057 L 88.15284751700005,27.862427100000048 L 88.15317451000004,27.862854252000034 L 88.15344776500007,27.863281852000057 L 88.15350656300006,27.863759010000024 L 88.15351162100006,27.864236618000064 L 88.15357042000005,27.86471377600003 L 88.15373619800005,27.86514227400005 L 88.15382532700005,27.865316069000073 L 88.15402853900008,27.865314369000032 L 88.15461183200006,27.86525759600005 L 88.15519567500007,27.865252707000025 L 88.15566550200003,27.86550822600003 L 88.15549530300007,27.865976672000045 L 88.15509046200003,27.86634330000004 L 88.15499051500007,27.866761573000076 L 88.15536770400007,27.866943685000024 L 88.15585493700007,27.867273957000066 L 88.15628842900009,27.867604678000077 L 88.15677414500004,27.867791665000027 L 88.15731157600004,27.867787156000077 L 88.15785053000008,27.867925927000044 L 88.15838796200006,27.867921413000033 L 88.15897913700007,27.867916446000038 L 88.15951656800007,27.86791192900006 L 88.16005399900007,27.867907409000054 L 88.16059143000007,27.86790288700007 z M 88.15186465100004,27.848415943000077 L 88.15215159200005,27.847946527000033 L 88.15267806500003,27.848045912000032 L 88.15320508800005,27.848197182000035 L 88.15323919900004,27.848285369000052 L 88.15338515400003,27.848662697000066 L 88.15391053300004,27.848658304000026 L 88.15443536200007,27.84860202300007 L 88.15490016600006,27.84839056800007 L 88.15499914700007,27.847976278000033 L 88.15501196900004,27.847922612000048 L 88.15489027100006,27.84745661000005 L 88.15465182600008,27.84699158500007 L 88.15453013100006,27.846525582000027 L 88.15499492700008,27.846314128000074 L 88.15551919400008,27.846205956000063 L 88.15615826800007,27.846153223000044 L 88.15621803200008,27.846044428000027 L 88.15644712400007,27.845627379000064 L 88.15685243700005,27.845312634000038 L 88.15685739200006,27.845779613000047 L 88.15680397400007,27.846247081000058 L 88.15673033700006,27.846381133000023 L 88.15669218000005,27.84671503900006 L 88.15656003700008,27.84707880900004 L 88.15671987300004,27.847491991000027 L 88.15656323400003,27.847923189000028 L 88.15656374100007,27.847970950000047 L 88.15533698500008,27.84884099900006 L 88.15491015100008,27.849131163000038 L 88.15442907400006,27.849374015000024 L 88.15407681000005,27.84958703600006 L 88.15403717200007,27.849591286000077 L 88.15351233800004,27.849647567000034 L 88.15298750300008,27.84970384500008 L 88.15246376500005,27.849863894000066 L 88.15202731500005,27.84999726700005 L 88.15158812300007,27.849871206000046 L 88.15111892200008,27.849667556000043 L 88.15103553900008,27.849522742000033 L 88.15125623900008,27.84916170100007 L 88.15157460700004,27.84877692300006 L 88.15186568000007,27.848513299000047 L 88.15186465100004,27.848415943000077 z M 88.13245539200005,27.845826370000054 L 88.13262566300006,27.84535795000005 L 88.13309535200005,27.845613551000042 L 88.13362395800004,27.845920557000056 L 88.13409311200007,27.84612426800004 L 88.13454435500006,27.846209515000055 L 88.13455529600003,27.846219062000046 L 88.13450281300004,27.84622468300006 L 88.13397960100008,27.846436549000032 L 88.13345530800007,27.846544640000047 L 88.13293209300008,27.84675650300005 L 88.13273764900003,27.846844924000038 L 88.13230590500007,27.846237607000035 L 88.13245539200005,27.845826370000054 z M 88.12911742500006,27.743344765000074 L 88.12921986400005,27.742866268000057 L 88.12937647700005,27.742435095000076 L 88.12942523300006,27.741957037000077 L 88.12942030600004,27.74147941700005 L 88.12946906100007,27.741001358000062 L 88.12978720700005,27.74061663200007 L 88.13032500400004,27.740707771000075 L 88.13070923700008,27.74087479600007 L 88.13067417200006,27.741181204000043 L 88.13067899400005,27.74164819400005 L 88.13097487500005,27.742060913000046 L 88.13150135400008,27.74221228400006 L 88.13202622500006,27.742207989000065 L 88.13255109700003,27.74220369300008 L 88.13296255100005,27.74251167600005 L 88.13309439700004,27.742853085000036 L 88.13302462900003,27.742874413000038 L 88.13256022000007,27.743085785000062 L 88.13209634700007,27.743349043000023 L 88.13163193500003,27.74356041200008 L 88.13104927300003,27.743617070000028 L 88.13052439500007,27.743621361000066 L 88.12999951700004,27.74362565000007 L 88.12947356800004,27.743526161000034 L 88.12909388100007,27.74341699100006 L 88.12911742500006,27.743344765000074 z M 88.11319174400006,27.742620308000028 L 88.11302469700007,27.74340003800006 L 88.11267108600003,27.74303963600005 L 88.11243358900003,27.742626408000035 L 88.11219609400007,27.742213178000043 L 88.11178469700008,27.741905131000067 L 88.11131603700005,27.741701328000033 L 88.11142793500005,27.74123339700003 L 88.11177416100008,27.740867368000067 L 88.11217870300004,27.740500869000073 L 88.11270304200008,27.74044476000006 L 88.11311443600005,27.740752805000056 L 88.11288538000008,27.741169787000047 L 88.11294844500009,27.741636311000036 L 88.11312815000008,27.742101896000065 L 88.11319121700006,27.742568420000055 L 88.11319174400006,27.742620308000028 z M 88.14279271500004,27.728783183000075 L 88.14224630900009,27.728580127000043 L 88.14185396000005,27.72823741700006 L 88.14138458600007,27.727964531000055 L 88.14083962700005,27.727899836000063 L 88.14037097700003,27.727696130000027 L 88.13982817900006,27.727838982000037 L 88.13998871400008,27.728321986000026 L 88.13965057100006,27.72868993000003 L 88.13964861900007,27.728689773000042 L 88.13911186900003,27.728694193000024 L 88.13898928400005,27.728684303000023 L 88.13898157800008,27.72867622800004 L 88.13858923900005,27.728333509000038 L 88.13811915300005,27.727991428000053 L 88.13741726300003,27.727789631000064 L 88.13694861900007,27.72758591300004 L 88.13647925900005,27.727313011000035 L 88.13600990200007,27.72704010600006 L 88.13554054700006,27.72676720000004 L 88.13507119400003,27.72649429200004 L 88.13460256000008,27.726290566000046 L 88.13424585500007,27.726083154000037 L 88.13420881100006,27.725809466000044 L 88.13412605100007,27.725325817000055 L 88.13381076900004,27.72491326200003 L 88.13349549000003,27.72450070600007 L 88.13294840600008,27.72422842800006 L 88.13240204000004,27.724025330000075 L 88.13270873200008,27.72360768200008 L 88.13325295100003,27.723603226000023 L 88.13379716900005,27.723598769000034 L 88.13434210300005,27.72366349300006 L 88.13488703800004,27.72372821400006 L 88.13543269000007,27.723862118000056 L 88.13597762600006,27.723926835000043 L 88.13667877200004,27.724059457000067 L 88.13714740000006,27.72426317600008 L 88.13769162000006,27.724258703000032 L 88.13823656000005,27.724323412000047 L 88.13878221800007,27.724457302000076 L 88.13932644000005,27.724452822000046 L 88.13987138000005,27.724517524000078 L 88.14057109400005,27.724511759000052 L 88.14103973000005,27.72471546400004 L 88.14151053100005,27.72512671900006 L 88.14190286700006,27.725469430000032 L 88.14237295300006,27.72581149800004 L 88.14291790200008,27.72587618800003 L 88.14338654800008,27.726079885000047 L 88.14362412200006,27.726493059000063 L 88.14378539400008,27.72704524200003 L 88.14378756000008,27.727252793000048 L 88.14379044900005,27.727529528000048 L 88.14397234300003,27.727574150000066 L 88.14402513800007,27.727665967000064 L 88.14426271700006,27.728079139000045 L 88.14473209900007,27.72835201500004 L 88.14512445700007,27.728694716000064 L 88.14551754100006,27.729106600000023 L 88.14567810300008,27.72958959700003 L 88.14560541800006,27.730074525000077 L 88.14559460200007,27.73010943500003 L 88.14556408200008,27.730106974000023 L 88.14552766800006,27.73007516900003 L 88.14513530300007,27.729732469000055 L 88.14474221900008,27.72932058500004 L 88.14434985900004,27.728977883000027 L 88.14388119900008,27.728774189000035 L 88.14333695700003,27.728778687000045 L 88.14279271500004,27.728783183000075 z M 88.15608174100004,27.76067136300003 L 88.15647237200005,27.760376205000057 L 88.15683667200005,27.760694238000042 L 88.15732758300004,27.760573373000057 L 88.15728983400004,27.760106663000045 L 88.15731953900007,27.759862258000055 L 88.15735020500006,27.759609942000054 L 88.15787453700005,27.759547174000033 L 88.15820469600004,27.759577011000033 L 88.15858083400008,27.759540365000078 L 88.15863452400004,27.75953991500006 L 88.15900197100007,27.759688722000078 L 88.15902626500008,27.759858605000034 L 88.15929337900008,27.76029420200007 L 88.15948257800005,27.760703730000046 L 88.15946206600006,27.760730624000075 L 88.15926984600009,27.761170073000073 L 88.15937353400005,27.761665418000064 L 88.15970565500004,27.76204209100007 L 88.15988854900007,27.76232067500007 L 88.15997246800003,27.76244850100005 L 88.15958183900005,27.76274366900003 L 88.15905594700007,27.762660511000036 L 88.15878913700004,27.762254100000064 L 88.15861899900005,27.76188583000004 L 88.15860561600005,27.761880673000064 L 88.15806769600005,27.761789649000036 L 88.15753078600005,27.761794145000067 L 88.15704605200006,27.761654905000057 L 88.15661349500004,27.761371931000042 L 88.15623412700006,27.76104074400007 L 88.15619003100005,27.76101943200007 L 88.15608174100004,27.76067136300003 z M 88.15160112700005,27.75583416300003 L 88.15212483100004,27.75571304400006 L 88.15255441300008,27.75600135600007 L 88.15291868700007,27.756319400000052 L 88.15341296700007,27.756519602000026 L 88.15368184600004,27.756884124000067 L 88.15328727000008,27.757046056000036 L 88.15299598900003,27.757427944000028 L 88.15298489300005,27.757448159000035 L 88.15286706100005,27.757438668000077 L 88.15238536900006,27.757585980000044 L 88.15217514000005,27.758017624000047 L 88.15185702600007,27.758402400000023 L 88.15184665300006,27.758414947000063 L 88.15158908200004,27.75845239800003 L 88.15110738500005,27.75859970600004 L 88.15062719200006,27.75889029700005 L 88.15061871900008,27.758894578000024 L 88.15047288000005,27.758887687000026 L 88.15041851700005,27.758821304000037 L 88.15028267800005,27.75838459600004 L 88.15027776900007,27.75791761000005 L 88.15033847800004,27.757450078000033 L 88.15049730500004,27.756952541000032 L 88.15054690700003,27.75657053300006 L 88.15085328900005,27.756482551000033 L 88.15127703600007,27.756216321000068 L 88.15160112700005,27.75583416300003 z M 88.15714572500008,27.755787876000056 L 88.15665175100008,27.755616874000054 L 88.15615839400004,27.755504243000075 L 88.15563253900007,27.755421071000058 L 88.15517076100008,27.75519141600006 L 88.15480648400006,27.75487337800007 L 88.15460501700005,27.754437223000025 L 88.15424043700006,27.75408999600006 L 88.15420270400006,27.75362328400007 L 88.15472824200003,27.75367727500003 L 88.15522189700005,27.753819098000065 L 88.15571586100003,27.75399010600006 L 88.15617732700008,27.754190572000027 L 88.15667098600005,27.75433239000006 L 88.15716186800006,27.754211526000063 L 88.15745312500007,27.75382963000004 L 88.15777749700004,27.753476644000045 L 88.15794227300006,27.75328231900005 L 88.15806813200004,27.753036373000043 L 88.15839249900006,27.752683387000047 L 88.15888151800004,27.752387398000053 L 88.15933865400007,27.752179242000068 L 88.15986078500003,27.751912162000053 L 88.16038538800007,27.751878572000066 L 88.16042475600005,27.751878241000043 L 88.16091030000007,27.75187416600005 L 88.16109073900003,27.751872651000042 L 88.16120618200006,27.751930060000063 L 88.16169952700005,27.75204267400005 L 88.16209631000004,27.752331231000028 L 88.16231742200006,27.752630961000023 L 88.16178340000005,27.75268300600004 L 88.16130174300008,27.752830349000078 L 88.16082008400008,27.752977690000023 L 88.16044782300008,27.75331517400008 L 88.16023763300007,27.75374682900008 L 88.16013532200003,27.754225344000076 L 88.16004894100007,27.754629349000027 L 88.15976110300005,27.754890291000038 L 88.15956889400007,27.755329740000036 L 88.15947541800006,27.755797550000068 L 88.15905169300004,27.756063804000064 L 88.15852768700006,27.756155763000038 L 88.15825336700004,27.756223307000027 L 88.15813244300006,27.756013128000063 L 88.15763908300005,27.755900503000078 L 88.15714572500008,27.755787876000056 z M 88.18082618700004,27.802126439000062 L 88.18088960900008,27.80249581100003 L 88.18084406300005,27.80243630800004 L 88.18035808800005,27.802201636000063 L 88.17987263100008,27.80201472300007 L 88.17938769100004,27.80187556900006 L 88.17884955800008,27.80178463200008 L 88.17836410500007,27.801597714000025 L 88.17787813800004,27.80136303300003 L 88.17739217400003,27.801128350000056 L 88.17701260200005,27.800797229000068 L 88.17695837800005,27.800749926000037 L 88.17635831200005,27.799895264000043 L 88.17667645200004,27.799510432000034 L 88.17721405800006,27.799553617000072 L 88.17754655100003,27.799649035000073 L 88.17776811500005,27.79993852000007 L 88.17816083800005,27.80028111300004 L 88.17862987000007,27.800484677000043 L 88.17917670300005,27.80068757500004 L 88.17980133600008,27.800889806000043 L 88.18034667800003,27.80095433500003 L 88.18048320000008,27.800987763000023 L 88.18058231800006,27.80115988700004 L 88.18066535200006,27.801643495000064 L 88.18082618700004,27.802126439000062 z M 88.16766963500004,27.801459917000045 L 88.16767018900003,27.80151180300004 L 88.16726118500009,27.801463369000032 L 88.16690720600008,27.80110312000005 L 88.16690221700009,27.80063614000005 L 88.16724843200006,27.80026997500005 L 88.16771800000004,27.800525463000042 L 88.16766464200003,27.800992936000057 L 88.16766963500004,27.801459917000045 z M 88.18189673500007,27.807583157000067 L 88.18135360500008,27.80772618000003 L 88.18080748100004,27.807592474000046 L 88.18018355500004,27.80745943100004 L 88.18004924800005,27.807426548000024 L 88.17987464800007,27.807173340000077 L 88.17976206200007,27.80669665100004 L 88.17959576500004,27.806220420000045 L 88.17959524900004,27.806172659000026 L 88.18001462600006,27.805213774000038 L 88.18038699500005,27.80487623600004 L 88.18075936200006,27.804538698000044 L 88.18118595400006,27.804248459000064 L 88.18129259400007,27.803954592000025 L 88.18131319100007,27.803990359000068 L 88.18162888700004,27.80440278800006 L 88.18163412700005,27.804887061000045 L 88.18124960800003,27.805305480000072 L 88.18086433700006,27.80565471600005 L 88.18086957400004,27.806138989000033 L 88.18126233000004,27.806481572000052 L 88.18150023000004,27.80689466700005 L 88.18181593600008,27.807307095000056 L 88.18205159400009,27.807512643000052 L 88.18189673500007,27.807583157000067 z M 88.18327751900006,27.838621352000075 L 88.18274075500005,27.838673718000052 L 88.18220295500004,27.83863056100006 L 88.18166463700004,27.838539642000057 L 88.18118263500008,27.838687063000066 L 88.18110012100004,27.838724624000065 L 88.18083310300005,27.83872690900006 L 88.17995924400003,27.838890056000025 L 88.17961295500004,27.839256254000077 L 88.17938396500006,27.839673339000058 L 88.17932275800007,27.83984195000005 L 88.17899526500008,27.840138714000034 L 88.17856904600006,27.840476710000075 L 88.17808754700008,27.84067188100005 L 88.17755025300005,27.840676466000048 L 88.17711732500004,27.84039357000006 L 88.17673761200007,27.840062454000076 L 88.17651805800006,27.839634442000033 L 88.17640544800008,27.839157752000062 L 88.17634656700005,27.838680605000036 L 88.17655323600007,27.837914604000048 L 88.17660696400009,27.83791414600006 L 88.17708742300005,27.837623459000042 L 88.17751415200007,27.837333229000023 L 88.17794087800007,27.837042998000072 L 88.17842287800005,27.83689558800006 L 88.17895963600006,27.836843239000075 L 88.17949536100008,27.83669536700006 L 88.18003160100005,27.83659525300004 L 88.18056887400007,27.836590658000034 L 88.18110769800006,27.83672934300006 L 88.18159331400005,27.836916246000044 L 88.18202623900004,27.837199128000066 L 88.18251185900004,27.837386027000036 L 88.18299696200006,27.837525164000056 L 88.18348310300007,27.837759821000077 L 88.18359574200008,27.838236504000065 L 88.18327751900006,27.838621352000075 z M 88.18105773000008,27.84454803500006 L 88.18073805800003,27.844801536000034 L 88.18033701200005,27.84498408500008 L 88.18029671400006,27.844984430000068 L 88.17956978900008,27.844847352000045 L 88.17924468900009,27.84459936500008 L 88.17924042700008,27.844205341000077 L 88.17927646300006,27.843810973000075 L 88.17943378100006,27.843451392000077 L 88.17971276600008,27.84316241700003 L 88.18003204800004,27.84287309800004 L 88.18035171600008,27.842619598000056 L 88.18067138200007,27.84236609800007 L 88.18099104700008,27.84211259700004 L 88.18122933900008,27.841788145000066 L 88.18150831500003,27.841499167000052 L 88.18191051100007,27.841424075000077 L 88.18235416900006,27.841456099000027 L 88.18255954000006,27.841812575000063 L 88.18244253300008,27.84217181400004 L 88.18228522700008,27.842531399000052 L 88.18212792000008,27.842890983000075 L 88.18188962800008,27.843215437000026 L 88.18173231900005,27.84357502100005 L 88.18153432300005,27.84389912900008 L 88.18129602700003,27.84422358200004 L 88.18105773000008,27.84454803500006 z M 88.18243176000004,27.844894503000035 L 88.18279250300003,27.844712294000033 L 88.18319626500005,27.844780479000065 L 88.18356128400006,27.84499229000005 L 88.18384648600005,27.845276433000038 L 88.18409177900008,27.845596741000065 L 88.18405576000004,27.845991110000057 L 88.18393875300006,27.846350350000023 L 88.18365977100007,27.846639332000052 L 88.18329980100003,27.846893185000056 L 88.18285689800007,27.84693280600004 L 88.18281659900003,27.846933152000076 L 88.18225435200009,27.84711708900005 L 88.18145418800003,27.84766129700006 L 88.18101050500007,27.847629272000063 L 88.18060595800006,27.84748944000006 L 88.18024132400006,27.84731344100004 L 88.18023705800005,27.846919417000038 L 88.18031377800008,27.84656052500003 L 88.18043079600005,27.846201287000042 L 88.18075047300005,27.845947786000067 L 88.18115268600008,27.84587269700006 L 88.18155451000007,27.845761785000036 L 88.18187418200006,27.845508282000026 L 88.18215316600003,27.84521930300008 L 88.18243176000004,27.844894503000035 z\" /></g></svg>"
      ],
      "text/plain": [
       "<shapely.geometry.polygon.Polygon at 0x7f34229a2470>"
      ]
     },
     "execution_count": 41,
     "metadata": {},
     "output_type": "execute_result"
    }
   ],
   "source": [
    "shp_gdf.geometry["
   ]
  },
  {
   "cell_type": "code",
   "execution_count": 44,
   "metadata": {},
   "outputs": [
    {
     "ename": "AttributeError",
     "evalue": "'list' object has no attribute 'dtype'",
     "output_type": "error",
     "traceback": [
      "\u001b[0;31m---------------------------------------------------------------------------\u001b[0m",
      "\u001b[0;31mAttributeError\u001b[0m                            Traceback (most recent call last)",
      "\u001b[0;32m<ipython-input-44-d4f988d30e1e>\u001b[0m in \u001b[0;36m<module>\u001b[0;34m()\u001b[0m\n\u001b[0;32m----> 1\u001b[0;31m \u001b[0mgeoms\u001b[0m\u001b[0;34m.\u001b[0m\u001b[0mdtype\u001b[0m\u001b[0;34m\u001b[0m\u001b[0m\n\u001b[0m",
      "\u001b[0;31mAttributeError\u001b[0m: 'list' object has no attribute 'dtype'"
     ]
    }
   ],
   "source": [
    "geoms.dtype"
   ]
  },
  {
   "cell_type": "markdown",
   "metadata": {
    "collapsed": true
   },
   "source": [
    "###### Geopamdas Experiment"
   ]
  },
  {
   "cell_type": "markdown",
   "metadata": {},
   "source": [
    "#### what David does is rasterizes the shapefile in form of arrays, this same can be done with geopandas library using the example given in the xarray forum\n",
    "https://github.com/pydata/xarray/issues/501"
   ]
  },
  {
   "cell_type": "code",
   "execution_count": 26,
   "metadata": {},
   "outputs": [
    {
     "data": {
      "text/plain": [
       "{'init': 'epsg:4326'}"
      ]
     },
     "execution_count": 26,
     "metadata": {},
     "output_type": "execute_result"
    }
   ],
   "source": [
    "shp_gdf.crs"
   ]
  },
  {
   "cell_type": "code",
   "execution_count": 27,
   "metadata": {},
   "outputs": [
    {
     "data": {
      "text/plain": [
       "CRS({'init': 'epsg:32645'})"
      ]
     },
     "execution_count": 27,
     "metadata": {},
     "output_type": "execute_result"
    }
   ],
   "source": [
    "rasterio_dataset.crs"
   ]
  },
  {
   "cell_type": "code",
   "execution_count": 28,
   "metadata": {},
   "outputs": [],
   "source": [
    "shp_gdf_projected_raster=shp_gdf.copy()\n",
    "shp_gdf_projected_raster['geometry']=shp_gdf_projected_raster['geometry'].to_crs(rasterio_dataset.crs)"
   ]
  },
  {
   "cell_type": "code",
   "execution_count": 29,
   "metadata": {},
   "outputs": [
    {
     "data": {
      "text/plain": [
       "{'init': 'epsg:4326'}"
      ]
     },
     "execution_count": 29,
     "metadata": {},
     "output_type": "execute_result"
    }
   ],
   "source": [
    "shp_gdf_projected_raster.crs"
   ]
  },
  {
   "cell_type": "code",
   "execution_count": 30,
   "metadata": {},
   "outputs": [
    {
     "data": {
      "text/plain": [
       "0    POLYGON ((614255.561575591 3083110.395163486, ...\n",
       "Name: geometry, dtype: object"
      ]
     },
     "execution_count": 30,
     "metadata": {},
     "output_type": "execute_result"
    }
   ],
   "source": [
    "shp_gdf_projected_raster.geometry"
   ]
  },
  {
   "cell_type": "code",
   "execution_count": 31,
   "metadata": {},
   "outputs": [
    {
     "data": {
      "text/plain": [
       "0    POLYGON ((88.16059143000007 27.86790288700007,...\n",
       "Name: geometry, dtype: object"
      ]
     },
     "execution_count": 31,
     "metadata": {},
     "output_type": "execute_result"
    }
   ],
   "source": [
    "shp_gdf.geometry"
   ]
  },
  {
   "cell_type": "code",
   "execution_count": 32,
   "metadata": {},
   "outputs": [],
   "source": [
    "shp_gdf_projected_raster=shp_gdf_projected_raster.to_crs(rasterio_dataset.crs)"
   ]
  },
  {
   "cell_type": "code",
   "execution_count": 33,
   "metadata": {},
   "outputs": [
    {
     "data": {
      "text/plain": [
       "CRS({'init': 'epsg:32645'})"
      ]
     },
     "execution_count": 33,
     "metadata": {},
     "output_type": "execute_result"
    }
   ],
   "source": [
    "shp_gdf_projected_raster.crs"
   ]
  },
  {
   "cell_type": "code",
   "execution_count": 34,
   "metadata": {},
   "outputs": [
    {
     "data": {
      "text/plain": [
       "0    POLYGON ((inf inf, inf inf, inf inf, inf inf, ...\n",
       "Name: geometry, dtype: object"
      ]
     },
     "execution_count": 34,
     "metadata": {},
     "output_type": "execute_result"
    }
   ],
   "source": [
    "shp_gdf_projected_raster.geometry"
   ]
  },
  {
   "cell_type": "code",
   "execution_count": 35,
   "metadata": {},
   "outputs": [],
   "source": [
    "shp_gdf_proj=shp_gdf.copy"
   ]
  },
  {
   "cell_type": "code",
   "execution_count": 36,
   "metadata": {},
   "outputs": [],
   "source": [
    "shp_gdf=shp_gdf.to_crs(rasterio_dataset.crs)"
   ]
  },
  {
   "cell_type": "code",
   "execution_count": 37,
   "metadata": {},
   "outputs": [
    {
     "data": {
      "text/plain": [
       "0    POLYGON ((614255.561575591 3083110.395163486, ...\n",
       "Name: geometry, dtype: object"
      ]
     },
     "execution_count": 37,
     "metadata": {},
     "output_type": "execute_result"
    }
   ],
   "source": [
    "shp_gdf.geometry"
   ]
  },
  {
   "cell_type": "code",
   "execution_count": 38,
   "metadata": {},
   "outputs": [],
   "source": [
    "from rasterio import features"
   ]
  },
  {
   "cell_type": "code",
   "execution_count": 45,
   "metadata": {},
   "outputs": [],
   "source": [
    "shape_array=features.rasterize(shp_gdf.geometry, out_shape=array_rasterio_masked.shape,fill=-9999,transform=rasterio_dataset.transform,dtype=float)"
   ]
  },
  {
   "cell_type": "code",
   "execution_count": 46,
   "metadata": {},
   "outputs": [
    {
     "data": {
      "text/plain": [
       "(8653, 16353)"
      ]
     },
     "execution_count": 46,
     "metadata": {},
     "output_type": "execute_result"
    }
   ],
   "source": [
    "shape_array.shape"
   ]
  },
  {
   "cell_type": "code",
   "execution_count": 47,
   "metadata": {},
   "outputs": [
    {
     "data": {
      "text/plain": [
       "array([[-9999., -9999., -9999., ..., -9999., -9999., -9999.],\n",
       "       [-9999., -9999., -9999., ..., -9999., -9999., -9999.],\n",
       "       [-9999., -9999., -9999., ..., -9999., -9999., -9999.],\n",
       "       ...,\n",
       "       [-9999., -9999., -9999., ..., -9999., -9999., -9999.],\n",
       "       [-9999., -9999., -9999., ..., -9999., -9999., -9999.],\n",
       "       [-9999., -9999., -9999., ..., -9999., -9999., -9999.]])"
      ]
     },
     "execution_count": 47,
     "metadata": {},
     "output_type": "execute_result"
    }
   ],
   "source": [
    "shape_array"
   ]
  },
  {
   "cell_type": "code",
   "execution_count": 51,
   "metadata": {},
   "outputs": [],
   "source": [
    "shape_masked=np.ma.masked_where(shape_array==-9999, shape_array)"
   ]
  },
  {
   "cell_type": "code",
   "execution_count": 52,
   "metadata": {},
   "outputs": [
    {
     "data": {
      "text/plain": [
       "masked_array(\n",
       "  data=[[--, --, --, ..., --, --, --],\n",
       "        [--, --, --, ..., --, --, --],\n",
       "        [--, --, --, ..., --, --, --],\n",
       "        ...,\n",
       "        [--, --, --, ..., --, --, --],\n",
       "        [--, --, --, ..., --, --, --],\n",
       "        [--, --, --, ..., --, --, --]],\n",
       "  mask=[[ True,  True,  True, ...,  True,  True,  True],\n",
       "        [ True,  True,  True, ...,  True,  True,  True],\n",
       "        [ True,  True,  True, ...,  True,  True,  True],\n",
       "        ...,\n",
       "        [ True,  True,  True, ...,  True,  True,  True],\n",
       "        [ True,  True,  True, ...,  True,  True,  True],\n",
       "        [ True,  True,  True, ...,  True,  True,  True]],\n",
       "  fill_value=1e+20)"
      ]
     },
     "execution_count": 52,
     "metadata": {},
     "output_type": "execute_result"
    }
   ],
   "source": [
    "shape_masked"
   ]
  },
  {
   "cell_type": "code",
   "execution_count": 56,
   "metadata": {},
   "outputs": [
    {
     "data": {
      "text/plain": [
       "1.0"
      ]
     },
     "execution_count": 56,
     "metadata": {},
     "output_type": "execute_result"
    }
   ],
   "source": [
    "shape_masked.mean()"
   ]
  },
  {
   "cell_type": "code",
   "execution_count": 57,
   "metadata": {},
   "outputs": [
    {
     "data": {
      "text/plain": [
       "<matplotlib.image.AxesImage at 0x7fbd15143278>"
      ]
     },
     "execution_count": 57,
     "metadata": {},
     "output_type": "execute_result"
    },
    {
     "data": {
      "image/png": "[encoded data removed]",
      "text/plain": [
       "<Figure size 432x288 with 1 Axes>"
      ]
     },
     "metadata": {
      "needs_background": "light"
     },
     "output_type": "display_data"
    }
   ],
   "source": [
    "plt.imshow(array_rasterio_masked)"
   ]
  },
  {
   "cell_type": "code",
   "execution_count": 59,
   "metadata": {},
   "outputs": [],
   "source": [
    "glacier_cutoff=np.ma.array(array_rasterio_masked, mask=shape_masked.mask)"
   ]
  },
  {
   "cell_type": "code",
   "execution_count": 60,
   "metadata": {},
   "outputs": [
    {
     "data": {
      "text/plain": [
       "(8653, 16353)"
      ]
     },
     "execution_count": 60,
     "metadata": {},
     "output_type": "execute_result"
    }
   ],
   "source": [
    "glacier_cutoff.shape"
   ]
  },
  {
   "cell_type": "code",
   "execution_count": 61,
   "metadata": {},
   "outputs": [
    {
     "data": {
      "text/plain": [
       "masked"
      ]
     },
     "execution_count": 61,
     "metadata": {},
     "output_type": "execute_result"
    }
   ],
   "source": [
    "glacier_cutoff.max()"
   ]
  },
  {
   "cell_type": "code",
   "execution_count": 62,
   "metadata": {},
   "outputs": [
    {
     "data": {
      "text/plain": [
       "masked"
      ]
     },
     "execution_count": 62,
     "metadata": {},
     "output_type": "execute_result"
    }
   ],
   "source": [
    "glacier_cutoff.min()"
   ]
  },
  {
   "cell_type": "markdown",
   "metadata": {},
   "source": [
    "###### To Do's \n",
    "Make a buffer\n",
    "Extract data\n",
    "pack it in xyz format \n",
    "try to read it to pygeostatistics\n"
   ]
  },
  {
   "cell_type": "code",
   "execution_count": null,
   "metadata": {},
   "outputs": [],
   "source": []
  }
 ],
 "metadata": {
  "kernelspec": {
   "display_name": "Python 3",
   "language": "python",
   "name": "python3"
  },
  "language_info": {
   "codemirror_mode": {
    "name": "ipython",
    "version": 3
   },
   "file_extension": ".py",
   "mimetype": "text/x-python",
   "name": "python",
   "nbconvert_exporter": "python",
   "pygments_lexer": "ipython3",
   "version": "3.6.6"
  }
 },
 "nbformat": 4,
 "nbformat_minor": 2
}
