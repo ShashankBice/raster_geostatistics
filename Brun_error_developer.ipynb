{
 "cells": [
  {
   "cell_type": "code",
   "execution_count": 2,
   "metadata": {},
   "outputs": [],
   "source": [
    "import numpy as np\n",
    "import matplotlib.pyplot as plt\n",
    "import geopandas as gpd\n",
    "import pandas as pd\n",
    "import sys\n",
    "GeoPy_path='/home/shashank/nobackup_shashank/gslib_executables/GeostatsPy/'\n",
    "sys.path.insert(0, GeoPy_path)\n",
    "import GeostatsPy\n",
    "import os\n",
    "import rasterio \n",
    "from scipy import stats\n",
    "from IPython.display import Image\n",
    "from pygeotools.lib import  iolib,geolib,warplib,malib"
   ]
  },
  {
   "cell_type": "code",
   "execution_count": 3,
   "metadata": {},
   "outputs": [],
   "source": [
    "#Data_Files are 2 km buffer dh and the latest mb_csv to get the glacier area\n",
    "csv_fn='mb_20181108-20181111T192508Z-001/mb_20181108/hma_mb_20181108_0454.csv'\n",
    "df=pd.read_csv(csv_fn)\n",
    "datapath='/home/shashank/nobackup_shashank/HMA_Mb_Analysis/reprocessed_data/mb_20181108-20181111T192508Z-001/mb_20181108/test_glaciers/'\n",
    "fn_list=[]\n",
    "fl=[]\n",
    "for file in os.listdir(datapath):\n",
    "    fn_name=os.fsdecode(file)\n",
    "    if fn_name.endswith('static.tif'):\n",
    "        fl.append(fn_name.split('_')[0])\n",
    "        fn_list.append(os.path.join(datapath,fn_name))"
   ]
  },
  {
   "cell_type": "code",
   "execution_count": 17,
   "metadata": {},
   "outputs": [],
   "source": [
    "ma_list=[iolib.fn_getma(i) for i in fn_list]\n",
    "gt_list=[iolib.fn_getds(i).GetGeoTransform() for i in fn_list]"
   ]
  },
  {
   "cell_type": "code",
   "execution_count": 14,
   "metadata": {},
   "outputs": [],
   "source": [
    "def get_xyz(ma,gt,z):\n",
    "    \"\"\"\n",
    "    Takes in a masked array gdal style gt & header for z\n",
    "        \n",
    "        returns a dataframe containing the x,y and the value of the raster\n",
    "    \"\"\"\n",
    "    x,y=geolib.get_xy_ma(ma,gt,origmask=True)\n",
    "    xyz=np.vstack((x.compressed(),y.compressed(),ma.compressed())).T\n",
    "    df=pd.DataFrame(xyz,columns=['x','y',z])\n",
    "    return(df)"
   ]
  },
  {
   "cell_type": "code",
   "execution_count": 9,
   "metadata": {},
   "outputs": [],
   "source": [
    "def model_param(var,lag,gamma):\n",
    "    \"\"\"\n",
    "     model for a spherical variogram, assuming sill at the variance of the data\n",
    "     Takes in the variance, lag and gamma returned by GSLIB\n",
    "     Returns sill,range and nugget\n",
    "    \"\"\"\n",
    "    sill=var\n",
    "    print('Sill=',sill)\n",
    "    idx=np.argmax(np.array(gamma)>sill)\n",
    "    print(idx)\n",
    "    vrange=lag[idx]\n",
    "    print(\"Range =\",vrange)\n",
    "    x=lag[0:4]\n",
    "    y=gamma[0:4]\n",
    "    slope,nugget,r,p,std=stats.linregress(x,y)\n",
    "    print(\"Nugget=\",nugget)\n",
    "    return (sill,vrange,nugget)"
   ]
  },
  {
   "cell_type": "code",
   "execution_count": 10,
   "metadata": {},
   "outputs": [],
   "source": [
    "def vario_plt(lag,gamma,lag_m,gamma_m,hrange,rgi_title):\n",
    "    \"\"\"\n",
    "    Simple Plotting function for variogram and modlled variogram\n",
    "    \"\"\"\n",
    "    fig,ax=plt.subplots(figsize=(8,8))\n",
    "    ax.plot(lag,gamma,'r--')\n",
    "    ax.plot(lag_m,gamma_m,'g^')\n",
    "    ax.vline(x=hrange,color='blue',ymin=0,ymax=np.max(np.array(gamma)))\n",
    "    ax.set_xlabel('Lag Distance (m)')\n",
    "    ax.set_ylabel('Variogram')\n",
    "    ax.set_title(rgi_title)\n",
    "    return fig\n",
    "    "
   ]
  },
  {
   "cell_type": "code",
   "execution_count": 11,
   "metadata": {},
   "outputs": [],
   "source": [
    "def variogram(rgi_title,df,x,y,val,nlag,lag,azi=0,tol=90,bstand=0):\n",
    "    \"\"\"\n",
    "    Takes in a dataframe containing a x,y and values, variogram properties such as number of lags, lag distance,\n",
    "    azimuth,azimuth tolerance and argument to standardize the sill or not\n",
    "    \n",
    "    Calulates variogram, which is then modelled for a spherical variogram, assuming sill at the variance of the data\n",
    "    \n",
    "    By Default calculates the omnidirectional varigram\n",
    "    Calls in the variogram plotting function and plots the modelled and experimental variogram\n",
    "    \n",
    "    Returns the distance of autocorrelation and saves the plot\n",
    "    \"\"\"\n",
    "    lag,gamma,npair=GeostatsPy.gamv_2d(df,x,y,val,nlag,lag,azi,tol,bstand)\n",
    "    sill,hrange,c0=model_param(np.var(df[val]),lag,gamma)\n",
    "    lag_m,gamma_m=GeostatsPy.vmodel_2d(nlag,lag,azi,c0,1,1,sill,azi,hrange,1)\n",
    "    fig=vario_plt(lag,gamma,lag_m,gamma_m,hrange,rgi_title)\n",
    "    fig_name=rgi_title+\" variogram.png\"\n",
    "    fig.savefig(fig_name,dpi=300)\n",
    "    return hrange\n",
    "    "
   ]
  },
  {
   "cell_type": "code",
   "execution_count": 12,
   "metadata": {},
   "outputs": [
    {
     "data": {
      "image/gif": "[encoded data removed]",
      "text/plain": [
       "<IPython.core.display.Image object>"
      ]
     },
     "execution_count": 12,
     "metadata": {},
     "output_type": "execute_result"
    }
   ],
   "source": [
    "Image('Brun.gif')"
   ]
  },
  {
   "cell_type": "code",
   "execution_count": 13,
   "metadata": {},
   "outputs": [],
   "source": [
    "def dh_er(ma,hrange,df,rgi_title):\n",
    "    std=malib.print_stats(ma)[4]\n",
    "    nmad=malib.print_stats(ma)[6]\n",
    "    a_cor=np.pi*(hrange*hrange)\n",
    "    a=(df.loc[df['RGIId']==rgi_title]).area_m2.value[0]\n",
    "    if a>a_cor:\n",
    "        sig_dh=std*np.sqrt(a_cor/(5*a))\n",
    "    else:\n",
    "        sig_dh=std\n",
    "    print('dh_error =',sig_dh)\n",
    "    return std,nmad,sig_dh\n",
    "        "
   ]
  },
  {
   "cell_type": "code",
   "execution_count": 15,
   "metadata": {},
   "outputs": [],
   "source": [
    "dh_df=get_xyz(ma_list[0],gt_list[0],'dh')"
   ]
  },
  {
   "cell_type": "code",
   "execution_count": 20,
   "metadata": {},
   "outputs": [
    {
     "name": "stdout",
     "output_type": "stream",
     "text": [
      "Sill= 39.672841817387294\n",
      "20\n",
      "Range = 486.772\n",
      "Nugget= -0.10917217269704294\n"
     ]
    },
    {
     "ename": "AttributeError",
     "evalue": "'AxesSubplot' object has no attribute 'vline'",
     "output_type": "error",
     "traceback": [
      "\u001b[0;31m---------------------------------------------------------------------------\u001b[0m",
      "\u001b[0;31mAttributeError\u001b[0m                            Traceback (most recent call last)",
      "\u001b[0;32m<ipython-input-20-d2d8d8830b3c>\u001b[0m in \u001b[0;36m<module>\u001b[0;34m()\u001b[0m\n\u001b[0;32m----> 1\u001b[0;31m \u001b[0mhrange\u001b[0m\u001b[0;34m=\u001b[0m\u001b[0mvariogram\u001b[0m\u001b[0;34m(\u001b[0m\u001b[0mfl\u001b[0m\u001b[0;34m[\u001b[0m\u001b[0;36m0\u001b[0m\u001b[0;34m]\u001b[0m\u001b[0;34m,\u001b[0m\u001b[0mdh_df\u001b[0m\u001b[0;34m,\u001b[0m\u001b[0;34m'x'\u001b[0m\u001b[0;34m,\u001b[0m\u001b[0;34m'y'\u001b[0m\u001b[0;34m,\u001b[0m\u001b[0;34m'dh'\u001b[0m\u001b[0;34m,\u001b[0m\u001b[0;36m250\u001b[0m\u001b[0;34m,\u001b[0m\u001b[0mgt_list\u001b[0m\u001b[0;34m[\u001b[0m\u001b[0;36m0\u001b[0m\u001b[0;34m]\u001b[0m\u001b[0;34m[\u001b[0m\u001b[0;36m1\u001b[0m\u001b[0;34m]\u001b[0m\u001b[0;34m)\u001b[0m\u001b[0;34m\u001b[0m\u001b[0m\n\u001b[0m",
      "\u001b[0;32m<ipython-input-11-ba6e28c4fd91>\u001b[0m in \u001b[0;36mvariogram\u001b[0;34m(rgi_title, df, x, y, val, nlag, lag, azi, tol, bstand)\u001b[0m\n\u001b[1;32m     14\u001b[0m     \u001b[0msill\u001b[0m\u001b[0;34m,\u001b[0m\u001b[0mhrange\u001b[0m\u001b[0;34m,\u001b[0m\u001b[0mc0\u001b[0m\u001b[0;34m=\u001b[0m\u001b[0mmodel_param\u001b[0m\u001b[0;34m(\u001b[0m\u001b[0mnp\u001b[0m\u001b[0;34m.\u001b[0m\u001b[0mvar\u001b[0m\u001b[0;34m(\u001b[0m\u001b[0mdf\u001b[0m\u001b[0;34m[\u001b[0m\u001b[0mval\u001b[0m\u001b[0;34m]\u001b[0m\u001b[0;34m)\u001b[0m\u001b[0;34m,\u001b[0m\u001b[0mlag\u001b[0m\u001b[0;34m,\u001b[0m\u001b[0mgamma\u001b[0m\u001b[0;34m)\u001b[0m\u001b[0;34m\u001b[0m\u001b[0m\n\u001b[1;32m     15\u001b[0m     \u001b[0mlag_m\u001b[0m\u001b[0;34m,\u001b[0m\u001b[0mgamma_m\u001b[0m\u001b[0;34m=\u001b[0m\u001b[0mGeostatsPy\u001b[0m\u001b[0;34m.\u001b[0m\u001b[0mvmodel_2d\u001b[0m\u001b[0;34m(\u001b[0m\u001b[0mnlag\u001b[0m\u001b[0;34m,\u001b[0m\u001b[0mlag\u001b[0m\u001b[0;34m,\u001b[0m\u001b[0mazi\u001b[0m\u001b[0;34m,\u001b[0m\u001b[0mc0\u001b[0m\u001b[0;34m,\u001b[0m\u001b[0;36m1\u001b[0m\u001b[0;34m,\u001b[0m\u001b[0;36m1\u001b[0m\u001b[0;34m,\u001b[0m\u001b[0msill\u001b[0m\u001b[0;34m,\u001b[0m\u001b[0mazi\u001b[0m\u001b[0;34m,\u001b[0m\u001b[0mhrange\u001b[0m\u001b[0;34m,\u001b[0m\u001b[0;36m1\u001b[0m\u001b[0;34m)\u001b[0m\u001b[0;34m\u001b[0m\u001b[0m\n\u001b[0;32m---> 16\u001b[0;31m     \u001b[0mfig\u001b[0m\u001b[0;34m=\u001b[0m\u001b[0mvario_plt\u001b[0m\u001b[0;34m(\u001b[0m\u001b[0mlag\u001b[0m\u001b[0;34m,\u001b[0m\u001b[0mgamma\u001b[0m\u001b[0;34m,\u001b[0m\u001b[0mlag_m\u001b[0m\u001b[0;34m,\u001b[0m\u001b[0mgamma_m\u001b[0m\u001b[0;34m,\u001b[0m\u001b[0mhrange\u001b[0m\u001b[0;34m,\u001b[0m\u001b[0mrgi_title\u001b[0m\u001b[0;34m)\u001b[0m\u001b[0;34m\u001b[0m\u001b[0m\n\u001b[0m\u001b[1;32m     17\u001b[0m     \u001b[0mfig_name\u001b[0m\u001b[0;34m=\u001b[0m\u001b[0mrgi_title\u001b[0m\u001b[0;34m+\u001b[0m\u001b[0;34m\" variogram.png\"\u001b[0m\u001b[0;34m\u001b[0m\u001b[0m\n\u001b[1;32m     18\u001b[0m     \u001b[0mfig\u001b[0m\u001b[0;34m.\u001b[0m\u001b[0msavefig\u001b[0m\u001b[0;34m(\u001b[0m\u001b[0mfig_name\u001b[0m\u001b[0;34m,\u001b[0m\u001b[0mdpi\u001b[0m\u001b[0;34m=\u001b[0m\u001b[0;36m300\u001b[0m\u001b[0;34m)\u001b[0m\u001b[0;34m\u001b[0m\u001b[0m\n",
      "\u001b[0;32m<ipython-input-10-8782bacf8898>\u001b[0m in \u001b[0;36mvario_plt\u001b[0;34m(lag, gamma, lag_m, gamma_m, hrange, rgi_title)\u001b[0m\n\u001b[1;32m      6\u001b[0m     \u001b[0max\u001b[0m\u001b[0;34m.\u001b[0m\u001b[0mplot\u001b[0m\u001b[0;34m(\u001b[0m\u001b[0mlag\u001b[0m\u001b[0;34m,\u001b[0m\u001b[0mgamma\u001b[0m\u001b[0;34m,\u001b[0m\u001b[0;34m'r--'\u001b[0m\u001b[0;34m)\u001b[0m\u001b[0;34m\u001b[0m\u001b[0m\n\u001b[1;32m      7\u001b[0m     \u001b[0max\u001b[0m\u001b[0;34m.\u001b[0m\u001b[0mplot\u001b[0m\u001b[0;34m(\u001b[0m\u001b[0mlag_m\u001b[0m\u001b[0;34m,\u001b[0m\u001b[0mgamma_m\u001b[0m\u001b[0;34m,\u001b[0m\u001b[0;34m'g^'\u001b[0m\u001b[0;34m)\u001b[0m\u001b[0;34m\u001b[0m\u001b[0m\n\u001b[0;32m----> 8\u001b[0;31m     \u001b[0max\u001b[0m\u001b[0;34m.\u001b[0m\u001b[0mvline\u001b[0m\u001b[0;34m(\u001b[0m\u001b[0mx\u001b[0m\u001b[0;34m=\u001b[0m\u001b[0mhrange\u001b[0m\u001b[0;34m,\u001b[0m\u001b[0mcolor\u001b[0m\u001b[0;34m=\u001b[0m\u001b[0;34m'blue'\u001b[0m\u001b[0;34m,\u001b[0m\u001b[0mymin\u001b[0m\u001b[0;34m=\u001b[0m\u001b[0;36m0\u001b[0m\u001b[0;34m,\u001b[0m\u001b[0mymax\u001b[0m\u001b[0;34m=\u001b[0m\u001b[0mnp\u001b[0m\u001b[0;34m.\u001b[0m\u001b[0mmax\u001b[0m\u001b[0;34m(\u001b[0m\u001b[0mnp\u001b[0m\u001b[0;34m.\u001b[0m\u001b[0marray\u001b[0m\u001b[0;34m(\u001b[0m\u001b[0mgamma\u001b[0m\u001b[0;34m)\u001b[0m\u001b[0;34m)\u001b[0m\u001b[0;34m)\u001b[0m\u001b[0;34m\u001b[0m\u001b[0m\n\u001b[0m\u001b[1;32m      9\u001b[0m     \u001b[0max\u001b[0m\u001b[0;34m.\u001b[0m\u001b[0mset_xlabel\u001b[0m\u001b[0;34m(\u001b[0m\u001b[0;34m'Lag Distance (m)'\u001b[0m\u001b[0;34m)\u001b[0m\u001b[0;34m\u001b[0m\u001b[0m\n\u001b[1;32m     10\u001b[0m     \u001b[0max\u001b[0m\u001b[0;34m.\u001b[0m\u001b[0mset_ylabel\u001b[0m\u001b[0;34m(\u001b[0m\u001b[0;34m'Variogram'\u001b[0m\u001b[0;34m)\u001b[0m\u001b[0;34m\u001b[0m\u001b[0m\n",
      "\u001b[0;31mAttributeError\u001b[0m: 'AxesSubplot' object has no attribute 'vline'"
     ]
    },
    {
     "data": {
      "image/png": "[encoded data removed]",
      "text/plain": [
       "<Figure size 576x576 with 1 Axes>"
      ]
     },
     "metadata": {
      "needs_background": "light"
     },
     "output_type": "display_data"
    }
   ],
   "source": [
    "hrange=variogram(fl[0],dh_df,'x','y','dh',250,gt_list[0][1])"
   ]
  },
  {
   "cell_type": "code",
   "execution_count": 19,
   "metadata": {},
   "outputs": [
    {
     "data": {
      "text/plain": [
       "25.531882649227317"
      ]
     },
     "execution_count": 19,
     "metadata": {},
     "output_type": "execute_result"
    }
   ],
   "source": [
    "gt_list[0][1]"
   ]
  },
  {
   "cell_type": "code",
   "execution_count": null,
   "metadata": {},
   "outputs": [],
   "source": []
  }
 ],
 "metadata": {
  "kernelspec": {
   "display_name": "Python 3",
   "language": "python",
   "name": "python3"
  },
  "language_info": {
   "codemirror_mode": {
    "name": "ipython",
    "version": 3
   },
   "file_extension": ".py",
   "mimetype": "text/x-python",
   "name": "python",
   "nbconvert_exporter": "python",
   "pygments_lexer": "ipython3",
   "version": "3.6.6"
  }
 },
 "nbformat": 4,
 "nbformat_minor": 2
}
