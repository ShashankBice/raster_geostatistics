{
 "cells": [
  {
   "cell_type": "code",
   "execution_count": 1,
   "metadata": {},
   "outputs": [],
   "source": [
    "from pygeotools.lib import  geolib, malib, iolib, warplib\n",
    "import geopandas as gpd\n",
    "import matplotlib.pyplot as plt\n",
    "%matplotlib inline\n",
    "import rasterio, affine\n",
    "from rasterio import features\n",
    "import numpy as np\n",
    "import pandas as pd"
   ]
  },
  {
   "cell_type": "code",
   "execution_count": 2,
   "metadata": {},
   "outputs": [],
   "source": [
    "import matplotlib.pyplot as plt"
   ]
  },
  {
   "cell_type": "markdown",
   "metadata": {},
   "source": [
    "#### Currently use  an already available wrapper around GSLIB https://github.com/GeostatsGuy/GeostatsPy/"
   ]
  },
  {
   "cell_type": "code",
   "execution_count": 3,
   "metadata": {},
   "outputs": [],
   "source": [
    "import sys\n",
    "GeoPy_path='/home/shashank/nobackup_shashank/gslib_executables/GeostatsPy/'\n",
    "sys.path.insert(0, GeoPy_path)\n",
    "import GeostatsPy"
   ]
  },
  {
   "cell_type": "code",
   "execution_count": 4,
   "metadata": {},
   "outputs": [],
   "source": [
    "shp_fn='../../raster_geostatistics/data/Sikkim_kanchenjunga.shp'\n",
    "raster_fn='../../raster_geostatistics/data/Rate_maps_Coregister-tile-0-last_inverted_ref.tif'"
   ]
  },
  {
   "cell_type": "code",
   "execution_count": 5,
   "metadata": {},
   "outputs": [],
   "source": [
    "shp_gdf=gpd.read_file(shp_fn)\n",
    "rasterio_dataset= rasterio.open(raster_fn)\n",
    "gt_r=rasterio_dataset.transform\n",
    "##### To convert back and forth from the gdal tuple to affine transform\n",
    "#https://www.perrygeo.com/python-affine-transforms.html\n",
    "gt_rp = gt_r.to_gdal()\n",
    "array_rasterio_masked=rasterio_dataset.read(1, masked=True)"
   ]
  },
  {
   "cell_type": "code",
   "execution_count": 6,
   "metadata": {},
   "outputs": [
    {
     "data": {
      "text/plain": [
       "<matplotlib.axes._subplots.AxesSubplot at 0x7fcf35b4b8d0>"
      ]
     },
     "execution_count": 6,
     "metadata": {},
     "output_type": "execute_result"
    },
    {
     "data": {
      "image/png": "[encoded data removed]",
      "text/plain": [
       "<Figure size 432x288 with 1 Axes>"
      ]
     },
     "metadata": {
      "needs_background": "light"
     },
     "output_type": "display_data"
    }
   ],
   "source": [
    "shp_gdf_projected_raster=shp_gdf.copy()\n",
    "shp_gdf_projected_raster=shp_gdf_projected_raster.to_crs(rasterio_dataset.crs)\n",
    "shp_gdf_projected_buffer=shp_gdf_projected_raster.copy()\n",
    "shp_gdf_projected_buffer['geometry']=shp_gdf_projected_buffer.buffer(500)\n",
    "shp_gdf_projected_buffer.plot()"
   ]
  },
  {
   "cell_type": "code",
   "execution_count": 7,
   "metadata": {},
   "outputs": [],
   "source": [
    "shape_array=features.rasterize(shp_gdf_projected_buffer.geometry, out_shape=array_rasterio_masked.shape,fill=-9999,transform=rasterio_dataset.transform,dtype=float)\n",
    "shape_masked=np.ma.masked_where(shape_array==-9999, shape_array)\n",
    "glacier_cutoff=np.ma.array(array_rasterio_masked, mask=shape_masked.mask)"
   ]
  },
  {
   "cell_type": "markdown",
   "metadata": {},
   "source": [
    "### Trimming the masked array and associated gt"
   ]
  },
  {
   "cell_type": "code",
   "execution_count": 8,
   "metadata": {},
   "outputs": [
    {
     "name": "stdout",
     "output_type": "stream",
     "text": [
      "input gt | 10.00, 0.00, 551333.39|\n",
      "| 0.00,-10.00, 3115850.78|\n",
      "| 0.00, 0.00, 1.00|\n",
      "Output gt | 10.00, 0.00, 599713.39|\n",
      "| 0.00,-10.00, 3083580.78|\n",
      "| 0.00, 0.00, 1.00|\n"
     ]
    }
   ],
   "source": [
    "##*****Potential Function******##\n",
    "#trim the array\n",
    "trim_ar=malib.masktrim(glacier_cutoff)\n",
    "#trim the gt\n",
    "print(\"input gt\", gt_r)\n",
    "edge_env = malib.edgefind2(glacier_cutoff)\n",
    "out_gt=list(gt_rp)\n",
    "#update UL_X\n",
    "out_gt[0] = gt_rp[0] + gt_rp[1]*edge_env[2]\n",
    "#Update UL_y\n",
    "out_gt[3] = gt_rp[3] + gt_rp[5]*edge_env[0]\n",
    "out_gt = tuple(out_gt)\n",
    "#convert to rasterio gt\n",
    "out_gt_r=affine.Affine.from_gdal(*out_gt)\n",
    "print(\"Output gt\",out_gt_r)"
   ]
  },
  {
   "cell_type": "markdown",
   "metadata": {},
   "source": [
    "### Reading xyz"
   ]
  },
  {
   "cell_type": "code",
   "execution_count": 9,
   "metadata": {},
   "outputs": [
    {
     "data": {
      "text/html": [
       "<div>\n",
       "<style scoped>\n",
       "    .dataframe tbody tr th:only-of-type {\n",
       "        vertical-align: middle;\n",
       "    }\n",
       "\n",
       "    .dataframe tbody tr th {\n",
       "        vertical-align: top;\n",
       "    }\n",
       "\n",
       "    .dataframe thead th {\n",
       "        text-align: right;\n",
       "    }\n",
       "</style>\n",
       "<table border=\"1\" class=\"dataframe\">\n",
       "  <thead>\n",
       "    <tr style=\"text-align: right;\">\n",
       "      <th></th>\n",
       "      <th>x</th>\n",
       "      <th>y</th>\n",
       "      <th>dh</th>\n",
       "    </tr>\n",
       "  </thead>\n",
       "  <tbody>\n",
       "    <tr>\n",
       "      <th>0</th>\n",
       "      <td>613748.392595</td>\n",
       "      <td>3.083576e+06</td>\n",
       "      <td>-0.436620</td>\n",
       "    </tr>\n",
       "    <tr>\n",
       "      <th>1</th>\n",
       "      <td>613668.392595</td>\n",
       "      <td>3.083546e+06</td>\n",
       "      <td>-9.811455</td>\n",
       "    </tr>\n",
       "    <tr>\n",
       "      <th>2</th>\n",
       "      <td>613648.392595</td>\n",
       "      <td>3.083536e+06</td>\n",
       "      <td>-4.753187</td>\n",
       "    </tr>\n",
       "    <tr>\n",
       "      <th>3</th>\n",
       "      <td>613658.392595</td>\n",
       "      <td>3.083536e+06</td>\n",
       "      <td>-8.136490</td>\n",
       "    </tr>\n",
       "    <tr>\n",
       "      <th>4</th>\n",
       "      <td>613668.392595</td>\n",
       "      <td>3.083536e+06</td>\n",
       "      <td>-10.443363</td>\n",
       "    </tr>\n",
       "  </tbody>\n",
       "</table>\n",
       "</div>"
      ],
      "text/plain": [
       "               x             y         dh\n",
       "0  613748.392595  3.083576e+06  -0.436620\n",
       "1  613668.392595  3.083546e+06  -9.811455\n",
       "2  613648.392595  3.083536e+06  -4.753187\n",
       "3  613658.392595  3.083536e+06  -8.136490\n",
       "4  613668.392595  3.083536e+06 -10.443363"
      ]
     },
     "execution_count": 9,
     "metadata": {},
     "output_type": "execute_result"
    }
   ],
   "source": [
    "x, y = geolib.get_xy_ma(trim_ar, gt=out_gt, origmask=True)\n",
    "xyz = np.vstack((x.compressed(),y.compressed(),trim_ar.compressed())).T\n",
    "df=pd.DataFrame(xyz,columns=['x','y','dh'])\n",
    "df.head()"
   ]
  },
  {
   "cell_type": "markdown",
   "metadata": {},
   "source": [
    "### Declusterring data, assigning them wiegths\n"
   ]
  },
  {
   "cell_type": "code",
   "execution_count": 10,
   "metadata": {},
   "outputs": [],
   "source": [
    "#weights=GeostatsPy.declus(df,'x','y','dh',100,1000,5,0)"
   ]
  },
  {
   "cell_type": "markdown",
   "metadata": {},
   "source": [
    "### nscore transform"
   ]
  },
  {
   "cell_type": "code",
   "execution_count": 11,
   "metadata": {},
   "outputs": [],
   "source": [
    "dh_nscore=GeostatsPy.nscore(df.dh.values,df.dh.count())\n",
    "#### Error in data file problem, this expects a datafile, it probably expects a data"
   ]
  },
  {
   "cell_type": "code",
   "execution_count": 12,
   "metadata": {},
   "outputs": [
    {
     "data": {
      "text/plain": [
       "array([-0.43662035, -9.81145477, -4.75318718, ...,  0.1187715 ,\n",
       "       -5.2203784 , -6.97474861])"
      ]
     },
     "execution_count": 12,
     "metadata": {},
     "output_type": "execute_result"
    }
   ],
   "source": [
    "df.dh.values"
   ]
  },
  {
   "cell_type": "code",
   "execution_count": 13,
   "metadata": {},
   "outputs": [
    {
     "data": {
      "text/html": [
       "<div>\n",
       "<style scoped>\n",
       "    .dataframe tbody tr th:only-of-type {\n",
       "        vertical-align: middle;\n",
       "    }\n",
       "\n",
       "    .dataframe tbody tr th {\n",
       "        vertical-align: top;\n",
       "    }\n",
       "\n",
       "    .dataframe thead th {\n",
       "        text-align: right;\n",
       "    }\n",
       "</style>\n",
       "<table border=\"1\" class=\"dataframe\">\n",
       "  <thead>\n",
       "    <tr style=\"text-align: right;\">\n",
       "      <th></th>\n",
       "      <th>value</th>\n",
       "      <th>NS:value</th>\n",
       "    </tr>\n",
       "  </thead>\n",
       "  <tbody>\n",
       "    <tr>\n",
       "      <th>0</th>\n",
       "      <td>-0.436620</td>\n",
       "      <td>-0.30298</td>\n",
       "    </tr>\n",
       "    <tr>\n",
       "      <th>1</th>\n",
       "      <td>-9.811455</td>\n",
       "      <td>-2.09781</td>\n",
       "    </tr>\n",
       "    <tr>\n",
       "      <th>2</th>\n",
       "      <td>-4.753187</td>\n",
       "      <td>-1.63625</td>\n",
       "    </tr>\n",
       "    <tr>\n",
       "      <th>3</th>\n",
       "      <td>-8.136490</td>\n",
       "      <td>-1.97881</td>\n",
       "    </tr>\n",
       "  </tbody>\n",
       "</table>\n",
       "</div>"
      ],
      "text/plain": [
       "      value  NS:value\n",
       "0 -0.436620  -0.30298\n",
       "1 -9.811455  -2.09781\n",
       "2 -4.753187  -1.63625\n",
       "3 -8.136490  -1.97881"
      ]
     },
     "execution_count": 13,
     "metadata": {},
     "output_type": "execute_result"
    }
   ],
   "source": [
    "dh_nscore.head(4)"
   ]
  },
  {
   "cell_type": "code",
   "execution_count": 14,
   "metadata": {},
   "outputs": [
    {
     "data": {
      "image/png": "[encoded data removed]",
      "text/plain": [
       "<Figure size 432x288 with 2 Axes>"
      ]
     },
     "metadata": {
      "needs_background": "light"
     },
     "output_type": "display_data"
    }
   ],
   "source": [
    "hist=dh_nscore.hist()"
   ]
  },
  {
   "cell_type": "code",
   "execution_count": 15,
   "metadata": {},
   "outputs": [],
   "source": [
    "df=df.assign(nscore=dh_nscore['NS:value'].values)"
   ]
  },
  {
   "cell_type": "code",
   "execution_count": 16,
   "metadata": {},
   "outputs": [
    {
     "data": {
      "text/html": [
       "<div>\n",
       "<style scoped>\n",
       "    .dataframe tbody tr th:only-of-type {\n",
       "        vertical-align: middle;\n",
       "    }\n",
       "\n",
       "    .dataframe tbody tr th {\n",
       "        vertical-align: top;\n",
       "    }\n",
       "\n",
       "    .dataframe thead th {\n",
       "        text-align: right;\n",
       "    }\n",
       "</style>\n",
       "<table border=\"1\" class=\"dataframe\">\n",
       "  <thead>\n",
       "    <tr style=\"text-align: right;\">\n",
       "      <th></th>\n",
       "      <th>x</th>\n",
       "      <th>y</th>\n",
       "      <th>dh</th>\n",
       "      <th>nscore</th>\n",
       "    </tr>\n",
       "  </thead>\n",
       "  <tbody>\n",
       "    <tr>\n",
       "      <th>304130</th>\n",
       "      <td>611478.392595</td>\n",
       "      <td>3.065966e+06</td>\n",
       "      <td>-7.042507</td>\n",
       "      <td>-1.88915</td>\n",
       "    </tr>\n",
       "    <tr>\n",
       "      <th>304131</th>\n",
       "      <td>611488.392595</td>\n",
       "      <td>3.065966e+06</td>\n",
       "      <td>-6.405008</td>\n",
       "      <td>-1.82628</td>\n",
       "    </tr>\n",
       "    <tr>\n",
       "      <th>304132</th>\n",
       "      <td>611458.392595</td>\n",
       "      <td>3.065956e+06</td>\n",
       "      <td>0.118772</td>\n",
       "      <td>0.34019</td>\n",
       "    </tr>\n",
       "    <tr>\n",
       "      <th>304133</th>\n",
       "      <td>611468.392595</td>\n",
       "      <td>3.065956e+06</td>\n",
       "      <td>-5.220378</td>\n",
       "      <td>-1.69431</td>\n",
       "    </tr>\n",
       "    <tr>\n",
       "      <th>304134</th>\n",
       "      <td>611478.392595</td>\n",
       "      <td>3.065956e+06</td>\n",
       "      <td>-6.974749</td>\n",
       "      <td>-1.88285</td>\n",
       "    </tr>\n",
       "  </tbody>\n",
       "</table>\n",
       "</div>"
      ],
      "text/plain": [
       "                    x             y        dh   nscore\n",
       "304130  611478.392595  3.065966e+06 -7.042507 -1.88915\n",
       "304131  611488.392595  3.065966e+06 -6.405008 -1.82628\n",
       "304132  611458.392595  3.065956e+06  0.118772  0.34019\n",
       "304133  611468.392595  3.065956e+06 -5.220378 -1.69431\n",
       "304134  611478.392595  3.065956e+06 -6.974749 -1.88285"
      ]
     },
     "execution_count": 16,
     "metadata": {},
     "output_type": "execute_result"
    }
   ],
   "source": [
    "df.tail()"
   ]
  },
  {
   "cell_type": "markdown",
   "metadata": {},
   "source": [
    "#### experimental variogram"
   ]
  },
  {
   "cell_type": "code",
   "execution_count": 17,
   "metadata": {},
   "outputs": [],
   "source": [
    "lag_x,gamma_x,npair_x=GeostatsPy.gamv_2d(df,'x','y','nscore',20,10,90,0,1)\n"
   ]
  },
  {
   "cell_type": "code",
   "execution_count": 18,
   "metadata": {},
   "outputs": [
    {
     "data": {
      "text/plain": [
       "[0.0,\n",
       " 0.0,\n",
       " 12.73,\n",
       " 21.565,\n",
       " 29.954,\n",
       " 40.947,\n",
       " 51.374,\n",
       " 60.518,\n",
       " 70.609,\n",
       " 80.408,\n",
       " 90.563,\n",
       " 100.966,\n",
       " 110.76,\n",
       " 120.31,\n",
       " 130.112,\n",
       " 140.516,\n",
       " 150.003,\n",
       " 159.882,\n",
       " 170.727,\n",
       " 181.054,\n",
       " 190.657,\n",
       " 199.992]"
      ]
     },
     "execution_count": 18,
     "metadata": {},
     "output_type": "execute_result"
    }
   ],
   "source": [
    "lag_x"
   ]
  },
  {
   "cell_type": "code",
   "execution_count": 19,
   "metadata": {},
   "outputs": [],
   "source": [
    "lag_y,gamma_y,npair_y=GeostatsPy.gamv_2d(df,'x','y','nscore',20,10,0,0,1)"
   ]
  },
  {
   "cell_type": "code",
   "execution_count": 22,
   "metadata": {},
   "outputs": [
    {
     "data": {
      "text/plain": [
       "[0.0,\n",
       " 0.0,\n",
       " 0.12242,\n",
       " 0.2051,\n",
       " 0.28328,\n",
       " 0.37082,\n",
       " 0.43983,\n",
       " 0.49188,\n",
       " 0.53818,\n",
       " 0.57266,\n",
       " 0.60435,\n",
       " 0.62901,\n",
       " 0.65327,\n",
       " 0.6647,\n",
       " 0.67711,\n",
       " 0.68007,\n",
       " 0.6817,\n",
       " 0.68409,\n",
       " 0.68349,\n",
       " 0.68883,\n",
       " 0.68728,\n",
       " 0.68705]"
      ]
     },
     "execution_count": 22,
     "metadata": {},
     "output_type": "execute_result"
    }
   ],
   "source": [
    "gamma_y"
   ]
  },
  {
   "cell_type": "markdown",
   "metadata": {},
   "source": [
    "#### Modeled spherical variogram and plotting"
   ]
  },
  {
   "cell_type": "code",
   "execution_count": 21,
   "metadata": {},
   "outputs": [
    {
     "ename": "NameError",
     "evalue": "name 'lags' is not defined",
     "output_type": "error",
     "traceback": [
      "\u001b[0;31m---------------------------------------------------------------------------\u001b[0m",
      "\u001b[0;31mNameError\u001b[0m                                 Traceback (most recent call last)",
      "\u001b[0;32m<ipython-input-21-db4ee597c20f>\u001b[0m in \u001b[0;36m<module>\u001b[0;34m()\u001b[0m\n\u001b[1;32m     11\u001b[0m \u001b[0mvtype\u001b[0m \u001b[0;34m=\u001b[0m \u001b[0;34m[\u001b[0m\u001b[0;36m0\u001b[0m\u001b[0;34m,\u001b[0m\u001b[0;36m0\u001b[0m\u001b[0;34m,\u001b[0m\u001b[0;36m1\u001b[0m\u001b[0;34m,\u001b[0m\u001b[0;36m1\u001b[0m\u001b[0;34m]\u001b[0m                                                 \u001b[0;31m# indicate that the two variograms are experimental\u001b[0m\u001b[0;34m\u001b[0m\u001b[0m\n\u001b[1;32m     12\u001b[0m \u001b[0mname\u001b[0m \u001b[0;34m=\u001b[0m \u001b[0;34m[\u001b[0m\u001b[0;34m'Azi 090'\u001b[0m\u001b[0;34m,\u001b[0m\u001b[0;34m'Azi 000'\u001b[0m\u001b[0;34m,\u001b[0m\u001b[0;34m'Model 090'\u001b[0m\u001b[0;34m,\u001b[0m\u001b[0;34m'Model 000'\u001b[0m\u001b[0;34m]\u001b[0m              \u001b[0;31m# give the variograms names\u001b[0m\u001b[0;34m\u001b[0m\u001b[0m\n\u001b[0;32m---> 13\u001b[0;31m \u001b[0mGeostatsPy\u001b[0m\u001b[0;34m.\u001b[0m\u001b[0mvargplts\u001b[0m\u001b[0;34m(\u001b[0m\u001b[0mlags\u001b[0m\u001b[0;34m,\u001b[0m\u001b[0mgammas\u001b[0m\u001b[0;34m,\u001b[0m\u001b[0mnpairs\u001b[0m\u001b[0;34m,\u001b[0m\u001b[0mvtype\u001b[0m\u001b[0;34m,\u001b[0m\u001b[0mname\u001b[0m\u001b[0;34m,\u001b[0m\u001b[0;36m0\u001b[0m\u001b[0;34m,\u001b[0m\u001b[0;36m700\u001b[0m\u001b[0;34m,\u001b[0m\u001b[0;36m0\u001b[0m\u001b[0;34m,\u001b[0m\u001b[0;36m1.2\u001b[0m\u001b[0;34m,\u001b[0m\u001b[0;36m1\u001b[0m\u001b[0;34m,\u001b[0m\u001b[0;34m\"Test of Experimental and Model Variogram Calculation and Visualization\"\u001b[0m\u001b[0;34m,\u001b[0m\u001b[0mplt\u001b[0m\u001b[0;34m.\u001b[0m\u001b[0mcm\u001b[0m\u001b[0;34m.\u001b[0m\u001b[0mplasma\u001b[0m\u001b[0;34m)\u001b[0m\u001b[0;34m\u001b[0m\u001b[0m\n\u001b[0m",
      "\u001b[0;32m~/nobackup_shashank/gslib_executables/GeostatsPy/GeostatsPy.py\u001b[0m in \u001b[0;36mvargplts\u001b[0;34m(lag, gamma, npair, vtype, name, xmin, xmax, ymin, ymax, sill, title, cmap)\u001b[0m\n\u001b[1;32m    147\u001b[0m     \u001b[0mplt\u001b[0m\u001b[0;34m.\u001b[0m\u001b[0mfigure\u001b[0m\u001b[0;34m(\u001b[0m\u001b[0mfigsize\u001b[0m\u001b[0;34m=\u001b[0m\u001b[0;34m(\u001b[0m\u001b[0;36m8\u001b[0m\u001b[0;34m,\u001b[0m\u001b[0;36m6\u001b[0m\u001b[0;34m)\u001b[0m\u001b[0;34m)\u001b[0m\u001b[0;34m\u001b[0m\u001b[0m\n\u001b[1;32m    148\u001b[0m     \u001b[0mmarker\u001b[0m \u001b[0;34m=\u001b[0m \u001b[0;34m[\u001b[0m\u001b[0;34m\"o\"\u001b[0m\u001b[0;34m,\u001b[0m\u001b[0;34m\"v\"\u001b[0m\u001b[0;34m,\u001b[0m\u001b[0;34m\"s\"\u001b[0m\u001b[0;34m,\u001b[0m\u001b[0;34m\"h\"\u001b[0m\u001b[0;34m,\u001b[0m\u001b[0;34m\"^\"\u001b[0m\u001b[0;34m,\u001b[0m\u001b[0;34m\">\"\u001b[0m\u001b[0;34m,\u001b[0m\u001b[0;34m\"<\"\u001b[0m\u001b[0;34m]\u001b[0m\u001b[0;34m\u001b[0m\u001b[0m\n\u001b[0;32m--> 149\u001b[0;31m     \u001b[0mnvar\u001b[0m \u001b[0;34m=\u001b[0m \u001b[0mlags\u001b[0m\u001b[0;34m.\u001b[0m\u001b[0mshape\u001b[0m\u001b[0;34m[\u001b[0m\u001b[0;36m0\u001b[0m\u001b[0;34m]\u001b[0m\u001b[0;34m\u001b[0m\u001b[0m\n\u001b[0m\u001b[1;32m    150\u001b[0m     \u001b[0;32mfor\u001b[0m \u001b[0mivar\u001b[0m \u001b[0;32min\u001b[0m \u001b[0mrange\u001b[0m\u001b[0;34m(\u001b[0m\u001b[0;36m0\u001b[0m\u001b[0;34m,\u001b[0m \u001b[0mnvar\u001b[0m\u001b[0;34m)\u001b[0m\u001b[0;34m:\u001b[0m\u001b[0;34m\u001b[0m\u001b[0m\n\u001b[1;32m    151\u001b[0m         \u001b[0;32mif\u001b[0m \u001b[0mvtype\u001b[0m\u001b[0;34m[\u001b[0m\u001b[0mivar\u001b[0m\u001b[0;34m]\u001b[0m\u001b[0;34m==\u001b[0m\u001b[0;36m0\u001b[0m\u001b[0;34m:\u001b[0m\u001b[0;34m\u001b[0m\u001b[0m\n",
      "\u001b[0;31mNameError\u001b[0m: name 'lags' is not defined"
     ]
    },
    {
     "data": {
      "text/plain": [
       "<Figure size 576x432 with 0 Axes>"
      ]
     },
     "metadata": {},
     "output_type": "display_data"
    }
   ],
   "source": [
    "lags=np.array([lag_x,lag_y])\n",
    "gammas=np.array([gamma_x,gamma_y])\n",
    "vtype=[0,0]\n",
    "name=['Azi 00','Azi 90']\n",
    "lag_x_mod,gamma_x_mod = GeostatsPy.vmodel_2d(nlag=20,azi=90,step=10,nug=0,nst=1,tstr1=1,c1=1.0,azi1=90,rmaj1=700,rmin1=430)\n",
    "lag_y_mod,gamma_y_mod = GeostatsPy.vmodel_2d(nlag=20,azi=0,step=10,nug=0,nst=1,tstr1=1,c1=1.0,azi1=90,rmaj1=700,rmin1=430)\n",
    "\n",
    "lags = np.array([lag_x,lag_y,lag_x_mod,lag_y_mod])                # combine into in lists of arrays to pass to plotting\n",
    "gammas = np.array([gamma_x,gamma_y,gamma_x_mod,gamma_y_mod])\n",
    "npairs = np.array([npair_x,npair_y])\n",
    "vtype = [0,0,1,1]                                                 # indicate that the two variograms are experimental\n",
    "name = ['Azi 090','Azi 000','Model 090','Model 000']              # give the variograms names\n",
    "GeostatsPy.vargplts(lags,gammas,npairs,vtype,name,0,700,0,1.2,1,\"Test of Experimental and Model Variogram Calculation and Visualization\",plt.cm.plasma)\n"
   ]
  },
  {
   "cell_type": "markdown",
   "metadata": {},
   "source": [
    "## To Do\n",
    "#### nscore, experimental and model variogram done, fix error in plotting section of wrapper and try to attempt SGSIM"
   ]
  },
  {
   "cell_type": "code",
   "execution_count": null,
   "metadata": {},
   "outputs": [],
   "source": []
  }
 ],
 "metadata": {
  "kernelspec": {
   "display_name": "Python 3",
   "language": "python",
   "name": "python3"
  },
  "language_info": {
   "codemirror_mode": {
    "name": "ipython",
    "version": 3
   },
   "file_extension": ".py",
   "mimetype": "text/x-python",
   "name": "python",
   "nbconvert_exporter": "python",
   "pygments_lexer": "ipython3",
   "version": "3.6.6"
  }
 },
 "nbformat": 4,
 "nbformat_minor": 2
}
