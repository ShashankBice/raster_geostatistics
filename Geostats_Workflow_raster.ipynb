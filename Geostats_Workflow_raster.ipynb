{
 "cells": [
  {
   "cell_type": "code",
   "execution_count": 1,
   "metadata": {},
   "outputs": [],
   "source": [
    "from pygeotools.lib import  geolib, malib, iolib, warplib\n",
    "import geopandas as gpd\n",
    "import matplotlib.pyplot as plt\n",
    "%matplotlib inline\n",
    "import rasterio, affine\n",
    "from rasterio import features\n",
    "import numpy as np\n",
    "import pandas as pd\n",
    "from IPython.display import Image\n",
    "from scipy import stats"
   ]
  },
  {
   "cell_type": "code",
   "execution_count": 2,
   "metadata": {},
   "outputs": [],
   "source": [
    "import matplotlib.pyplot as plt"
   ]
  },
  {
   "cell_type": "markdown",
   "metadata": {},
   "source": [
    "#### Currently use  an already available wrapper around GSLIB https://github.com/GeostatsGuy/GeostatsPy/"
   ]
  },
  {
   "cell_type": "code",
   "execution_count": 38,
   "metadata": {},
   "outputs": [],
   "source": [
    "import sys\n",
    "GeoPy_path='/home/shashank/nobackup_shashank/gslib_executables/GeostatsPy/'\n",
    "sys.path.insert(0, GeoPy_path)\n",
    "import GeostatsPy"
   ]
  },
  {
   "cell_type": "code",
   "execution_count": 3,
   "metadata": {},
   "outputs": [],
   "source": [
    "shp_fn='../../raster_geostatistics/data/Sikkim_kanchenjunga.shp'\n",
    "raster_fn='../../raster_geostatistics/data/Rate_maps_Coregister-tile-0-last_inverted_ref.tif'"
   ]
  },
  {
   "cell_type": "code",
   "execution_count": 4,
   "metadata": {},
   "outputs": [],
   "source": [
    "shp_gdf=gpd.read_file(shp_fn)\n",
    "rasterio_dataset= rasterio.open(raster_fn)\n",
    "gt_r=rasterio_dataset.transform\n",
    "##### To convert back and forth from the gdal tuple to affine transform\n",
    "#https://www.perrygeo.com/python-affine-transforms.html\n",
    "gt_rp = gt_r.to_gdal()\n",
    "array_rasterio_masked=rasterio_dataset.read(1, masked=True)"
   ]
  },
  {
   "cell_type": "code",
   "execution_count": 5,
   "metadata": {},
   "outputs": [
    {
     "data": {
      "text/plain": [
       "<matplotlib.axes._subplots.AxesSubplot at 0x7f436b513160>"
      ]
     },
     "execution_count": 5,
     "metadata": {},
     "output_type": "execute_result"
    },
    {
     "data": {
      "image/png": "[encoded data removed]",
      "text/plain": [
       "<Figure size 432x288 with 1 Axes>"
      ]
     },
     "metadata": {
      "needs_background": "light"
     },
     "output_type": "display_data"
    }
   ],
   "source": [
    "shp_gdf_projected_raster=shp_gdf.copy()\n",
    "shp_gdf_projected_raster=shp_gdf_projected_raster.to_crs(rasterio_dataset.crs)\n",
    "shp_gdf_projected_buffer=shp_gdf_projected_raster.copy()\n",
    "shp_gdf_projected_buffer['geometry']=shp_gdf_projected_buffer.buffer(500)\n",
    "shp_gdf_projected_buffer.plot()"
   ]
  },
  {
   "cell_type": "code",
   "execution_count": 13,
   "metadata": {},
   "outputs": [
    {
     "data": {
      "text/plain": [
       "geopandas.geoseries.GeoSeries"
      ]
     },
     "execution_count": 13,
     "metadata": {},
     "output_type": "execute_result"
    }
   ],
   "source": [
    "type(shp_gdf_projected_buffer.geometry)"
   ]
  },
  {
   "cell_type": "code",
   "execution_count": 28,
   "metadata": {},
   "outputs": [
    {
     "data": {
      "text/plain": [
       "0    POLYGON ((599950.9148779241 3072879.162204025,...\n",
       "dtype: object"
      ]
     },
     "execution_count": 28,
     "metadata": {},
     "output_type": "execute_result"
    }
   ],
   "source": [
    "from geopandas import GeoSeries\n",
    "GeoSeries(shp_gdf_projected_buffer.geometry.values[0])"
   ]
  },
  {
   "cell_type": "code",
   "execution_count": 15,
   "metadata": {},
   "outputs": [
    {
     "ename": "TypeError",
     "evalue": "'Polygon' object is not iterable",
     "output_type": "error",
     "traceback": [
      "\u001b[0;31m---------------------------------------------------------------------------\u001b[0m",
      "\u001b[0;31mTypeError\u001b[0m                                 Traceback (most recent call last)",
      "\u001b[0;32m<ipython-input-15-227f9819d60d>\u001b[0m in \u001b[0;36m<module>\u001b[0;34m()\u001b[0m\n\u001b[0;32m----> 1\u001b[0;31m \u001b[0mshape_array\u001b[0m\u001b[0;34m=\u001b[0m\u001b[0mfeatures\u001b[0m\u001b[0;34m.\u001b[0m\u001b[0mrasterize\u001b[0m\u001b[0;34m(\u001b[0m\u001b[0mshp_gdf_projected_buffer\u001b[0m\u001b[0;34m.\u001b[0m\u001b[0mgeometry\u001b[0m\u001b[0;34m[\u001b[0m\u001b[0;36m0\u001b[0m\u001b[0;34m]\u001b[0m\u001b[0;34m,\u001b[0m \u001b[0mout_shape\u001b[0m\u001b[0;34m=\u001b[0m\u001b[0marray_rasterio_masked\u001b[0m\u001b[0;34m.\u001b[0m\u001b[0mshape\u001b[0m\u001b[0;34m,\u001b[0m\u001b[0mfill\u001b[0m\u001b[0;34m=\u001b[0m\u001b[0;34m-\u001b[0m\u001b[0;36m9999\u001b[0m\u001b[0;34m,\u001b[0m\u001b[0mtransform\u001b[0m\u001b[0;34m=\u001b[0m\u001b[0mrasterio_dataset\u001b[0m\u001b[0;34m.\u001b[0m\u001b[0mtransform\u001b[0m\u001b[0;34m,\u001b[0m\u001b[0mdtype\u001b[0m\u001b[0;34m=\u001b[0m\u001b[0mfloat\u001b[0m\u001b[0;34m)\u001b[0m\u001b[0;34m\u001b[0m\u001b[0m\n\u001b[0m\u001b[1;32m      2\u001b[0m \u001b[0mshape_masked\u001b[0m\u001b[0;34m=\u001b[0m\u001b[0mnp\u001b[0m\u001b[0;34m.\u001b[0m\u001b[0mma\u001b[0m\u001b[0;34m.\u001b[0m\u001b[0mmasked_where\u001b[0m\u001b[0;34m(\u001b[0m\u001b[0mshape_array\u001b[0m\u001b[0;34m==\u001b[0m\u001b[0;34m-\u001b[0m\u001b[0;36m9999\u001b[0m\u001b[0;34m,\u001b[0m \u001b[0mshape_array\u001b[0m\u001b[0;34m)\u001b[0m\u001b[0;34m\u001b[0m\u001b[0m\n\u001b[1;32m      3\u001b[0m \u001b[0mglacier_cutoff\u001b[0m\u001b[0;34m=\u001b[0m\u001b[0mnp\u001b[0m\u001b[0;34m.\u001b[0m\u001b[0mma\u001b[0m\u001b[0;34m.\u001b[0m\u001b[0marray\u001b[0m\u001b[0;34m(\u001b[0m\u001b[0marray_rasterio_masked\u001b[0m\u001b[0;34m,\u001b[0m \u001b[0mmask\u001b[0m\u001b[0;34m=\u001b[0m\u001b[0mshape_masked\u001b[0m\u001b[0;34m.\u001b[0m\u001b[0mmask\u001b[0m\u001b[0;34m)\u001b[0m\u001b[0;34m\u001b[0m\u001b[0m\n",
      "\u001b[0;32m~/.conda/envs/shashank_temp/lib/python3.6/site-packages/rasterio/env.py\u001b[0m in \u001b[0;36mwrapper\u001b[0;34m(*args, **kwds)\u001b[0m\n\u001b[1;32m    364\u001b[0m         \u001b[0;32melse\u001b[0m\u001b[0;34m:\u001b[0m\u001b[0;34m\u001b[0m\u001b[0m\n\u001b[1;32m    365\u001b[0m             \u001b[0;32mwith\u001b[0m \u001b[0mEnv\u001b[0m\u001b[0;34m.\u001b[0m\u001b[0mfrom_defaults\u001b[0m\u001b[0;34m(\u001b[0m\u001b[0;34m)\u001b[0m\u001b[0;34m:\u001b[0m\u001b[0;34m\u001b[0m\u001b[0m\n\u001b[0;32m--> 366\u001b[0;31m                 \u001b[0;32mreturn\u001b[0m \u001b[0mf\u001b[0m\u001b[0;34m(\u001b[0m\u001b[0;34m*\u001b[0m\u001b[0margs\u001b[0m\u001b[0;34m,\u001b[0m \u001b[0;34m**\u001b[0m\u001b[0mkwds\u001b[0m\u001b[0;34m)\u001b[0m\u001b[0;34m\u001b[0m\u001b[0m\n\u001b[0m\u001b[1;32m    367\u001b[0m     \u001b[0;32mreturn\u001b[0m \u001b[0mwrapper\u001b[0m\u001b[0;34m\u001b[0m\u001b[0m\n\u001b[1;32m    368\u001b[0m \u001b[0;34m\u001b[0m\u001b[0m\n",
      "\u001b[0;32m~/.conda/envs/shashank_temp/lib/python3.6/site-packages/rasterio/features.py\u001b[0m in \u001b[0;36mrasterize\u001b[0;34m(shapes, out_shape, fill, out, transform, all_touched, merge_alg, default_value, dtype)\u001b[0m\n\u001b[1;32m    245\u001b[0m     \u001b[0mvalid_shapes\u001b[0m \u001b[0;34m=\u001b[0m \u001b[0;34m[\u001b[0m\u001b[0;34m]\u001b[0m\u001b[0;34m\u001b[0m\u001b[0m\n\u001b[1;32m    246\u001b[0m     \u001b[0mshape_values\u001b[0m \u001b[0;34m=\u001b[0m \u001b[0;34m[\u001b[0m\u001b[0;34m]\u001b[0m\u001b[0;34m\u001b[0m\u001b[0m\n\u001b[0;32m--> 247\u001b[0;31m     \u001b[0;32mfor\u001b[0m \u001b[0mindex\u001b[0m\u001b[0;34m,\u001b[0m \u001b[0mitem\u001b[0m \u001b[0;32min\u001b[0m \u001b[0menumerate\u001b[0m\u001b[0;34m(\u001b[0m\u001b[0mshapes\u001b[0m\u001b[0;34m)\u001b[0m\u001b[0;34m:\u001b[0m\u001b[0;34m\u001b[0m\u001b[0m\n\u001b[0m\u001b[1;32m    248\u001b[0m         \u001b[0;32mif\u001b[0m \u001b[0misinstance\u001b[0m\u001b[0;34m(\u001b[0m\u001b[0mitem\u001b[0m\u001b[0;34m,\u001b[0m \u001b[0;34m(\u001b[0m\u001b[0mtuple\u001b[0m\u001b[0;34m,\u001b[0m \u001b[0mlist\u001b[0m\u001b[0;34m)\u001b[0m\u001b[0;34m)\u001b[0m\u001b[0;34m:\u001b[0m\u001b[0;34m\u001b[0m\u001b[0m\n\u001b[1;32m    249\u001b[0m             \u001b[0mgeom\u001b[0m\u001b[0;34m,\u001b[0m \u001b[0mvalue\u001b[0m \u001b[0;34m=\u001b[0m \u001b[0mitem\u001b[0m\u001b[0;34m\u001b[0m\u001b[0m\n",
      "\u001b[0;31mTypeError\u001b[0m: 'Polygon' object is not iterable"
     ]
    }
   ],
   "source": [
    "shape_array=features.rasterize(shp_gdf_projected_buffer.geometry, out_shape=array_rasterio_masked.shape,fill=-9999,transform=rasterio_dataset.transform,dtype=float)\n",
    "shape_masked=np.ma.masked_where(shape_array==-9999, shape_array)\n",
    "glacier_cutoff=np.ma.array(array_rasterio_masked, mask=shape_masked.mask)"
   ]
  },
  {
   "cell_type": "markdown",
   "metadata": {},
   "source": [
    "### Trimming the masked array and associated gt"
   ]
  },
  {
   "cell_type": "code",
   "execution_count": 43,
   "metadata": {},
   "outputs": [
    {
     "name": "stdout",
     "output_type": "stream",
     "text": [
      "input gt | 10.00, 0.00, 551333.39|\n",
      "| 0.00,-10.00, 3115850.78|\n",
      "| 0.00, 0.00, 1.00|\n",
      "Output gt | 10.00, 0.00, 599713.39|\n",
      "| 0.00,-10.00, 3083580.78|\n",
      "| 0.00, 0.00, 1.00|\n"
     ]
    }
   ],
   "source": [
    "##*****Potential Function******##\n",
    "#trim the array\n",
    "trim_ar=malib.masktrim(glacier_cutoff)\n",
    "#trim the gt\n",
    "print(\"input gt\", gt_r)\n",
    "edge_env = malib.edgefind2(glacier_cutoff)\n",
    "out_gt=list(gt_rp)\n",
    "#update UL_X\n",
    "out_gt[0] = gt_rp[0] + gt_rp[1]*edge_env[2]\n",
    "#Update UL_y\n",
    "out_gt[3] = gt_rp[3] + gt_rp[5]*edge_env[0]\n",
    "out_gt = tuple(out_gt)\n",
    "#convert to rasterio gt\n",
    "out_gt_r=affine.Affine.from_gdal(*out_gt)\n",
    "print(\"Output gt\",out_gt_r)"
   ]
  },
  {
   "cell_type": "markdown",
   "metadata": {},
   "source": [
    "### Reading xyz"
   ]
  },
  {
   "cell_type": "code",
   "execution_count": 44,
   "metadata": {},
   "outputs": [
    {
     "data": {
      "text/html": [
       "<div>\n",
       "<style scoped>\n",
       "    .dataframe tbody tr th:only-of-type {\n",
       "        vertical-align: middle;\n",
       "    }\n",
       "\n",
       "    .dataframe tbody tr th {\n",
       "        vertical-align: top;\n",
       "    }\n",
       "\n",
       "    .dataframe thead th {\n",
       "        text-align: right;\n",
       "    }\n",
       "</style>\n",
       "<table border=\"1\" class=\"dataframe\">\n",
       "  <thead>\n",
       "    <tr style=\"text-align: right;\">\n",
       "      <th></th>\n",
       "      <th>x</th>\n",
       "      <th>y</th>\n",
       "      <th>dh</th>\n",
       "    </tr>\n",
       "  </thead>\n",
       "  <tbody>\n",
       "    <tr>\n",
       "      <th>0</th>\n",
       "      <td>613748.392595</td>\n",
       "      <td>3.083576e+06</td>\n",
       "      <td>-0.436620</td>\n",
       "    </tr>\n",
       "    <tr>\n",
       "      <th>1</th>\n",
       "      <td>613668.392595</td>\n",
       "      <td>3.083546e+06</td>\n",
       "      <td>-9.811455</td>\n",
       "    </tr>\n",
       "    <tr>\n",
       "      <th>2</th>\n",
       "      <td>613648.392595</td>\n",
       "      <td>3.083536e+06</td>\n",
       "      <td>-4.753187</td>\n",
       "    </tr>\n",
       "    <tr>\n",
       "      <th>3</th>\n",
       "      <td>613658.392595</td>\n",
       "      <td>3.083536e+06</td>\n",
       "      <td>-8.136490</td>\n",
       "    </tr>\n",
       "    <tr>\n",
       "      <th>4</th>\n",
       "      <td>613668.392595</td>\n",
       "      <td>3.083536e+06</td>\n",
       "      <td>-10.443363</td>\n",
       "    </tr>\n",
       "  </tbody>\n",
       "</table>\n",
       "</div>"
      ],
      "text/plain": [
       "               x             y         dh\n",
       "0  613748.392595  3.083576e+06  -0.436620\n",
       "1  613668.392595  3.083546e+06  -9.811455\n",
       "2  613648.392595  3.083536e+06  -4.753187\n",
       "3  613658.392595  3.083536e+06  -8.136490\n",
       "4  613668.392595  3.083536e+06 -10.443363"
      ]
     },
     "execution_count": 44,
     "metadata": {},
     "output_type": "execute_result"
    }
   ],
   "source": [
    "x, y = geolib.get_xy_ma(trim_ar, gt=out_gt, origmask=True)\n",
    "xyz = np.vstack((x.compressed(),y.compressed(),trim_ar.compressed())).T\n",
    "df=pd.DataFrame(xyz,columns=['x','y','dh'])\n",
    "df.head()"
   ]
  },
  {
   "cell_type": "markdown",
   "metadata": {},
   "source": [
    "### Declusterring data, assigning them wiegths\n"
   ]
  },
  {
   "cell_type": "code",
   "execution_count": null,
   "metadata": {},
   "outputs": [],
   "source": [
    "#weights=GeostatsPy.declus(df,'x','y','dh',100,1000,5,0)"
   ]
  },
  {
   "cell_type": "markdown",
   "metadata": {},
   "source": [
    "### nscore transform"
   ]
  },
  {
   "cell_type": "code",
   "execution_count": null,
   "metadata": {},
   "outputs": [],
   "source": [
    "dh_nscore=GeostatsPy.nscore(df.dh.values,df.dh.count())\n",
    "#### Error in data file problem, this expects a datafile, it probably expects a data"
   ]
  },
  {
   "cell_type": "code",
   "execution_count": null,
   "metadata": {},
   "outputs": [],
   "source": [
    "df.dh.values"
   ]
  },
  {
   "cell_type": "code",
   "execution_count": null,
   "metadata": {},
   "outputs": [],
   "source": [
    "dh_nscore.head(4)"
   ]
  },
  {
   "cell_type": "code",
   "execution_count": null,
   "metadata": {},
   "outputs": [],
   "source": [
    "hist=dh_nscore.hist()"
   ]
  },
  {
   "cell_type": "code",
   "execution_count": null,
   "metadata": {},
   "outputs": [],
   "source": [
    "df=df.assign(nscore=dh_nscore['NS:value'].values)"
   ]
  },
  {
   "cell_type": "code",
   "execution_count": null,
   "metadata": {},
   "outputs": [],
   "source": [
    "df.tail()"
   ]
  },
  {
   "cell_type": "markdown",
   "metadata": {},
   "source": [
    "#### Major Update:- If we compute the experimental semivariogram with azimuth of 0 degree(east-west) and put tolerance values of 90 degrees, the obtained variogram will pick up points from the entire 2d grid!\n",
    "### This is how it is done is softwares such as ARC GIS, Golden, Surfer etc!"
   ]
  },
  {
   "cell_type": "code",
   "execution_count": null,
   "metadata": {},
   "outputs": [],
   "source": [
    "Image('semivariogram_example_golden.png')"
   ]
  },
  {
   "cell_type": "markdown",
   "metadata": {},
   "source": [
    "#### experimental variogram"
   ]
  },
  {
   "cell_type": "code",
   "execution_count": null,
   "metadata": {},
   "outputs": [],
   "source": [
    "lag,gamma,npair=GeostatsPy.gamv_2d(df,'x','y','nscore',300,10,0,90,1)\n"
   ]
  },
  {
   "cell_type": "code",
   "execution_count": null,
   "metadata": {},
   "outputs": [],
   "source": [
    "lag_ns,gamma_ns,npair_ns=GeostatsPy.gamv_2d(df,'x','y','nscore',100,10,0,90,0)"
   ]
  },
  {
   "cell_type": "code",
   "execution_count": 46,
   "metadata": {},
   "outputs": [],
   "source": [
    "def plt_variogram(lag,gamma,npair):\n",
    "    sat=plt.scatter(lag,gamma,c=npair)\n",
    "    plt.ylim(0,1)\n",
    "    plt.grid()\n",
    "    cb = plt.colorbar(sat, spacing='proportional',label='No of pairs')\n",
    "    plt.yticks(np.arange(0,1.15,0.05))\n",
    "    plt.xticks(np.arange(0,3100,300))\n",
    "    plt.xlabel('Lag Distance (m)')\n",
    "    plt.ylabel('Variance (m^2)')\n",
    "    plt.plot()  "
   ]
  },
  {
   "cell_type": "code",
   "execution_count": null,
   "metadata": {},
   "outputs": [],
   "source": [
    "plt_variogram(lag,gamma,npair)"
   ]
  },
  {
   "cell_type": "code",
   "execution_count": null,
   "metadata": {},
   "outputs": [],
   "source": [
    "gamma[2:4]"
   ]
  },
  {
   "cell_type": "markdown",
   "metadata": {},
   "source": [
    "### As per literature, Sill = variance of data, for nscored data, this is equal to 1\n",
    "### We use range as the lag distance at which first sill is achieved (Assumption)\n",
    "### Nugget is the intercept obtained by fitting a line to first two non zero lags (Reference)\n"
   ]
  },
  {
   "cell_type": "markdown",
   "metadata": {},
   "source": [
    "def model_param(lag,gamma,npair):\n",
    "    sill=1\n",
    "    print('Sill=',sill)\n",
    "    idx=np.argmax(np.array(gamma)>sill)\n",
    "    print(idx)\n",
    "    vrange=lag[idx]\n",
    "    print(\"Range =\",vrange)\n",
    "    x=lag[0:4]\n",
    "    y=gamma[0:4]\n",
    "    slope,nugget,r,p,std=stats.linregress(x,y)\n",
    "    print(\"Nugget=\",nugget)\n",
    "    return (nugget,sill,vrange)"
   ]
  },
  {
   "cell_type": "code",
   "execution_count": null,
   "metadata": {},
   "outputs": [],
   "source": [
    "GeostatsPy.vmodel_2d()"
   ]
  },
  {
   "cell_type": "code",
   "execution_count": null,
   "metadata": {},
   "outputs": [],
   "source": []
  },
  {
   "cell_type": "code",
   "execution_count": null,
   "metadata": {},
   "outputs": [],
   "source": [
    "np.var(df.nscore.values)"
   ]
  },
  {
   "cell_type": "code",
   "execution_count": null,
   "metadata": {},
   "outputs": [],
   "source": [
    "plt.scatter(lag,gamma)\n",
    "plt.ylim(0,1)\n",
    "plt.grid()\n",
    "plt.yticks([0,0.05,0.1,0.15,0.2,0.25,0.30,0.35,0.40,0.45,0.5,0.55,0.6,0.65,0.7,0.75,0.8,0.85,0.9,0.95,1])"
   ]
  },
  {
   "cell_type": "code",
   "execution_count": null,
   "metadata": {},
   "outputs": [],
   "source": [
    "lag180,gamma180,npair180=GeostatsPy.gamv_2d(df,'x','y','nscore',300,10,0,180,1)\n",
    "lag360,gamma360,npair360=GeostatsPy.gamv_2d(df,'x','y','nscore',300,10,0,360,1)\n"
   ]
  },
  {
   "cell_type": "code",
   "execution_count": null,
   "metadata": {},
   "outputs": [],
   "source": [
    "plt_variogram(lag180,gamma180,npair180)"
   ]
  },
  {
   "cell_type": "code",
   "execution_count": null,
   "metadata": {},
   "outputs": [],
   "source": [
    "plt_variogram(lag360,gamma360,npair360)"
   ]
  },
  {
   "cell_type": "code",
   "execution_count": null,
   "metadata": {},
   "outputs": [],
   "source": [
    "def find_range():\n",
    "    \n",
    "    \n",
    "    return range_value"
   ]
  },
  {
   "cell_type": "code",
   "execution_count": null,
   "metadata": {},
   "outputs": [],
   "source": [
    "#lag_y,gamma_y,npair_y=GeostatsPy.gamv_2d(df,'x','y','nscore',20,10,0,0,1)"
   ]
  },
  {
   "cell_type": "code",
   "execution_count": null,
   "metadata": {},
   "outputs": [],
   "source": [
    "#gamma_y"
   ]
  },
  {
   "cell_type": "code",
   "execution_count": null,
   "metadata": {},
   "outputs": [],
   "source": [
    "lag_mod,gamma_mod = GeostatsPy.vmodel_2d(nlag=100,azi=90 ,step=10,nug=0,nst=1,tstr1=1,c1=1.0,azi1=90,rmaj1=700,rmin1=430)"
   ]
  },
  {
   "cell_type": "markdown",
   "metadata": {},
   "source": [
    "#### Modeled spherical variogram and plotting"
   ]
  },
  {
   "cell_type": "code",
   "execution_count": null,
   "metadata": {},
   "outputs": [],
   "source": [
    "lags=np.array([lag_x,lag_y])\n",
    "gammas=np.array([gamma_x,gamma_y])\n",
    "vtype=[0,0]\n",
    "name=['Azi 00','Azi 90']\n",
    "lag_x_mod,gamma_x_mod = GeostatsPy.vmodel_2d(nlag=20,azi=90,step=10,nug=0,nst=1,tstr1=1,c1=1.0,azi1=90,rmaj1=700,rmin1=430)\n",
    "lag_y_mod,gamma_y_mod = GeostatsPy.vmodel_2d(nlag=20,azi=0,step=10,nug=0,nst=1,tstr1=1,c1=1.0,azi1=90,rmaj1=700,rmin1=430)\n",
    "\n",
    "lags = np.array([lag_x,lag_y,lag_x_mod,lag_y_mod])                # combine into in lists of arrays to pass to plotting\n",
    "gammas = np.array([gamma_x,gamma_y,gamma_x_mod,gamma_y_mod])\n",
    "npairs = np.array([npair_x,npair_y])\n",
    "vtype = [0,0,1,1]                                                 # indicate that the two variograms are experimental\n",
    "name = ['Azi 090','Azi 000','Model 090','Model 000']              # give the variograms names\n",
    "GeostatsPy.vargplts(lags,gammas,npairs,vtype,name,0,700,0,1.2,1,\"Test of Experimental and Model Variogram Calculation and Visualization\",plt.cm.plasma)\n"
   ]
  },
  {
   "cell_type": "markdown",
   "metadata": {},
   "source": [
    "## To Do\n",
    "#### nscore, experimental and model variogram done, fix error in plotting section of wrapper and try to attempt SGSIM\n",
    "### error fixed, run with higher number of lags and check conditioning for modeled variogram\n",
    "#### attempt SGSIM"
   ]
  },
  {
   "cell_type": "code",
   "execution_count": null,
   "metadata": {},
   "outputs": [],
   "source": [
    "gamma_x_mod"
   ]
  },
  {
   "cell_type": "markdown",
   "metadata": {},
   "source": [
    "### Random Sample Experiment"
   ]
  },
  {
   "cell_type": "code",
   "execution_count": null,
   "metadata": {},
   "outputs": [],
   "source": [
    "df.head()"
   ]
  },
  {
   "cell_type": "code",
   "execution_count": null,
   "metadata": {},
   "outputs": [],
   "source": [
    "df_random=df.sample(n=10000)"
   ]
  },
  {
   "cell_type": "code",
   "execution_count": null,
   "metadata": {},
   "outputs": [],
   "source": [
    "df_random.dh.count()"
   ]
  },
  {
   "cell_type": "code",
   "execution_count": null,
   "metadata": {},
   "outputs": [],
   "source": [
    "dh_nscored=GeostatsPy.nscore(df_random.dh.values,df_random.dh.count())"
   ]
  },
  {
   "cell_type": "code",
   "execution_count": null,
   "metadata": {},
   "outputs": [],
   "source": [
    "df_random=df_random.assign(nscored_f=dh_nscored['NS:value'].values)"
   ]
  },
  {
   "cell_type": "code",
   "execution_count": null,
   "metadata": {},
   "outputs": [],
   "source": [
    "df_random.nscored_f.hist()"
   ]
  },
  {
   "cell_type": "code",
   "execution_count": null,
   "metadata": {},
   "outputs": [],
   "source": [
    "lag_sample,gamma_sample,npair_sample=GeostatsPy.gamv_2d(df_random,'x','y','nscored_f',300,10,0,90,1)\n",
    "lag180_sample,gamma180_sample,npair180_sample=GeostatsPy.gamv_2d(df_random,'x','y','nscored_f',300,10,0,180,1)\n",
    "lag360_sample,gamma360_sample,npair360_sample=GeostatsPy.gamv_2d(df_random,'x','y','nscored_f',300,10,0,360,1)"
   ]
  },
  {
   "cell_type": "code",
   "execution_count": null,
   "metadata": {},
   "outputs": [],
   "source": [
    "plt_variogram(lag_sample,gamma_sample,npair_sample)"
   ]
  },
  {
   "cell_type": "code",
   "execution_count": null,
   "metadata": {},
   "outputs": [],
   "source": [
    "plt_variogram(lag180_sample,gamma180_sample,npair180_sample)"
   ]
  },
  {
   "cell_type": "code",
   "execution_count": null,
   "metadata": {},
   "outputs": [],
   "source": [
    "plt_variogram(lag360_sample,gamma360_sample,npair360_sample)"
   ]
  },
  {
   "cell_type": "code",
   "execution_count": null,
   "metadata": {},
   "outputs": [],
   "source": [
    "#Full region stats\n",
    "nugget,sill,vrange=model_param(lag,gamma,npair)\n",
    "#10000 Sample stats\n",
    "nugget_samp,sill_samp,vrange_samp=model_param(lag_sample,gamma_sample,npair_sample)"
   ]
  },
  {
   "cell_type": "code",
   "execution_count": null,
   "metadata": {},
   "outputs": [],
   "source": [
    "lag,gamma,npair=GeostatsPy.gamv_2d(df,'x','y','nscore',300,10,0,90,1)\n",
    "lag180,gamma180,npair180=GeostatsPy.gamv_2d(df,'x','y','nscore',300,10,0,180,1)\n",
    "lag360,gamma360,npair360=GeostatsPy.gamv_2d(df,'x','y','nscore',300,10,0,360,1)"
   ]
  },
  {
   "cell_type": "code",
   "execution_count": null,
   "metadata": {},
   "outputs": [],
   "source": [
    "plt_variogram(lag,gamma,npair)"
   ]
  },
  {
   "cell_type": "code",
   "execution_count": null,
   "metadata": {},
   "outputs": [],
   "source": [
    "plt_variogram(lag360,gamma360,npair360)"
   ]
  },
  {
   "cell_type": "code",
   "execution_count": null,
   "metadata": {},
   "outputs": [],
   "source": [
    "df_full=pd.DataFrame('lag'=lag,'gamma'=gamma,npair='npair')"
   ]
  },
  {
   "cell_type": "code",
   "execution_count": null,
   "metadata": {},
   "outputs": [],
   "source": [
    "#d_full_90={'lag':lag,'gamma':gamma,'npair':npair}\n",
    "#df_full_90=pd.DataFrame(d_full_90)"
   ]
  },
  {
   "cell_type": "code",
   "execution_count": null,
   "metadata": {},
   "outputs": [],
   "source": [
    "df_full_90.tail()"
   ]
  },
  {
   "cell_type": "code",
   "execution_count": null,
   "metadata": {},
   "outputs": [],
   "source": [
    "#d_full_180={'lag':lag180,'gamma':gamma180,'npair':npair180}\n",
    "#df_full_180=pd.DataFrame(d_full_180)"
   ]
  },
  {
   "cell_type": "code",
   "execution_count": null,
   "metadata": {},
   "outputs": [],
   "source": [
    "#d_full_360={'lag':lag360,'gamma':gamma360,'npair':npair360}\n",
    "#df_full_360=pd.DataFrame(d_full_360)"
   ]
  },
  {
   "cell_type": "code",
   "execution_count": null,
   "metadata": {},
   "outputs": [],
   "source": [
    "#df_full_90.to_csv('Full_data_90.csv')\n",
    "#df_full_180.to_csv('Full_data_180.csv')\n",
    "#df_full_360.to_csv('Full_data_360.csv')"
   ]
  },
  {
   "cell_type": "markdown",
   "metadata": {},
   "source": [
    "### 50000 Sample Test Case"
   ]
  },
  {
   "cell_type": "code",
   "execution_count": null,
   "metadata": {},
   "outputs": [],
   "source": [
    "df_random=df.sample(n=50000)\n",
    "dh_nscored=GeostatsPy.nscore(df_random.dh.values,df_random.dh.count())\n",
    "df_random=df_random.assign(nscored_f=dh_nscored['NS:value'].values)\n",
    "lag_sample,gamma_sample,npair_sample=GeostatsPy.gamv_2d(df_random,'x','y','nscored_f',300,10,0,90,1)\n",
    "lag180_sample,gamma180_sample,npair180_sample=GeostatsPy.gamv_2d(df_random,'x','y','nscored_f',300,10,0,180,1)\n",
    "lag360_sample,gamma360_sample,npair360_sample=GeostatsPy.gamv_2d(df_random,'x','y','nscored_f',300,10,0,360,1)"
   ]
  },
  {
   "cell_type": "code",
   "execution_count": null,
   "metadata": {
    "scrolled": true
   },
   "outputs": [],
   "source": [
    "plt_variogram(lag360_sample,gamma360_sample,npair360_sample)"
   ]
  },
  {
   "cell_type": "code",
   "execution_count": null,
   "metadata": {},
   "outputs": [],
   "source": [
    "plt_variogram(lag180_sample,gamma180_sample,npair180_sample)"
   ]
  },
  {
   "cell_type": "code",
   "execution_count": null,
   "metadata": {},
   "outputs": [],
   "source": [
    "plt_variogram(lag_sample,gamma_sample,npair_sample)"
   ]
  },
  {
   "cell_type": "code",
   "execution_count": null,
   "metadata": {},
   "outputs": [],
   "source": [
    "#Full region stats\n",
    "nugget,sill,vrange=model_param(lag,gamma,npair)\n",
    "#50000 Sample stats\n",
    "nugget_samp,sill_samp,vrange_samp=model_param(lag_sample,gamma_sample,npair_sample)"
   ]
  },
  {
   "cell_type": "markdown",
   "metadata": {},
   "source": [
    "### 40000 points sub_sample\n",
    "\n",
    "\n",
    "\n"
   ]
  },
  {
   "cell_type": "code",
   "execution_count": null,
   "metadata": {},
   "outputs": [],
   "source": [
    "df_random=df.sample(n=40000)\n",
    "dh_nscored=GeostatsPy.nscore(df_random.dh.values,df_random.dh.count())\n",
    "df_random=df_random.assign(nscored_f=dh_nscored['NS:value'].values)\n",
    "lag_sample,gamma_sample,npair_sample=GeostatsPy.gamv_2d(df_random,'x','y','nscored_f',300,10,0,90,1)\n",
    "lag180_sample,gamma180_sample,npair180_sample=GeostatsPy.gamv_2d(df_random,'x','y','nscored_f',300,10,0,180,1)\n",
    "lag360_sample,gamma360_sample,npair360_sample=GeostatsPy.gamv_2d(df_random,'x','y','nscored_f',300,10,0,360,1)"
   ]
  },
  {
   "cell_type": "code",
   "execution_count": null,
   "metadata": {},
   "outputs": [],
   "source": [
    "#Full region stats\n",
    "nugget,sill,vrange=model_param(lag,gamma,npair)\n",
    "#40000 Sample stats\n",
    "nugget_samp,sill_samp,vrange_samp=model_param(lag_sample,gamma_sample,npair_sample)"
   ]
  },
  {
   "cell_type": "code",
   "execution_count": null,
   "metadata": {},
   "outputs": [],
   "source": [
    "plt_variogram(lag360_sample,gamma360_sample,npair360_sample)"
   ]
  },
  {
   "cell_type": "code",
   "execution_count": null,
   "metadata": {},
   "outputs": [],
   "source": [
    "plt_variogram(lag180_sample,gamma180_sample,npair180_sample)\n"
   ]
  },
  {
   "cell_type": "code",
   "execution_count": null,
   "metadata": {},
   "outputs": [],
   "source": [
    "plt_variogram(lag_sample,gamma_sample,npair_sample)"
   ]
  },
  {
   "cell_type": "markdown",
   "metadata": {},
   "source": [
    "### 10000 points sub_sample\n"
   ]
  },
  {
   "cell_type": "code",
   "execution_count": null,
   "metadata": {},
   "outputs": [],
   "source": [
    "df_random=df.sample(n=10000)\n",
    "dh_nscored=GeostatsPy.nscore(df_random.dh.values,df_random.dh.count())\n",
    "df_random=df_random.assign(nscored_f=dh_nscored['NS:value'].values)\n",
    "lag_sample,gamma_sample,npair_sample=GeostatsPy.gamv_2d(df_random,'x','y','nscored_f',300,10,0,90,1)\n",
    "lag180_sample,gamma180_sample,npair180_sample=GeostatsPy.gamv_2d(df_random,'x','y','nscored_f',300,10,0,180,1)\n",
    "lag360_sample,gamma360_sample,npair360_sample=GeostatsPy.gamv_2d(df_random,'x','y','nscored_f',300,10,0,360,1)"
   ]
  },
  {
   "cell_type": "code",
   "execution_count": null,
   "metadata": {},
   "outputs": [],
   "source": [
    "#Full region stats\n",
    "nugget,sill,vrange=model_param(lag,gamma,npair)\n",
    "#10000 Sample stats\n",
    "nugget_samp,sill_samp,vrange_samp=model_param(lag_sample,gamma_sample,npair_sample)"
   ]
  },
  {
   "cell_type": "markdown",
   "metadata": {},
   "source": [
    "### 1000 points sub_sample\n"
   ]
  },
  {
   "cell_type": "code",
   "execution_count": null,
   "metadata": {},
   "outputs": [],
   "source": [
    "df_random=df.sample(n=1000)\n",
    "dh_nscored=GeostatsPy.nscore(df_random.dh.values,df_random.dh.count())\n",
    "df_random=df_random.assign(nscored_f=dh_nscored['NS:value'].values)\n",
    "lag_sample,gamma_sample,npair_sample=GeostatsPy.gamv_2d(df_random,'x','y','nscored_f',300,10,0,90,1)\n",
    "lag180_sample,gamma180_sample,npair180_sample=GeostatsPy.gamv_2d(df_random,'x','y','nscored_f',300,10,0,180,1)\n",
    "lag360_sample,gamma360_sample,npair360_sample=GeostatsPy.gamv_2d(df_random,'x','y','nscored_f',300,10,0,360,1)"
   ]
  },
  {
   "cell_type": "code",
   "execution_count": null,
   "metadata": {},
   "outputs": [],
   "source": [
    "#Full region stats\n",
    "nugget,sill,vrange=model_param(lag,gamma,npair)\n",
    "#1000 Sample stats\n",
    "nugget_samp,sill_samp,vrange_samp=model_param(lag_sample,gamma_sample,npair_sample)"
   ]
  },
  {
   "cell_type": "markdown",
   "metadata": {},
   "source": [
    "### 5000 points sub_sample"
   ]
  },
  {
   "cell_type": "code",
   "execution_count": null,
   "metadata": {},
   "outputs": [],
   "source": [
    "df_random=df.sample(n=5000)\n",
    "dh_nscored=GeostatsPy.nscore(df_random.dh.values,df_random.dh.count())\n",
    "df_random=df_random.assign(nscored_f=dh_nscored['NS:value'].values)\n",
    "lag_sample,gamma_sample,npair_sample=GeostatsPy.gamv_2d(df_random,'x','y','nscored_f',300,10,0,90,1)\n",
    "lag180_sample,gamma180_sample,npair180_sample=GeostatsPy.gamv_2d(df_random,'x','y','nscored_f',300,10,0,180,1)\n",
    "lag360_sample,gamma360_sample,npair360_sample=GeostatsPy.gamv_2d(df_random,'x','y','nscored_f',300,10,0,360,1)"
   ]
  },
  {
   "cell_type": "code",
   "execution_count": null,
   "metadata": {
    "scrolled": true
   },
   "outputs": [],
   "source": [
    "#Full region stats\n",
    "nugget,sill,vrange=model_param(lag,gamma,npair)\n",
    "#5000 Sample stats\n",
    "nugget_samp,sill_samp,vrange_samp=model_param(lag_sample,gamma_sample,npair_sample)"
   ]
  },
  {
   "cell_type": "markdown",
   "metadata": {},
   "source": [
    "### 9000 points sub_sample\n"
   ]
  },
  {
   "cell_type": "code",
   "execution_count": null,
   "metadata": {},
   "outputs": [],
   "source": [
    "df_random=df.sample(n=9000)\n",
    "dh_nscored=GeostatsPy.nscore(df_random.dh.values,df_random.dh.count())\n",
    "df_random=df_random.assign(nscored_f=dh_nscored['NS:value'].values)\n",
    "lag_sample,gamma_sample,npair_sample=GeostatsPy.gamv_2d(df_random,'x','y','nscored_f',300,10,0,90,1)\n",
    "lag180_sample,gamma180_sample,npair180_sample=GeostatsPy.gamv_2d(df_random,'x','y','nscored_f',300,10,0,180,1)\n",
    "lag360_sample,gamma360_sample,npair360_sample=GeostatsPy.gamv_2d(df_random,'x','y','nscored_f',300,10,0,360,1)"
   ]
  },
  {
   "cell_type": "code",
   "execution_count": null,
   "metadata": {},
   "outputs": [],
   "source": [
    "#Full region stats\n",
    "nugget,sill,vrange=model_param(lag,gamma,npair)\n",
    "#9000 Sample stats\n",
    "nugget_samp,sill_samp,vrange_samp=model_param(lag_sample,gamma_sample,npair_sample)"
   ]
  },
  {
   "cell_type": "code",
   "execution_count": null,
   "metadata": {},
   "outputs": [],
   "source": [
    "#Variogram Model"
   ]
  },
  {
   "cell_type": "code",
   "execution_count": null,
   "metadata": {},
   "outputs": [],
   "source": [
    "lag_mod,gam_mod=GeostatsPy.vmodel_2d(nlag=300,step=10,azi=0,nug=0,nst=1,tstr1=1,c1=1,azi1=0,rmaj1=2380,rmin1=0.1)"
   ]
  },
  {
   "cell_type": "code",
   "execution_count": null,
   "metadata": {},
   "outputs": [],
   "source": [
    "plt_variogram(lag_mod,gam_mod,npair)"
   ]
  },
  {
   "cell_type": "markdown",
   "metadata": {},
   "source": [
    "#### Comparing omnidirectional, north_south and east_west direction variograms"
   ]
  },
  {
   "cell_type": "code",
   "execution_count": 73,
   "metadata": {},
   "outputs": [],
   "source": [
    "df_random=df.sample(n=18000)\n",
    "df_random.x=df_random.x.round(1)\n",
    "df_random.y=df_random.y.round(1)\n",
    "\n",
    "dh_nscored=GeostatsPy.nscore(df_random.dh.values,df_random.dh.count())\n",
    "df_random=df_random.assign(nscored_f=dh_nscored['NS:value'].values)\n",
    "lag_sample,gamma_sample,npair_sample=GeostatsPy.gamv_2d(df_random,'x','y','nscored_f',300,10,0,90,1)\n",
    "lag_ns_sample,gamma_ns_sample,npairP_ns_sample=GeostatsPy.gamv_2d(df_random,'x','y','nscored_f',300,10,0,10,1)\n",
    "lag_ew_sample,gamma_ew_sample,npair_ew_sample=GeostatsPy.gamv_2d(df_random,'x','y','nscored_f',300,10,90,10,1)"
   ]
  },
  {
   "cell_type": "code",
   "execution_count": 74,
   "metadata": {},
   "outputs": [
    {
     "data": {
      "image/png": "[encoded data removed]",
      "text/plain": [
       "<Figure size 432x288 with 2 Axes>"
      ]
     },
     "metadata": {
      "needs_background": "light"
     },
     "output_type": "display_data"
    }
   ],
   "source": [
    "plt_variogram(lag_sample,gamma_sample,npair_sample)"
   ]
  },
  {
   "cell_type": "code",
   "execution_count": 75,
   "metadata": {},
   "outputs": [
    {
     "data": {
      "image/png": "[encoded data removed]",
      "text/plain": [
       "<Figure size 432x288 with 2 Axes>"
      ]
     },
     "metadata": {
      "needs_background": "light"
     },
     "output_type": "display_data"
    }
   ],
   "source": [
    "plt_variogram(lag_ns_sample,gamma_ns_sample,npairP_ns_sample)"
   ]
  },
  {
   "cell_type": "code",
   "execution_count": 76,
   "metadata": {},
   "outputs": [
    {
     "data": {
      "image/png": "[encoded data removed]",
      "text/plain": [
       "<Figure size 432x288 with 2 Axes>"
      ]
     },
     "metadata": {
      "needs_background": "light"
     },
     "output_type": "display_data"
    }
   ],
   "source": [
    "plt_variogram(lag_ew_sample,gamma_ew_sample,npair_ew_sample)"
   ]
  },
  {
   "cell_type": "code",
   "execution_count": 77,
   "metadata": {},
   "outputs": [
    {
     "name": "stdout",
     "output_type": "stream",
     "text": [
      "Sill= 1\n",
      "222\n",
      "Range = 2210.331\n",
      "Nugget= -0.0061563636363636265\n",
      "Sill= 1\n",
      "227\n",
      "Range = 2260.556\n",
      "Nugget= -0.006170909090909074\n"
     ]
    }
   ],
   "source": [
    "#East_west region stats\n",
    "nugget_ew,sill_ew,vrange_ew=model_param(lag_ew_sample,gamma_ew_sample,npair_ew_sample)\n",
    "#North_south Sample stats\n",
    "nugget_ns,sill_ns,vrange_ns=model_param(lag_ns_sample,gamma_ns_sample,npairP_ns_sample)"
   ]
  },
  {
   "cell_type": "code",
   "execution_count": 52,
   "metadata": {},
   "outputs": [],
   "source": [
    "xmn,ymn,arb,aar1=rasterio_dataset.bounds"
   ]
  },
  {
   "cell_type": "code",
   "execution_count": 53,
   "metadata": {},
   "outputs": [
    {
     "data": {
      "text/plain": [
       "551333.3925950001"
      ]
     },
     "execution_count": 53,
     "metadata": {},
     "output_type": "execute_result"
    }
   ],
   "source": [
    "xmn"
   ]
  },
  {
   "cell_type": "code",
   "execution_count": 54,
   "metadata": {},
   "outputs": [
    {
     "data": {
      "text/plain": [
       "masked"
      ]
     },
     "execution_count": 54,
     "metadata": {},
     "output_type": "execute_result"
    }
   ],
   "source": [
    "y[0,-1]"
   ]
  },
  {
   "cell_type": "code",
   "execution_count": 55,
   "metadata": {},
   "outputs": [
    {
     "data": {
      "text/plain": [
       "(8653, 16353)"
      ]
     },
     "execution_count": 55,
     "metadata": {},
     "output_type": "execute_result"
    }
   ],
   "source": [
    "np.shape(glacier_cutoff)"
   ]
  },
  {
   "cell_type": "code",
   "execution_count": 56,
   "metadata": {},
   "outputs": [
    {
     "data": {
      "text/plain": [
       "(1763, 1916)"
      ]
     },
     "execution_count": 56,
     "metadata": {},
     "output_type": "execute_result"
    }
   ],
   "source": [
    "np.shape(trim_ar)"
   ]
  },
  {
   "cell_type": "code",
   "execution_count": 57,
   "metadata": {},
   "outputs": [],
   "source": [
    "ny,nx=np.shape(trim_ar)"
   ]
  },
  {
   "cell_type": "code",
   "execution_count": 58,
   "metadata": {},
   "outputs": [],
   "source": [
    "xmn = min(out_gt[0], out_gt[0] + nx * out_gt[1])\n",
    "ymn = min(out_gt[3], out_gt[3] + ny * out_gt[5])\n"
   ]
  },
  {
   "cell_type": "code",
   "execution_count": 59,
   "metadata": {},
   "outputs": [],
   "source": [
    "res=xsiz=ysiz=1000"
   ]
  },
  {
   "cell_type": "code",
   "execution_count": 60,
   "metadata": {},
   "outputs": [
    {
     "data": {
      "text/plain": [
       "1000"
      ]
     },
     "execution_count": 60,
     "metadata": {},
     "output_type": "execute_result"
    }
   ],
   "source": [
    "ysiz"
   ]
  },
  {
   "cell_type": "code",
   "execution_count": 78,
   "metadata": {},
   "outputs": [
    {
     "ename": "StopIteration",
     "evalue": "",
     "output_type": "error",
     "traceback": [
      "\u001b[0;31m---------------------------------------------------------------------------\u001b[0m",
      "\u001b[0;31mStopIteration\u001b[0m                             Traceback (most recent call last)",
      "\u001b[0;32m<ipython-input-78-c14d0e7e520f>\u001b[0m in \u001b[0;36m<module>\u001b[0;34m()\u001b[0m\n\u001b[0;32m----> 1\u001b[0;31m \u001b[0msgsim\u001b[0m\u001b[0;34m=\u001b[0m\u001b[0mGeostatsPy\u001b[0m\u001b[0;34m.\u001b[0m\u001b[0mGSLIB_sgsim_2d_cond\u001b[0m\u001b[0;34m(\u001b[0m\u001b[0mdf_random\u001b[0m\u001b[0;34m,\u001b[0m\u001b[0;34m'x'\u001b[0m\u001b[0;34m,\u001b[0m\u001b[0;34m'y'\u001b[0m\u001b[0;34m,\u001b[0m\u001b[0;34m'nscored_f'\u001b[0m\u001b[0;34m,\u001b[0m\u001b[0;36m2\u001b[0m\u001b[0;34m,\u001b[0m\u001b[0mxmn\u001b[0m\u001b[0;34m,\u001b[0m\u001b[0mymn\u001b[0m\u001b[0;34m,\u001b[0m\u001b[0mnx\u001b[0m\u001b[0;34m,\u001b[0m\u001b[0mny\u001b[0m\u001b[0;34m,\u001b[0m\u001b[0mres\u001b[0m\u001b[0;34m,\u001b[0m\u001b[0;36m7480751\u001b[0m\u001b[0;34m,\u001b[0m\u001b[0;36m2260.56\u001b[0m\u001b[0;34m,\u001b[0m\u001b[0;36m2210.33\u001b[0m\u001b[0;34m,\u001b[0m\u001b[0;36m90\u001b[0m\u001b[0;34m,\u001b[0m\u001b[0;34m'sgsim_2.out'\u001b[0m\u001b[0;34m)\u001b[0m\u001b[0;34m\u001b[0m\u001b[0m\n\u001b[0m",
      "\u001b[0;32m~/nobackup_shashank/gslib_executables/GeostatsPy/GeostatsPy.py\u001b[0m in \u001b[0;36mGSLIB_sgsim_2d_cond\u001b[0;34m(df, xcol, ycol, vcol, nreal, xmn, ymn, nx, ny, res, seed, hrange1, hrange2, azi, output_file)\u001b[0m\n\u001b[1;32m    605\u001b[0m     \u001b[0mcmd\u001b[0m \u001b[0;34m=\u001b[0m \u001b[0;34m[\u001b[0m\u001b[0;34m'sgsim'\u001b[0m\u001b[0;34m,\u001b[0m\u001b[0;34m'sgsim.par'\u001b[0m\u001b[0;34m]\u001b[0m\u001b[0;34m\u001b[0m\u001b[0m\n\u001b[1;32m    606\u001b[0m     \u001b[0msubprocess\u001b[0m\u001b[0;34m.\u001b[0m\u001b[0mcall\u001b[0m\u001b[0;34m(\u001b[0m\u001b[0mcmd\u001b[0m\u001b[0;34m)\u001b[0m\u001b[0;34m\u001b[0m\u001b[0m\n\u001b[0;32m--> 607\u001b[0;31m     \u001b[0msim_array\u001b[0m \u001b[0;34m=\u001b[0m \u001b[0mGSLIB2ndarray\u001b[0m\u001b[0;34m(\u001b[0m\u001b[0moutput_file\u001b[0m\u001b[0;34m,\u001b[0m\u001b[0;36m0\u001b[0m\u001b[0;34m,\u001b[0m\u001b[0mnx\u001b[0m\u001b[0;34m,\u001b[0m\u001b[0mny\u001b[0m\u001b[0;34m)\u001b[0m\u001b[0;34m\u001b[0m\u001b[0m\n\u001b[0m\u001b[1;32m    608\u001b[0m     \u001b[0;32mreturn\u001b[0m\u001b[0;34m(\u001b[0m\u001b[0msim_array\u001b[0m\u001b[0;34m)\u001b[0m\u001b[0;34m\u001b[0m\u001b[0m\n\u001b[1;32m    609\u001b[0m \u001b[0;34m\u001b[0m\u001b[0m\n",
      "\u001b[0;32m~/nobackup_shashank/gslib_executables/GeostatsPy/GeostatsPy.py\u001b[0m in \u001b[0;36mGSLIB2ndarray\u001b[0;34m(data_file, kcol, nx, ny)\u001b[0m\n\u001b[1;32m     55\u001b[0m \u001b[0;34m\u001b[0m\u001b[0m\n\u001b[1;32m     56\u001b[0m     \u001b[0;32mwith\u001b[0m \u001b[0mopen\u001b[0m\u001b[0;34m(\u001b[0m\u001b[0mdata_file\u001b[0m\u001b[0;34m)\u001b[0m \u001b[0;32mas\u001b[0m \u001b[0mmyfile\u001b[0m\u001b[0;34m:\u001b[0m   \u001b[0;31m# read first two lines\u001b[0m\u001b[0;34m\u001b[0m\u001b[0m\n\u001b[0;32m---> 57\u001b[0;31m         \u001b[0mhead\u001b[0m \u001b[0;34m=\u001b[0m \u001b[0;34m[\u001b[0m\u001b[0mnext\u001b[0m\u001b[0;34m(\u001b[0m\u001b[0mmyfile\u001b[0m\u001b[0;34m)\u001b[0m \u001b[0;32mfor\u001b[0m \u001b[0mx\u001b[0m \u001b[0;32min\u001b[0m \u001b[0mrange\u001b[0m\u001b[0;34m(\u001b[0m\u001b[0;36m2\u001b[0m\u001b[0;34m)\u001b[0m\u001b[0;34m]\u001b[0m\u001b[0;34m\u001b[0m\u001b[0m\n\u001b[0m\u001b[1;32m     58\u001b[0m         \u001b[0mline2\u001b[0m \u001b[0;34m=\u001b[0m \u001b[0mhead\u001b[0m\u001b[0;34m[\u001b[0m\u001b[0;36m1\u001b[0m\u001b[0;34m]\u001b[0m\u001b[0;34m.\u001b[0m\u001b[0msplit\u001b[0m\u001b[0;34m(\u001b[0m\u001b[0;34m)\u001b[0m\u001b[0;34m\u001b[0m\u001b[0m\n\u001b[1;32m     59\u001b[0m         \u001b[0mncol\u001b[0m \u001b[0;34m=\u001b[0m \u001b[0mint\u001b[0m\u001b[0;34m(\u001b[0m\u001b[0mline2\u001b[0m\u001b[0;34m[\u001b[0m\u001b[0;36m0\u001b[0m\u001b[0;34m]\u001b[0m\u001b[0;34m)\u001b[0m          \u001b[0;31m# get the number of columns\u001b[0m\u001b[0;34m\u001b[0m\u001b[0m\n",
      "\u001b[0;32m~/nobackup_shashank/gslib_executables/GeostatsPy/GeostatsPy.py\u001b[0m in \u001b[0;36m<listcomp>\u001b[0;34m(.0)\u001b[0m\n\u001b[1;32m     55\u001b[0m \u001b[0;34m\u001b[0m\u001b[0m\n\u001b[1;32m     56\u001b[0m     \u001b[0;32mwith\u001b[0m \u001b[0mopen\u001b[0m\u001b[0;34m(\u001b[0m\u001b[0mdata_file\u001b[0m\u001b[0;34m)\u001b[0m \u001b[0;32mas\u001b[0m \u001b[0mmyfile\u001b[0m\u001b[0;34m:\u001b[0m   \u001b[0;31m# read first two lines\u001b[0m\u001b[0;34m\u001b[0m\u001b[0m\n\u001b[0;32m---> 57\u001b[0;31m         \u001b[0mhead\u001b[0m \u001b[0;34m=\u001b[0m \u001b[0;34m[\u001b[0m\u001b[0mnext\u001b[0m\u001b[0;34m(\u001b[0m\u001b[0mmyfile\u001b[0m\u001b[0;34m)\u001b[0m \u001b[0;32mfor\u001b[0m \u001b[0mx\u001b[0m \u001b[0;32min\u001b[0m \u001b[0mrange\u001b[0m\u001b[0;34m(\u001b[0m\u001b[0;36m2\u001b[0m\u001b[0;34m)\u001b[0m\u001b[0;34m]\u001b[0m\u001b[0;34m\u001b[0m\u001b[0m\n\u001b[0m\u001b[1;32m     58\u001b[0m         \u001b[0mline2\u001b[0m \u001b[0;34m=\u001b[0m \u001b[0mhead\u001b[0m\u001b[0;34m[\u001b[0m\u001b[0;36m1\u001b[0m\u001b[0;34m]\u001b[0m\u001b[0;34m.\u001b[0m\u001b[0msplit\u001b[0m\u001b[0;34m(\u001b[0m\u001b[0;34m)\u001b[0m\u001b[0;34m\u001b[0m\u001b[0m\n\u001b[1;32m     59\u001b[0m         \u001b[0mncol\u001b[0m \u001b[0;34m=\u001b[0m \u001b[0mint\u001b[0m\u001b[0;34m(\u001b[0m\u001b[0mline2\u001b[0m\u001b[0;34m[\u001b[0m\u001b[0;36m0\u001b[0m\u001b[0;34m]\u001b[0m\u001b[0;34m)\u001b[0m          \u001b[0;31m# get the number of columns\u001b[0m\u001b[0;34m\u001b[0m\u001b[0m\n",
      "\u001b[0;31mStopIteration\u001b[0m: "
     ]
    }
   ],
   "source": [
    "sgsim=GeostatsPy.GSLIB_sgsim_2d_cond(df_random,'x','y','nscored_f',2,xmn,ymn,nx,ny,res,7480751,2260.56,2210.33,90,'sgsim_2.out')"
   ]
  },
  {
   "cell_type": "code",
   "execution_count": 65,
   "metadata": {},
   "outputs": [],
   "source": [
    "df_random.x=df_random.x.round(1)"
   ]
  },
  {
   "cell_type": "code",
   "execution_count": 66,
   "metadata": {},
   "outputs": [],
   "source": [
    "df_random.y=df_random.x.round(1)"
   ]
  },
  {
   "cell_type": "code",
   "execution_count": 67,
   "metadata": {},
   "outputs": [],
   "source": [
    "df_random.dh=df_random.dh.round(2)"
   ]
  },
  {
   "cell_type": "code",
   "execution_count": 68,
   "metadata": {},
   "outputs": [
    {
     "data": {
      "text/html": [
       "<div>\n",
       "<style scoped>\n",
       "    .dataframe tbody tr th:only-of-type {\n",
       "        vertical-align: middle;\n",
       "    }\n",
       "\n",
       "    .dataframe tbody tr th {\n",
       "        vertical-align: top;\n",
       "    }\n",
       "\n",
       "    .dataframe thead th {\n",
       "        text-align: right;\n",
       "    }\n",
       "</style>\n",
       "<table border=\"1\" class=\"dataframe\">\n",
       "  <thead>\n",
       "    <tr style=\"text-align: right;\">\n",
       "      <th></th>\n",
       "      <th>x</th>\n",
       "      <th>y</th>\n",
       "      <th>dh</th>\n",
       "      <th>nscored_f</th>\n",
       "    </tr>\n",
       "  </thead>\n",
       "  <tbody>\n",
       "    <tr>\n",
       "      <th>282355</th>\n",
       "      <td>612688.4</td>\n",
       "      <td>612688.4</td>\n",
       "      <td>-9.06</td>\n",
       "      <td>-2.02425</td>\n",
       "    </tr>\n",
       "    <tr>\n",
       "      <th>199126</th>\n",
       "      <td>610518.4</td>\n",
       "      <td>610518.4</td>\n",
       "      <td>-1.14</td>\n",
       "      <td>-0.81775</td>\n",
       "    </tr>\n",
       "    <tr>\n",
       "      <th>46692</th>\n",
       "      <td>614418.4</td>\n",
       "      <td>614418.4</td>\n",
       "      <td>-0.11</td>\n",
       "      <td>0.03475</td>\n",
       "    </tr>\n",
       "    <tr>\n",
       "      <th>25792</th>\n",
       "      <td>618318.4</td>\n",
       "      <td>618318.4</td>\n",
       "      <td>-0.15</td>\n",
       "      <td>-0.00856</td>\n",
       "    </tr>\n",
       "    <tr>\n",
       "      <th>102283</th>\n",
       "      <td>612388.4</td>\n",
       "      <td>612388.4</td>\n",
       "      <td>-0.25</td>\n",
       "      <td>-0.12264</td>\n",
       "    </tr>\n",
       "  </tbody>\n",
       "</table>\n",
       "</div>"
      ],
      "text/plain": [
       "               x         y    dh  nscored_f\n",
       "282355  612688.4  612688.4 -9.06   -2.02425\n",
       "199126  610518.4  610518.4 -1.14   -0.81775\n",
       "46692   614418.4  614418.4 -0.11    0.03475\n",
       "25792   618318.4  618318.4 -0.15   -0.00856\n",
       "102283  612388.4  612388.4 -0.25   -0.12264"
      ]
     },
     "execution_count": 68,
     "metadata": {},
     "output_type": "execute_result"
    }
   ],
   "source": [
    "df_random.head()"
   ]
  },
  {
   "cell_type": "code",
   "execution_count": null,
   "metadata": {},
   "outputs": [],
   "source": []
  }
 ],
 "metadata": {
  "kernelspec": {
   "display_name": "Python 3",
   "language": "python",
   "name": "python3"
  },
  "language_info": {
   "codemirror_mode": {
    "name": "ipython",
    "version": 3
   },
   "file_extension": ".py",
   "mimetype": "text/x-python",
   "name": "python",
   "nbconvert_exporter": "python",
   "pygments_lexer": "ipython3",
   "version": "3.6.6"
  }
 },
 "nbformat": 4,
 "nbformat_minor": 2
}
